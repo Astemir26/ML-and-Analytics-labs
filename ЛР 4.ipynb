{
  "nbformat": 4,
  "nbformat_minor": 0,
  "metadata": {
    "colab": {
      "provenance": []
    },
    "kernelspec": {
      "name": "python3",
      "display_name": "Python 3"
    },
    "language_info": {
      "name": "python"
    }
  },
  "cells": [
    {
      "cell_type": "markdown",
      "source": [
        "# Подключение гугл диска"
      ],
      "metadata": {
        "id": "p2dQFhudllEx"
      }
    },
    {
      "cell_type": "code",
      "source": [
        "from google.colab import drive\n",
        "drive.mount('/content/drive')"
      ],
      "metadata": {
        "colab": {
          "base_uri": "https://localhost:8080/"
        },
        "id": "YCzyXWOclbCe",
        "outputId": "3be6fd6c-9426-4ca0-a793-e8e5d6b77fa0"
      },
      "execution_count": null,
      "outputs": [
        {
          "output_type": "stream",
          "name": "stdout",
          "text": [
            "Drive already mounted at /content/drive; to attempt to forcibly remount, call drive.mount(\"/content/drive\", force_remount=True).\n"
          ]
        }
      ]
    },
    {
      "cell_type": "markdown",
      "source": [
        "# Импорт библиотек"
      ],
      "metadata": {
        "id": "JtbJayV_e-4Y"
      }
    },
    {
      "cell_type": "code",
      "source": [
        "!pip install catboost\n",
        "!pip install shap\n",
        "\n",
        "import shap\n",
        "import numpy as np\n",
        "import pandas as pd\n",
        "import seaborn as sns\n",
        "from matplotlib import pyplot as plt\n",
        "from matplotlib import rcParams\n",
        "import pandas as pd\n",
        "from catboost import CatBoostRegressor, Pool\n",
        "from sklearn.model_selection import train_test_split, StratifiedKFold\n",
        "\n",
        "from sklearn.metrics import mean_absolute_error, mean_squared_error, r2_score, mean_squared_log_error"
      ],
      "metadata": {
        "id": "aKzpGPN6ezjS",
        "colab": {
          "base_uri": "https://localhost:8080/"
        },
        "outputId": "21b7b672-e427-42b0-bac6-f2fed99dd45c"
      },
      "execution_count": null,
      "outputs": [
        {
          "output_type": "stream",
          "name": "stdout",
          "text": [
            "Looking in indexes: https://pypi.org/simple, https://us-python.pkg.dev/colab-wheels/public/simple/\n",
            "Requirement already satisfied: catboost in /usr/local/lib/python3.7/dist-packages (1.1.1)\n",
            "Requirement already satisfied: scipy in /usr/local/lib/python3.7/dist-packages (from catboost) (1.7.3)\n",
            "Requirement already satisfied: six in /usr/local/lib/python3.7/dist-packages (from catboost) (1.15.0)\n",
            "Requirement already satisfied: plotly in /usr/local/lib/python3.7/dist-packages (from catboost) (5.5.0)\n",
            "Requirement already satisfied: matplotlib in /usr/local/lib/python3.7/dist-packages (from catboost) (3.2.2)\n",
            "Requirement already satisfied: numpy>=1.16.0 in /usr/local/lib/python3.7/dist-packages (from catboost) (1.21.6)\n",
            "Requirement already satisfied: pandas>=0.24.0 in /usr/local/lib/python3.7/dist-packages (from catboost) (1.3.5)\n",
            "Requirement already satisfied: graphviz in /usr/local/lib/python3.7/dist-packages (from catboost) (0.10.1)\n",
            "Requirement already satisfied: pytz>=2017.3 in /usr/local/lib/python3.7/dist-packages (from pandas>=0.24.0->catboost) (2022.6)\n",
            "Requirement already satisfied: python-dateutil>=2.7.3 in /usr/local/lib/python3.7/dist-packages (from pandas>=0.24.0->catboost) (2.8.2)\n",
            "Requirement already satisfied: cycler>=0.10 in /usr/local/lib/python3.7/dist-packages (from matplotlib->catboost) (0.11.0)\n",
            "Requirement already satisfied: pyparsing!=2.0.4,!=2.1.2,!=2.1.6,>=2.0.1 in /usr/local/lib/python3.7/dist-packages (from matplotlib->catboost) (3.0.9)\n",
            "Requirement already satisfied: kiwisolver>=1.0.1 in /usr/local/lib/python3.7/dist-packages (from matplotlib->catboost) (1.4.4)\n",
            "Requirement already satisfied: typing-extensions in /usr/local/lib/python3.7/dist-packages (from kiwisolver>=1.0.1->matplotlib->catboost) (4.1.1)\n",
            "Requirement already satisfied: tenacity>=6.2.0 in /usr/local/lib/python3.7/dist-packages (from plotly->catboost) (8.1.0)\n",
            "Looking in indexes: https://pypi.org/simple, https://us-python.pkg.dev/colab-wheels/public/simple/\n",
            "Requirement already satisfied: shap in /usr/local/lib/python3.7/dist-packages (0.41.0)\n",
            "Requirement already satisfied: slicer==0.0.7 in /usr/local/lib/python3.7/dist-packages (from shap) (0.0.7)\n",
            "Requirement already satisfied: pandas in /usr/local/lib/python3.7/dist-packages (from shap) (1.3.5)\n",
            "Requirement already satisfied: numba in /usr/local/lib/python3.7/dist-packages (from shap) (0.56.4)\n",
            "Requirement already satisfied: numpy in /usr/local/lib/python3.7/dist-packages (from shap) (1.21.6)\n",
            "Requirement already satisfied: scipy in /usr/local/lib/python3.7/dist-packages (from shap) (1.7.3)\n",
            "Requirement already satisfied: tqdm>4.25.0 in /usr/local/lib/python3.7/dist-packages (from shap) (4.64.1)\n",
            "Requirement already satisfied: packaging>20.9 in /usr/local/lib/python3.7/dist-packages (from shap) (21.3)\n",
            "Requirement already satisfied: cloudpickle in /usr/local/lib/python3.7/dist-packages (from shap) (1.5.0)\n",
            "Requirement already satisfied: scikit-learn in /usr/local/lib/python3.7/dist-packages (from shap) (1.0.2)\n",
            "Requirement already satisfied: pyparsing!=3.0.5,>=2.0.2 in /usr/local/lib/python3.7/dist-packages (from packaging>20.9->shap) (3.0.9)\n",
            "Requirement already satisfied: importlib-metadata in /usr/local/lib/python3.7/dist-packages (from numba->shap) (4.13.0)\n",
            "Requirement already satisfied: setuptools in /usr/local/lib/python3.7/dist-packages (from numba->shap) (57.4.0)\n",
            "Requirement already satisfied: llvmlite<0.40,>=0.39.0dev0 in /usr/local/lib/python3.7/dist-packages (from numba->shap) (0.39.1)\n",
            "Requirement already satisfied: typing-extensions>=3.6.4 in /usr/local/lib/python3.7/dist-packages (from importlib-metadata->numba->shap) (4.1.1)\n",
            "Requirement already satisfied: zipp>=0.5 in /usr/local/lib/python3.7/dist-packages (from importlib-metadata->numba->shap) (3.10.0)\n",
            "Requirement already satisfied: pytz>=2017.3 in /usr/local/lib/python3.7/dist-packages (from pandas->shap) (2022.6)\n",
            "Requirement already satisfied: python-dateutil>=2.7.3 in /usr/local/lib/python3.7/dist-packages (from pandas->shap) (2.8.2)\n",
            "Requirement already satisfied: six>=1.5 in /usr/local/lib/python3.7/dist-packages (from python-dateutil>=2.7.3->pandas->shap) (1.15.0)\n",
            "Requirement already satisfied: threadpoolctl>=2.0.0 in /usr/local/lib/python3.7/dist-packages (from scikit-learn->shap) (3.1.0)\n",
            "Requirement already satisfied: joblib>=0.11 in /usr/local/lib/python3.7/dist-packages (from scikit-learn->shap) (1.2.0)\n"
          ]
        }
      ]
    },
    {
      "cell_type": "markdown",
      "source": [
        "# Шаг 1. Загрузка данных и удаление выбросов"
      ],
      "metadata": {
        "id": "tEqSyiD7fv0C"
      }
    },
    {
      "cell_type": "code",
      "metadata": {
        "colab": {
          "base_uri": "https://localhost:8080/",
          "height": 386
        },
        "outputId": "a5842829-8c24-4cf2-8e04-a45fec737e37",
        "id": "HXV_hOdjWTxa"
      },
      "source": [
        "# Чтобы выполнить загрузку, нужно положить данные на свой гугл диск\n",
        "data = pd.read_csv('/content/drive/MyDrive/real_estate_data.csv', sep='\\t')\n",
        "data.head()"
      ],
      "execution_count": null,
      "outputs": [
        {
          "output_type": "execute_result",
          "data": {
            "text/plain": [
              "   total_images  last_price  total_area first_day_exposition  rooms  \\\n",
              "0            20  13000000.0       108.0  2019-03-07T00:00:00      3   \n",
              "1             7   3350000.0        40.4  2018-12-04T00:00:00      1   \n",
              "2            10   5196000.0        56.0  2015-08-20T00:00:00      2   \n",
              "3             0  64900000.0       159.0  2015-07-24T00:00:00      3   \n",
              "4             2  10000000.0       100.0  2018-06-19T00:00:00      2   \n",
              "\n",
              "   ceiling_height  floors_total  living_area  floor is_apartment  ...  \\\n",
              "0            2.70          16.0         51.0      8          NaN  ...   \n",
              "1             NaN          11.0         18.6      1          NaN  ...   \n",
              "2             NaN           5.0         34.3      4          NaN  ...   \n",
              "3             NaN          14.0          NaN      9          NaN  ...   \n",
              "4            3.03          14.0         32.0     13          NaN  ...   \n",
              "\n",
              "   kitchen_area  balcony    locality_name  airports_nearest  \\\n",
              "0          25.0      NaN  Санкт-Петербург           18863.0   \n",
              "1          11.0      2.0   посёлок Шушары           12817.0   \n",
              "2           8.3      0.0  Санкт-Петербург           21741.0   \n",
              "3           NaN      0.0  Санкт-Петербург           28098.0   \n",
              "4          41.0      NaN  Санкт-Петербург           31856.0   \n",
              "\n",
              "  cityCenters_nearest  parks_around3000  parks_nearest  ponds_around3000  \\\n",
              "0             16028.0               1.0          482.0               2.0   \n",
              "1             18603.0               0.0            NaN               0.0   \n",
              "2             13933.0               1.0           90.0               2.0   \n",
              "3              6800.0               2.0           84.0               3.0   \n",
              "4              8098.0               2.0          112.0               1.0   \n",
              "\n",
              "   ponds_nearest  days_exposition  \n",
              "0          755.0              NaN  \n",
              "1            NaN             81.0  \n",
              "2          574.0            558.0  \n",
              "3          234.0            424.0  \n",
              "4           48.0            121.0  \n",
              "\n",
              "[5 rows x 22 columns]"
            ],
            "text/html": [
              "\n",
              "  <div id=\"df-8a342faa-6478-4d28-b22a-bb9fa20da061\">\n",
              "    <div class=\"colab-df-container\">\n",
              "      <div>\n",
              "<style scoped>\n",
              "    .dataframe tbody tr th:only-of-type {\n",
              "        vertical-align: middle;\n",
              "    }\n",
              "\n",
              "    .dataframe tbody tr th {\n",
              "        vertical-align: top;\n",
              "    }\n",
              "\n",
              "    .dataframe thead th {\n",
              "        text-align: right;\n",
              "    }\n",
              "</style>\n",
              "<table border=\"1\" class=\"dataframe\">\n",
              "  <thead>\n",
              "    <tr style=\"text-align: right;\">\n",
              "      <th></th>\n",
              "      <th>total_images</th>\n",
              "      <th>last_price</th>\n",
              "      <th>total_area</th>\n",
              "      <th>first_day_exposition</th>\n",
              "      <th>rooms</th>\n",
              "      <th>ceiling_height</th>\n",
              "      <th>floors_total</th>\n",
              "      <th>living_area</th>\n",
              "      <th>floor</th>\n",
              "      <th>is_apartment</th>\n",
              "      <th>...</th>\n",
              "      <th>kitchen_area</th>\n",
              "      <th>balcony</th>\n",
              "      <th>locality_name</th>\n",
              "      <th>airports_nearest</th>\n",
              "      <th>cityCenters_nearest</th>\n",
              "      <th>parks_around3000</th>\n",
              "      <th>parks_nearest</th>\n",
              "      <th>ponds_around3000</th>\n",
              "      <th>ponds_nearest</th>\n",
              "      <th>days_exposition</th>\n",
              "    </tr>\n",
              "  </thead>\n",
              "  <tbody>\n",
              "    <tr>\n",
              "      <th>0</th>\n",
              "      <td>20</td>\n",
              "      <td>13000000.0</td>\n",
              "      <td>108.0</td>\n",
              "      <td>2019-03-07T00:00:00</td>\n",
              "      <td>3</td>\n",
              "      <td>2.70</td>\n",
              "      <td>16.0</td>\n",
              "      <td>51.0</td>\n",
              "      <td>8</td>\n",
              "      <td>NaN</td>\n",
              "      <td>...</td>\n",
              "      <td>25.0</td>\n",
              "      <td>NaN</td>\n",
              "      <td>Санкт-Петербург</td>\n",
              "      <td>18863.0</td>\n",
              "      <td>16028.0</td>\n",
              "      <td>1.0</td>\n",
              "      <td>482.0</td>\n",
              "      <td>2.0</td>\n",
              "      <td>755.0</td>\n",
              "      <td>NaN</td>\n",
              "    </tr>\n",
              "    <tr>\n",
              "      <th>1</th>\n",
              "      <td>7</td>\n",
              "      <td>3350000.0</td>\n",
              "      <td>40.4</td>\n",
              "      <td>2018-12-04T00:00:00</td>\n",
              "      <td>1</td>\n",
              "      <td>NaN</td>\n",
              "      <td>11.0</td>\n",
              "      <td>18.6</td>\n",
              "      <td>1</td>\n",
              "      <td>NaN</td>\n",
              "      <td>...</td>\n",
              "      <td>11.0</td>\n",
              "      <td>2.0</td>\n",
              "      <td>посёлок Шушары</td>\n",
              "      <td>12817.0</td>\n",
              "      <td>18603.0</td>\n",
              "      <td>0.0</td>\n",
              "      <td>NaN</td>\n",
              "      <td>0.0</td>\n",
              "      <td>NaN</td>\n",
              "      <td>81.0</td>\n",
              "    </tr>\n",
              "    <tr>\n",
              "      <th>2</th>\n",
              "      <td>10</td>\n",
              "      <td>5196000.0</td>\n",
              "      <td>56.0</td>\n",
              "      <td>2015-08-20T00:00:00</td>\n",
              "      <td>2</td>\n",
              "      <td>NaN</td>\n",
              "      <td>5.0</td>\n",
              "      <td>34.3</td>\n",
              "      <td>4</td>\n",
              "      <td>NaN</td>\n",
              "      <td>...</td>\n",
              "      <td>8.3</td>\n",
              "      <td>0.0</td>\n",
              "      <td>Санкт-Петербург</td>\n",
              "      <td>21741.0</td>\n",
              "      <td>13933.0</td>\n",
              "      <td>1.0</td>\n",
              "      <td>90.0</td>\n",
              "      <td>2.0</td>\n",
              "      <td>574.0</td>\n",
              "      <td>558.0</td>\n",
              "    </tr>\n",
              "    <tr>\n",
              "      <th>3</th>\n",
              "      <td>0</td>\n",
              "      <td>64900000.0</td>\n",
              "      <td>159.0</td>\n",
              "      <td>2015-07-24T00:00:00</td>\n",
              "      <td>3</td>\n",
              "      <td>NaN</td>\n",
              "      <td>14.0</td>\n",
              "      <td>NaN</td>\n",
              "      <td>9</td>\n",
              "      <td>NaN</td>\n",
              "      <td>...</td>\n",
              "      <td>NaN</td>\n",
              "      <td>0.0</td>\n",
              "      <td>Санкт-Петербург</td>\n",
              "      <td>28098.0</td>\n",
              "      <td>6800.0</td>\n",
              "      <td>2.0</td>\n",
              "      <td>84.0</td>\n",
              "      <td>3.0</td>\n",
              "      <td>234.0</td>\n",
              "      <td>424.0</td>\n",
              "    </tr>\n",
              "    <tr>\n",
              "      <th>4</th>\n",
              "      <td>2</td>\n",
              "      <td>10000000.0</td>\n",
              "      <td>100.0</td>\n",
              "      <td>2018-06-19T00:00:00</td>\n",
              "      <td>2</td>\n",
              "      <td>3.03</td>\n",
              "      <td>14.0</td>\n",
              "      <td>32.0</td>\n",
              "      <td>13</td>\n",
              "      <td>NaN</td>\n",
              "      <td>...</td>\n",
              "      <td>41.0</td>\n",
              "      <td>NaN</td>\n",
              "      <td>Санкт-Петербург</td>\n",
              "      <td>31856.0</td>\n",
              "      <td>8098.0</td>\n",
              "      <td>2.0</td>\n",
              "      <td>112.0</td>\n",
              "      <td>1.0</td>\n",
              "      <td>48.0</td>\n",
              "      <td>121.0</td>\n",
              "    </tr>\n",
              "  </tbody>\n",
              "</table>\n",
              "<p>5 rows × 22 columns</p>\n",
              "</div>\n",
              "      <button class=\"colab-df-convert\" onclick=\"convertToInteractive('df-8a342faa-6478-4d28-b22a-bb9fa20da061')\"\n",
              "              title=\"Convert this dataframe to an interactive table.\"\n",
              "              style=\"display:none;\">\n",
              "        \n",
              "  <svg xmlns=\"http://www.w3.org/2000/svg\" height=\"24px\"viewBox=\"0 0 24 24\"\n",
              "       width=\"24px\">\n",
              "    <path d=\"M0 0h24v24H0V0z\" fill=\"none\"/>\n",
              "    <path d=\"M18.56 5.44l.94 2.06.94-2.06 2.06-.94-2.06-.94-.94-2.06-.94 2.06-2.06.94zm-11 1L8.5 8.5l.94-2.06 2.06-.94-2.06-.94L8.5 2.5l-.94 2.06-2.06.94zm10 10l.94 2.06.94-2.06 2.06-.94-2.06-.94-.94-2.06-.94 2.06-2.06.94z\"/><path d=\"M17.41 7.96l-1.37-1.37c-.4-.4-.92-.59-1.43-.59-.52 0-1.04.2-1.43.59L10.3 9.45l-7.72 7.72c-.78.78-.78 2.05 0 2.83L4 21.41c.39.39.9.59 1.41.59.51 0 1.02-.2 1.41-.59l7.78-7.78 2.81-2.81c.8-.78.8-2.07 0-2.86zM5.41 20L4 18.59l7.72-7.72 1.47 1.35L5.41 20z\"/>\n",
              "  </svg>\n",
              "      </button>\n",
              "      \n",
              "  <style>\n",
              "    .colab-df-container {\n",
              "      display:flex;\n",
              "      flex-wrap:wrap;\n",
              "      gap: 12px;\n",
              "    }\n",
              "\n",
              "    .colab-df-convert {\n",
              "      background-color: #E8F0FE;\n",
              "      border: none;\n",
              "      border-radius: 50%;\n",
              "      cursor: pointer;\n",
              "      display: none;\n",
              "      fill: #1967D2;\n",
              "      height: 32px;\n",
              "      padding: 0 0 0 0;\n",
              "      width: 32px;\n",
              "    }\n",
              "\n",
              "    .colab-df-convert:hover {\n",
              "      background-color: #E2EBFA;\n",
              "      box-shadow: 0px 1px 2px rgba(60, 64, 67, 0.3), 0px 1px 3px 1px rgba(60, 64, 67, 0.15);\n",
              "      fill: #174EA6;\n",
              "    }\n",
              "\n",
              "    [theme=dark] .colab-df-convert {\n",
              "      background-color: #3B4455;\n",
              "      fill: #D2E3FC;\n",
              "    }\n",
              "\n",
              "    [theme=dark] .colab-df-convert:hover {\n",
              "      background-color: #434B5C;\n",
              "      box-shadow: 0px 1px 3px 1px rgba(0, 0, 0, 0.15);\n",
              "      filter: drop-shadow(0px 1px 2px rgba(0, 0, 0, 0.3));\n",
              "      fill: #FFFFFF;\n",
              "    }\n",
              "  </style>\n",
              "\n",
              "      <script>\n",
              "        const buttonEl =\n",
              "          document.querySelector('#df-8a342faa-6478-4d28-b22a-bb9fa20da061 button.colab-df-convert');\n",
              "        buttonEl.style.display =\n",
              "          google.colab.kernel.accessAllowed ? 'block' : 'none';\n",
              "\n",
              "        async function convertToInteractive(key) {\n",
              "          const element = document.querySelector('#df-8a342faa-6478-4d28-b22a-bb9fa20da061');\n",
              "          const dataTable =\n",
              "            await google.colab.kernel.invokeFunction('convertToInteractive',\n",
              "                                                     [key], {});\n",
              "          if (!dataTable) return;\n",
              "\n",
              "          const docLinkHtml = 'Like what you see? Visit the ' +\n",
              "            '<a target=\"_blank\" href=https://colab.research.google.com/notebooks/data_table.ipynb>data table notebook</a>'\n",
              "            + ' to learn more about interactive tables.';\n",
              "          element.innerHTML = '';\n",
              "          dataTable['output_type'] = 'display_data';\n",
              "          await google.colab.output.renderOutput(dataTable, element);\n",
              "          const docLink = document.createElement('div');\n",
              "          docLink.innerHTML = docLinkHtml;\n",
              "          element.appendChild(docLink);\n",
              "        }\n",
              "      </script>\n",
              "    </div>\n",
              "  </div>\n",
              "  "
            ]
          },
          "metadata": {},
          "execution_count": 67
        }
      ]
    },
    {
      "cell_type": "markdown",
      "source": [
        "Описание:\n",
        "\n",
        "- airports_nearest — расстояние до ближайшего аэропорта в метрах (м)\n",
        "\n",
        "- balcony — число балконов\n",
        "\n",
        "- ceiling_height — высота потолков (м)\n",
        "\n",
        "- cityCenters_nearest — расстояние до центра города (м)\n",
        "\n",
        "- days_exposition — сколько дней было размещено объявление (от публикации до снятия)\n",
        "\n",
        "- first_day_exposition — дата публикации\n",
        "\n",
        "- floor — этаж\n",
        "\n",
        "- floors_total — всего этажей в доме\n",
        "\n",
        "- is_apartment — апартаменты (булев тип)\n",
        "\n",
        "- kitchen_area — площадь кухни в квадратных метрах (м²)\n",
        "\n",
        "- last_price — цена на момент снятия с публикации\n",
        "\n",
        "- living_area — жилая площадь в квадратных метрах(м²)\n",
        "\n",
        "- locality_name — название населённого пункта\n",
        "\n",
        "- open_plan — свободная планировка (булев тип)\n",
        "\n",
        "- parks_around3000 — число парков в радиусе 3 км\n",
        "\n",
        "- parks_nearest — расстояние до ближайшего парка (м)\n",
        "\n",
        "- ponds_around3000 — число водоёмов в радиусе 3 км\n",
        "\n",
        "- ponds_nearest — расстояние до ближайшего водоёма (м)\n",
        "\n",
        "- rooms — число комнат\n",
        "\n",
        "- studio — квартира-студия (булев тип)\n",
        "\n",
        "- total_area — площадь квартиры в квадратных метрах (м²)\n",
        "\n",
        "- total_images — число фотографий квартиры в объявлении\n",
        "\n",
        "Пояснение: апартаменты — это нежилые помещения, не относящиеся к жилому фонду, но имеющие необходимые условия для проживания.\n"
      ],
      "metadata": {
        "id": "MeboLrEQjW8v"
      }
    },
    {
      "cell_type": "markdown",
      "source": [
        "## Удаление выбросов"
      ],
      "metadata": {
        "id": "VKexltW0csUG"
      }
    },
    {
      "cell_type": "markdown",
      "source": [
        "Удалим из датасета выбросы - воспользуемся методом, взятым с Kaggle (https://www.kaggle.com/code/hgultekin/box-plots-finding-all-outliers/notebook), но немного переделаем его под наши нужды - будем возвращать не Series выбросов, а уже очищенный. Следует отметить, что, по всей видимости, в boxplot используется немного другой способ вычисления, поэтому на графиках всё ещё будут оставаться чёрные точки, но уже не такие экстремальные. В любом случае мы гарантированно получим для каждого признака точки, которые лежат в заданных пределах, просто эти пределы будут чуть по-другому определены"
      ],
      "metadata": {
        "id": "TSUVrji0VEuQ"
      }
    },
    {
      "cell_type": "code",
      "source": [
        "def box_outliers(df, col_name):\n",
        "    Q1 = df[col_name].quantile(0.25)\n",
        "    Q3 = df[col_name].quantile(0.75)\n",
        "    IQR = Q3 - Q1\n",
        "    mask = (df[col_name] < Q1 - 1.5 * IQR) | (df[col_name] > Q3 + 1.5 * IQR)\n",
        "    df = df.drop(df[mask].index)\n",
        "    return df"
      ],
      "metadata": {
        "id": "I45Mm4vzeubg"
      },
      "execution_count": null,
      "outputs": []
    },
    {
      "cell_type": "markdown",
      "source": [
        "Проверим сначала на примере времени продажи"
      ],
      "metadata": {
        "id": "mROHMaBIi-hv"
      }
    },
    {
      "cell_type": "markdown",
      "source": [
        "До преобразования"
      ],
      "metadata": {
        "id": "o8BddjXtb66t"
      }
    },
    {
      "cell_type": "code",
      "source": [
        "sns.boxplot(x='days_exposition', data=data);"
      ],
      "metadata": {
        "colab": {
          "base_uri": "https://localhost:8080/",
          "height": 498
        },
        "id": "TcekLYBROsM7",
        "outputId": "f3233c32-7740-4b75-c7a1-056dc5436dd6"
      },
      "execution_count": null,
      "outputs": [
        {
          "output_type": "display_data",
          "data": {
            "text/plain": [
              "<Figure size 720x576 with 1 Axes>"
            ],
            "image/png": "[encoded data removed]"
          },
          "metadata": {
            "needs_background": "light"
          }
        }
      ]
    },
    {
      "cell_type": "markdown",
      "source": [
        "После преобразования"
      ],
      "metadata": {
        "id": "3Rj6uHQTcBeW"
      }
    },
    {
      "cell_type": "code",
      "source": [
        "df = data.copy()\n",
        "df = pd.DataFrame(box_outliers(df, 'days_exposition'))\n",
        "sns.boxplot(x='days_exposition', data=df);"
      ],
      "metadata": {
        "colab": {
          "base_uri": "https://localhost:8080/",
          "height": 498
        },
        "id": "YbjgEnLQOsVx",
        "outputId": "b45a8b60-f33e-40eb-dd52-a4fb989ef39a"
      },
      "execution_count": null,
      "outputs": [
        {
          "output_type": "display_data",
          "data": {
            "text/plain": [
              "<Figure size 720x576 with 1 Axes>"
            ],
            "image/png": "[encoded data removed]"
          },
          "metadata": {
            "needs_background": "light"
          }
        }
      ]
    },
    {
      "cell_type": "markdown",
      "source": [
        "Видим, что уже стало гораздо лучше. Теперь запустим цикл по всем числовым \n",
        "признакам и очистим датасет"
      ],
      "metadata": {
        "id": "yiBhQ6-IjFwl"
      }
    },
    {
      "cell_type": "code",
      "source": [
        "numerics = ['int16', 'int32', 'int64', 'float16', 'float32', 'float64']\n",
        "num_cols = data.select_dtypes(include=numerics)\n",
        "num_cols.head()"
      ],
      "metadata": {
        "colab": {
          "base_uri": "https://localhost:8080/",
          "height": 206
        },
        "id": "4JBzP06YjheK",
        "outputId": "f67a55f1-cc9b-4db2-c535-d03dcb806686"
      },
      "execution_count": null,
      "outputs": [
        {
          "output_type": "execute_result",
          "data": {
            "text/plain": [
              "   total_images  last_price  total_area  rooms  ceiling_height  floors_total  \\\n",
              "0            20  13000000.0       108.0      3            2.70          16.0   \n",
              "1             7   3350000.0        40.4      1             NaN          11.0   \n",
              "2            10   5196000.0        56.0      2             NaN           5.0   \n",
              "3             0  64900000.0       159.0      3             NaN          14.0   \n",
              "4             2  10000000.0       100.0      2            3.03          14.0   \n",
              "\n",
              "   living_area  floor  kitchen_area  balcony  airports_nearest  \\\n",
              "0         51.0      8          25.0      NaN           18863.0   \n",
              "1         18.6      1          11.0      2.0           12817.0   \n",
              "2         34.3      4           8.3      0.0           21741.0   \n",
              "3          NaN      9           NaN      0.0           28098.0   \n",
              "4         32.0     13          41.0      NaN           31856.0   \n",
              "\n",
              "   cityCenters_nearest  parks_around3000  parks_nearest  ponds_around3000  \\\n",
              "0              16028.0               1.0          482.0               2.0   \n",
              "1              18603.0               0.0            NaN               0.0   \n",
              "2              13933.0               1.0           90.0               2.0   \n",
              "3               6800.0               2.0           84.0               3.0   \n",
              "4               8098.0               2.0          112.0               1.0   \n",
              "\n",
              "   ponds_nearest  days_exposition  \n",
              "0          755.0              NaN  \n",
              "1            NaN             81.0  \n",
              "2          574.0            558.0  \n",
              "3          234.0            424.0  \n",
              "4           48.0            121.0  "
            ],
            "text/html": [
              "\n",
              "  <div id=\"df-693cbb91-db03-470e-9566-57e345e74f96\">\n",
              "    <div class=\"colab-df-container\">\n",
              "      <div>\n",
              "<style scoped>\n",
              "    .dataframe tbody tr th:only-of-type {\n",
              "        vertical-align: middle;\n",
              "    }\n",
              "\n",
              "    .dataframe tbody tr th {\n",
              "        vertical-align: top;\n",
              "    }\n",
              "\n",
              "    .dataframe thead th {\n",
              "        text-align: right;\n",
              "    }\n",
              "</style>\n",
              "<table border=\"1\" class=\"dataframe\">\n",
              "  <thead>\n",
              "    <tr style=\"text-align: right;\">\n",
              "      <th></th>\n",
              "      <th>total_images</th>\n",
              "      <th>last_price</th>\n",
              "      <th>total_area</th>\n",
              "      <th>rooms</th>\n",
              "      <th>ceiling_height</th>\n",
              "      <th>floors_total</th>\n",
              "      <th>living_area</th>\n",
              "      <th>floor</th>\n",
              "      <th>kitchen_area</th>\n",
              "      <th>balcony</th>\n",
              "      <th>airports_nearest</th>\n",
              "      <th>cityCenters_nearest</th>\n",
              "      <th>parks_around3000</th>\n",
              "      <th>parks_nearest</th>\n",
              "      <th>ponds_around3000</th>\n",
              "      <th>ponds_nearest</th>\n",
              "      <th>days_exposition</th>\n",
              "    </tr>\n",
              "  </thead>\n",
              "  <tbody>\n",
              "    <tr>\n",
              "      <th>0</th>\n",
              "      <td>20</td>\n",
              "      <td>13000000.0</td>\n",
              "      <td>108.0</td>\n",
              "      <td>3</td>\n",
              "      <td>2.70</td>\n",
              "      <td>16.0</td>\n",
              "      <td>51.0</td>\n",
              "      <td>8</td>\n",
              "      <td>25.0</td>\n",
              "      <td>NaN</td>\n",
              "      <td>18863.0</td>\n",
              "      <td>16028.0</td>\n",
              "      <td>1.0</td>\n",
              "      <td>482.0</td>\n",
              "      <td>2.0</td>\n",
              "      <td>755.0</td>\n",
              "      <td>NaN</td>\n",
              "    </tr>\n",
              "    <tr>\n",
              "      <th>1</th>\n",
              "      <td>7</td>\n",
              "      <td>3350000.0</td>\n",
              "      <td>40.4</td>\n",
              "      <td>1</td>\n",
              "      <td>NaN</td>\n",
              "      <td>11.0</td>\n",
              "      <td>18.6</td>\n",
              "      <td>1</td>\n",
              "      <td>11.0</td>\n",
              "      <td>2.0</td>\n",
              "      <td>12817.0</td>\n",
              "      <td>18603.0</td>\n",
              "      <td>0.0</td>\n",
              "      <td>NaN</td>\n",
              "      <td>0.0</td>\n",
              "      <td>NaN</td>\n",
              "      <td>81.0</td>\n",
              "    </tr>\n",
              "    <tr>\n",
              "      <th>2</th>\n",
              "      <td>10</td>\n",
              "      <td>5196000.0</td>\n",
              "      <td>56.0</td>\n",
              "      <td>2</td>\n",
              "      <td>NaN</td>\n",
              "      <td>5.0</td>\n",
              "      <td>34.3</td>\n",
              "      <td>4</td>\n",
              "      <td>8.3</td>\n",
              "      <td>0.0</td>\n",
              "      <td>21741.0</td>\n",
              "      <td>13933.0</td>\n",
              "      <td>1.0</td>\n",
              "      <td>90.0</td>\n",
              "      <td>2.0</td>\n",
              "      <td>574.0</td>\n",
              "      <td>558.0</td>\n",
              "    </tr>\n",
              "    <tr>\n",
              "      <th>3</th>\n",
              "      <td>0</td>\n",
              "      <td>64900000.0</td>\n",
              "      <td>159.0</td>\n",
              "      <td>3</td>\n",
              "      <td>NaN</td>\n",
              "      <td>14.0</td>\n",
              "      <td>NaN</td>\n",
              "      <td>9</td>\n",
              "      <td>NaN</td>\n",
              "      <td>0.0</td>\n",
              "      <td>28098.0</td>\n",
              "      <td>6800.0</td>\n",
              "      <td>2.0</td>\n",
              "      <td>84.0</td>\n",
              "      <td>3.0</td>\n",
              "      <td>234.0</td>\n",
              "      <td>424.0</td>\n",
              "    </tr>\n",
              "    <tr>\n",
              "      <th>4</th>\n",
              "      <td>2</td>\n",
              "      <td>10000000.0</td>\n",
              "      <td>100.0</td>\n",
              "      <td>2</td>\n",
              "      <td>3.03</td>\n",
              "      <td>14.0</td>\n",
              "      <td>32.0</td>\n",
              "      <td>13</td>\n",
              "      <td>41.0</td>\n",
              "      <td>NaN</td>\n",
              "      <td>31856.0</td>\n",
              "      <td>8098.0</td>\n",
              "      <td>2.0</td>\n",
              "      <td>112.0</td>\n",
              "      <td>1.0</td>\n",
              "      <td>48.0</td>\n",
              "      <td>121.0</td>\n",
              "    </tr>\n",
              "  </tbody>\n",
              "</table>\n",
              "</div>\n",
              "      <button class=\"colab-df-convert\" onclick=\"convertToInteractive('df-693cbb91-db03-470e-9566-57e345e74f96')\"\n",
              "              title=\"Convert this dataframe to an interactive table.\"\n",
              "              style=\"display:none;\">\n",
              "        \n",
              "  <svg xmlns=\"http://www.w3.org/2000/svg\" height=\"24px\"viewBox=\"0 0 24 24\"\n",
              "       width=\"24px\">\n",
              "    <path d=\"M0 0h24v24H0V0z\" fill=\"none\"/>\n",
              "    <path d=\"M18.56 5.44l.94 2.06.94-2.06 2.06-.94-2.06-.94-.94-2.06-.94 2.06-2.06.94zm-11 1L8.5 8.5l.94-2.06 2.06-.94-2.06-.94L8.5 2.5l-.94 2.06-2.06.94zm10 10l.94 2.06.94-2.06 2.06-.94-2.06-.94-.94-2.06-.94 2.06-2.06.94z\"/><path d=\"M17.41 7.96l-1.37-1.37c-.4-.4-.92-.59-1.43-.59-.52 0-1.04.2-1.43.59L10.3 9.45l-7.72 7.72c-.78.78-.78 2.05 0 2.83L4 21.41c.39.39.9.59 1.41.59.51 0 1.02-.2 1.41-.59l7.78-7.78 2.81-2.81c.8-.78.8-2.07 0-2.86zM5.41 20L4 18.59l7.72-7.72 1.47 1.35L5.41 20z\"/>\n",
              "  </svg>\n",
              "      </button>\n",
              "      \n",
              "  <style>\n",
              "    .colab-df-container {\n",
              "      display:flex;\n",
              "      flex-wrap:wrap;\n",
              "      gap: 12px;\n",
              "    }\n",
              "\n",
              "    .colab-df-convert {\n",
              "      background-color: #E8F0FE;\n",
              "      border: none;\n",
              "      border-radius: 50%;\n",
              "      cursor: pointer;\n",
              "      display: none;\n",
              "      fill: #1967D2;\n",
              "      height: 32px;\n",
              "      padding: 0 0 0 0;\n",
              "      width: 32px;\n",
              "    }\n",
              "\n",
              "    .colab-df-convert:hover {\n",
              "      background-color: #E2EBFA;\n",
              "      box-shadow: 0px 1px 2px rgba(60, 64, 67, 0.3), 0px 1px 3px 1px rgba(60, 64, 67, 0.15);\n",
              "      fill: #174EA6;\n",
              "    }\n",
              "\n",
              "    [theme=dark] .colab-df-convert {\n",
              "      background-color: #3B4455;\n",
              "      fill: #D2E3FC;\n",
              "    }\n",
              "\n",
              "    [theme=dark] .colab-df-convert:hover {\n",
              "      background-color: #434B5C;\n",
              "      box-shadow: 0px 1px 3px 1px rgba(0, 0, 0, 0.15);\n",
              "      filter: drop-shadow(0px 1px 2px rgba(0, 0, 0, 0.3));\n",
              "      fill: #FFFFFF;\n",
              "    }\n",
              "  </style>\n",
              "\n",
              "      <script>\n",
              "        const buttonEl =\n",
              "          document.querySelector('#df-693cbb91-db03-470e-9566-57e345e74f96 button.colab-df-convert');\n",
              "        buttonEl.style.display =\n",
              "          google.colab.kernel.accessAllowed ? 'block' : 'none';\n",
              "\n",
              "        async function convertToInteractive(key) {\n",
              "          const element = document.querySelector('#df-693cbb91-db03-470e-9566-57e345e74f96');\n",
              "          const dataTable =\n",
              "            await google.colab.kernel.invokeFunction('convertToInteractive',\n",
              "                                                     [key], {});\n",
              "          if (!dataTable) return;\n",
              "\n",
              "          const docLinkHtml = 'Like what you see? Visit the ' +\n",
              "            '<a target=\"_blank\" href=https://colab.research.google.com/notebooks/data_table.ipynb>data table notebook</a>'\n",
              "            + ' to learn more about interactive tables.';\n",
              "          element.innerHTML = '';\n",
              "          dataTable['output_type'] = 'display_data';\n",
              "          await google.colab.output.renderOutput(dataTable, element);\n",
              "          const docLink = document.createElement('div');\n",
              "          docLink.innerHTML = docLinkHtml;\n",
              "          element.appendChild(docLink);\n",
              "        }\n",
              "      </script>\n",
              "    </div>\n",
              "  </div>\n",
              "  "
            ]
          },
          "metadata": {},
          "execution_count": 71
        }
      ]
    },
    {
      "cell_type": "markdown",
      "source": [
        "Сформируем список ненулевых числовых столбцов. Это нужно для того, чтобы показать на некоторых признаках, как меняется график boxplot до и после нашего преобразования. Если в признаке присутствует значение Nan, то график просто не отрисуется, и у нас будет пустой холст\n",
        "\n",
        "При этом мы намеренно избавляемся от выбросов до заполнения пропусков, т.к.,иначе, после заполнения статистиками мы не сможем адекватно применить формулу для выброса (из-за того, что часть наших данных станет фиктивной). При этом, в обратную сторону, отсутствие выбросов должно приблизить статистики среднее/медиану к реальному мат. ожиданию, чему мы должны только радоваться\n",
        "\n"
      ],
      "metadata": {
        "id": "aDC1vo65YsNb"
      }
    },
    {
      "cell_type": "code",
      "source": [
        "data.info()"
      ],
      "metadata": {
        "colab": {
          "base_uri": "https://localhost:8080/"
        },
        "id": "lJ2dBeINXsyO",
        "outputId": "f2014ff9-dde1-4f60-aeb6-226da8551678"
      },
      "execution_count": null,
      "outputs": [
        {
          "output_type": "stream",
          "name": "stdout",
          "text": [
            "<class 'pandas.core.frame.DataFrame'>\n",
            "RangeIndex: 23699 entries, 0 to 23698\n",
            "Data columns (total 22 columns):\n",
            " #   Column                Non-Null Count  Dtype  \n",
            "---  ------                --------------  -----  \n",
            " 0   total_images          23699 non-null  int64  \n",
            " 1   last_price            23699 non-null  float64\n",
            " 2   total_area            23699 non-null  float64\n",
            " 3   first_day_exposition  23699 non-null  object \n",
            " 4   rooms                 23699 non-null  int64  \n",
            " 5   ceiling_height        14504 non-null  float64\n",
            " 6   floors_total          23613 non-null  float64\n",
            " 7   living_area           21796 non-null  float64\n",
            " 8   floor                 23699 non-null  int64  \n",
            " 9   is_apartment          2775 non-null   object \n",
            " 10  studio                23699 non-null  bool   \n",
            " 11  open_plan             23699 non-null  bool   \n",
            " 12  kitchen_area          21421 non-null  float64\n",
            " 13  balcony               12180 non-null  float64\n",
            " 14  locality_name         23650 non-null  object \n",
            " 15  airports_nearest      18157 non-null  float64\n",
            " 16  cityCenters_nearest   18180 non-null  float64\n",
            " 17  parks_around3000      18181 non-null  float64\n",
            " 18  parks_nearest         8079 non-null   float64\n",
            " 19  ponds_around3000      18181 non-null  float64\n",
            " 20  ponds_nearest         9110 non-null   float64\n",
            " 21  days_exposition       20518 non-null  float64\n",
            "dtypes: bool(2), float64(14), int64(3), object(3)\n",
            "memory usage: 3.7+ MB\n"
          ]
        }
      ]
    },
    {
      "cell_type": "code",
      "source": [
        "num_cols_without_nan = ['total_images', 'last_price', 'total_area', 'rooms']"
      ],
      "metadata": {
        "id": "nLRmWdbjXzRR"
      },
      "execution_count": null,
      "outputs": []
    },
    {
      "cell_type": "code",
      "source": [
        "num_of_cols = 2\n",
        "num_of_rows = 4\n",
        "\n",
        "fig, axs = plt.subplots(num_of_rows, num_of_cols, figsize=(10, 30))\n",
        "\n",
        "for x, i in zip(num_cols.columns, range(0, 17)):\n",
        "    if x in num_cols_without_nan:\n",
        "        axs[i][0].boxplot(x=x, data=data);\n",
        "\n",
        "    data = box_outliers(data, x)\n",
        "\n",
        "    if x in num_cols_without_nan:\n",
        "        axs[i][1].boxplot(x=x, data=data);"
      ],
      "metadata": {
        "colab": {
          "base_uri": "https://localhost:8080/",
          "height": 1000
        },
        "id": "cnoUAPa5kBDd",
        "outputId": "0da6ff04-c0de-447d-c9a7-1a3538932df2"
      },
      "execution_count": null,
      "outputs": [
        {
          "output_type": "display_data",
          "data": {
            "text/plain": [
              "<Figure size 720x2160 with 8 Axes>"
            ],
            "image/png": "[encoded data removed]"
          },
          "metadata": {
            "needs_background": "light"
          }
        }
      ]
    },
    {
      "cell_type": "code",
      "source": [
        "data.shape"
      ],
      "metadata": {
        "colab": {
          "base_uri": "https://localhost:8080/"
        },
        "id": "kyjqZAVODpet",
        "outputId": "8f9bdb87-980a-4b91-d2a9-74a34c6f1ed4"
      },
      "execution_count": null,
      "outputs": [
        {
          "output_type": "execute_result",
          "data": {
            "text/plain": [
              "(15175, 22)"
            ]
          },
          "metadata": {},
          "execution_count": 75
        }
      ]
    },
    {
      "cell_type": "markdown",
      "source": [
        "# Шаг 2. Предобработка данных"
      ],
      "metadata": {
        "id": "jByQrDaqfjqu"
      }
    },
    {
      "cell_type": "markdown",
      "source": [
        "## Заполнение пропусков"
      ],
      "metadata": {
        "id": "90UjsXrrfjqv"
      }
    },
    {
      "cell_type": "markdown",
      "source": [
        "Выведем полную информацию о датафрейме"
      ],
      "metadata": {
        "id": "mWT1wQTrfjqv"
      }
    },
    {
      "cell_type": "code",
      "source": [
        "data.info()"
      ],
      "metadata": {
        "colab": {
          "base_uri": "https://localhost:8080/"
        },
        "outputId": "279a824b-6db1-4f0b-a656-f926a33e36cd",
        "id": "EqgHaaUMfjqv"
      },
      "execution_count": null,
      "outputs": [
        {
          "output_type": "stream",
          "name": "stdout",
          "text": [
            "<class 'pandas.core.frame.DataFrame'>\n",
            "Int64Index: 15175 entries, 1 to 23698\n",
            "Data columns (total 22 columns):\n",
            " #   Column                Non-Null Count  Dtype  \n",
            "---  ------                --------------  -----  \n",
            " 0   total_images          15175 non-null  int64  \n",
            " 1   last_price            15175 non-null  float64\n",
            " 2   total_area            15175 non-null  float64\n",
            " 3   first_day_exposition  15175 non-null  object \n",
            " 4   rooms                 15175 non-null  int64  \n",
            " 5   ceiling_height        9043 non-null   float64\n",
            " 6   floors_total          15137 non-null  float64\n",
            " 7   living_area           13881 non-null  float64\n",
            " 8   floor                 15175 non-null  int64  \n",
            " 9   is_apartment          1649 non-null   object \n",
            " 10  studio                15175 non-null  bool   \n",
            " 11  open_plan             15175 non-null  bool   \n",
            " 12  kitchen_area          13625 non-null  float64\n",
            " 13  balcony               7958 non-null   float64\n",
            " 14  locality_name         15156 non-null  object \n",
            " 15  airports_nearest      10479 non-null  float64\n",
            " 16  cityCenters_nearest   10489 non-null  float64\n",
            " 17  parks_around3000      10490 non-null  float64\n",
            " 18  parks_nearest         3940 non-null   float64\n",
            " 19  ponds_around3000      10490 non-null  float64\n",
            " 20  ponds_nearest         4458 non-null   float64\n",
            " 21  days_exposition       13168 non-null  float64\n",
            "dtypes: bool(2), float64(14), int64(3), object(3)\n",
            "memory usage: 2.5+ MB\n"
          ]
        }
      ]
    },
    {
      "cell_type": "markdown",
      "source": [
        "Выведем основные статистики"
      ],
      "metadata": {
        "id": "z7U63TFefjqv"
      }
    },
    {
      "cell_type": "code",
      "source": [
        "data.describe()"
      ],
      "metadata": {
        "colab": {
          "base_uri": "https://localhost:8080/",
          "height": 300
        },
        "outputId": "b82022e7-b755-487f-e2d2-8b4a91a899c9",
        "id": "E23omI-3fjqw"
      },
      "execution_count": null,
      "outputs": [
        {
          "output_type": "execute_result",
          "data": {
            "text/plain": [
              "       total_images    last_price    total_area         rooms  ceiling_height  \\\n",
              "count  15175.000000  1.517500e+04  15175.000000  15175.000000     9043.000000   \n",
              "mean       9.742076  4.497193e+06     50.436381      1.866689        2.636041   \n",
              "std        5.472558  1.988256e+06     15.733047      0.860637        0.146407   \n",
              "min        0.000000  4.300000e+05     13.000000      0.000000        2.200000   \n",
              "25%        6.000000  3.200000e+06     38.000000      1.000000        2.500000   \n",
              "50%        9.000000  4.200000e+06     47.000000      2.000000        2.600000   \n",
              "75%       14.000000  5.536036e+06     60.100000      2.000000        2.700000   \n",
              "max       26.000000  1.180000e+07    100.200000      5.000000        3.120000   \n",
              "\n",
              "       floors_total   living_area         floor  kitchen_area      balcony  \\\n",
              "count  15137.000000  13881.000000  15175.000000  13625.000000  7958.000000   \n",
              "mean      10.785030     29.098793      5.522965      8.904773     1.157577   \n",
              "std        6.238989     11.488657      4.007241      2.612188     1.018640   \n",
              "min        1.000000      2.000000      1.000000      1.300000     0.000000   \n",
              "25%        5.000000     18.000000      2.000000      7.000000     0.000000   \n",
              "50%        9.000000     28.600000      4.000000      8.500000     1.000000   \n",
              "75%       16.000000     37.300000      8.000000     10.500000     2.000000   \n",
              "max       28.000000     68.000000     17.000000     16.800000     5.000000   \n",
              "\n",
              "       airports_nearest  cityCenters_nearest  parks_around3000  parks_nearest  \\\n",
              "count      10479.000000         10489.000000      10490.000000    3940.000000   \n",
              "mean       28591.041225         13231.372199          0.450906     462.102030   \n",
              "std        12835.513006          4090.091901          0.631068     216.481922   \n",
              "min            0.000000          2419.000000          0.000000       1.000000   \n",
              "25%        16501.000000         11088.000000          0.000000     309.000000   \n",
              "50%        28501.000000         13277.000000          0.000000     466.500000   \n",
              "75%        38190.000000         15664.000000          1.000000     611.000000   \n",
              "max        61710.000000         25308.000000          2.000000    1103.000000   \n",
              "\n",
              "       ponds_around3000  ponds_nearest  days_exposition  \n",
              "count      10490.000000    4458.000000     13168.000000  \n",
              "mean           0.512011     575.915433       114.457397  \n",
              "std            0.651127     277.607532       107.120296  \n",
              "min            0.000000      20.000000         1.000000  \n",
              "25%            0.000000     364.000000        37.000000  \n",
              "50%            0.000000     582.000000        74.000000  \n",
              "75%            1.000000     792.000000       163.000000  \n",
              "max            2.000000    1344.000000       452.000000  "
            ],
            "text/html": [
              "\n",
              "  <div id=\"df-3d5b5e73-f6a7-4242-9a0e-ed7ad0ed6475\">\n",
              "    <div class=\"colab-df-container\">\n",
              "      <div>\n",
              "<style scoped>\n",
              "    .dataframe tbody tr th:only-of-type {\n",
              "        vertical-align: middle;\n",
              "    }\n",
              "\n",
              "    .dataframe tbody tr th {\n",
              "        vertical-align: top;\n",
              "    }\n",
              "\n",
              "    .dataframe thead th {\n",
              "        text-align: right;\n",
              "    }\n",
              "</style>\n",
              "<table border=\"1\" class=\"dataframe\">\n",
              "  <thead>\n",
              "    <tr style=\"text-align: right;\">\n",
              "      <th></th>\n",
              "      <th>total_images</th>\n",
              "      <th>last_price</th>\n",
              "      <th>total_area</th>\n",
              "      <th>rooms</th>\n",
              "      <th>ceiling_height</th>\n",
              "      <th>floors_total</th>\n",
              "      <th>living_area</th>\n",
              "      <th>floor</th>\n",
              "      <th>kitchen_area</th>\n",
              "      <th>balcony</th>\n",
              "      <th>airports_nearest</th>\n",
              "      <th>cityCenters_nearest</th>\n",
              "      <th>parks_around3000</th>\n",
              "      <th>parks_nearest</th>\n",
              "      <th>ponds_around3000</th>\n",
              "      <th>ponds_nearest</th>\n",
              "      <th>days_exposition</th>\n",
              "    </tr>\n",
              "  </thead>\n",
              "  <tbody>\n",
              "    <tr>\n",
              "      <th>count</th>\n",
              "      <td>15175.000000</td>\n",
              "      <td>1.517500e+04</td>\n",
              "      <td>15175.000000</td>\n",
              "      <td>15175.000000</td>\n",
              "      <td>9043.000000</td>\n",
              "      <td>15137.000000</td>\n",
              "      <td>13881.000000</td>\n",
              "      <td>15175.000000</td>\n",
              "      <td>13625.000000</td>\n",
              "      <td>7958.000000</td>\n",
              "      <td>10479.000000</td>\n",
              "      <td>10489.000000</td>\n",
              "      <td>10490.000000</td>\n",
              "      <td>3940.000000</td>\n",
              "      <td>10490.000000</td>\n",
              "      <td>4458.000000</td>\n",
              "      <td>13168.000000</td>\n",
              "    </tr>\n",
              "    <tr>\n",
              "      <th>mean</th>\n",
              "      <td>9.742076</td>\n",
              "      <td>4.497193e+06</td>\n",
              "      <td>50.436381</td>\n",
              "      <td>1.866689</td>\n",
              "      <td>2.636041</td>\n",
              "      <td>10.785030</td>\n",
              "      <td>29.098793</td>\n",
              "      <td>5.522965</td>\n",
              "      <td>8.904773</td>\n",
              "      <td>1.157577</td>\n",
              "      <td>28591.041225</td>\n",
              "      <td>13231.372199</td>\n",
              "      <td>0.450906</td>\n",
              "      <td>462.102030</td>\n",
              "      <td>0.512011</td>\n",
              "      <td>575.915433</td>\n",
              "      <td>114.457397</td>\n",
              "    </tr>\n",
              "    <tr>\n",
              "      <th>std</th>\n",
              "      <td>5.472558</td>\n",
              "      <td>1.988256e+06</td>\n",
              "      <td>15.733047</td>\n",
              "      <td>0.860637</td>\n",
              "      <td>0.146407</td>\n",
              "      <td>6.238989</td>\n",
              "      <td>11.488657</td>\n",
              "      <td>4.007241</td>\n",
              "      <td>2.612188</td>\n",
              "      <td>1.018640</td>\n",
              "      <td>12835.513006</td>\n",
              "      <td>4090.091901</td>\n",
              "      <td>0.631068</td>\n",
              "      <td>216.481922</td>\n",
              "      <td>0.651127</td>\n",
              "      <td>277.607532</td>\n",
              "      <td>107.120296</td>\n",
              "    </tr>\n",
              "    <tr>\n",
              "      <th>min</th>\n",
              "      <td>0.000000</td>\n",
              "      <td>4.300000e+05</td>\n",
              "      <td>13.000000</td>\n",
              "      <td>0.000000</td>\n",
              "      <td>2.200000</td>\n",
              "      <td>1.000000</td>\n",
              "      <td>2.000000</td>\n",
              "      <td>1.000000</td>\n",
              "      <td>1.300000</td>\n",
              "      <td>0.000000</td>\n",
              "      <td>0.000000</td>\n",
              "      <td>2419.000000</td>\n",
              "      <td>0.000000</td>\n",
              "      <td>1.000000</td>\n",
              "      <td>0.000000</td>\n",
              "      <td>20.000000</td>\n",
              "      <td>1.000000</td>\n",
              "    </tr>\n",
              "    <tr>\n",
              "      <th>25%</th>\n",
              "      <td>6.000000</td>\n",
              "      <td>3.200000e+06</td>\n",
              "      <td>38.000000</td>\n",
              "      <td>1.000000</td>\n",
              "      <td>2.500000</td>\n",
              "      <td>5.000000</td>\n",
              "      <td>18.000000</td>\n",
              "      <td>2.000000</td>\n",
              "      <td>7.000000</td>\n",
              "      <td>0.000000</td>\n",
              "      <td>16501.000000</td>\n",
              "      <td>11088.000000</td>\n",
              "      <td>0.000000</td>\n",
              "      <td>309.000000</td>\n",
              "      <td>0.000000</td>\n",
              "      <td>364.000000</td>\n",
              "      <td>37.000000</td>\n",
              "    </tr>\n",
              "    <tr>\n",
              "      <th>50%</th>\n",
              "      <td>9.000000</td>\n",
              "      <td>4.200000e+06</td>\n",
              "      <td>47.000000</td>\n",
              "      <td>2.000000</td>\n",
              "      <td>2.600000</td>\n",
              "      <td>9.000000</td>\n",
              "      <td>28.600000</td>\n",
              "      <td>4.000000</td>\n",
              "      <td>8.500000</td>\n",
              "      <td>1.000000</td>\n",
              "      <td>28501.000000</td>\n",
              "      <td>13277.000000</td>\n",
              "      <td>0.000000</td>\n",
              "      <td>466.500000</td>\n",
              "      <td>0.000000</td>\n",
              "      <td>582.000000</td>\n",
              "      <td>74.000000</td>\n",
              "    </tr>\n",
              "    <tr>\n",
              "      <th>75%</th>\n",
              "      <td>14.000000</td>\n",
              "      <td>5.536036e+06</td>\n",
              "      <td>60.100000</td>\n",
              "      <td>2.000000</td>\n",
              "      <td>2.700000</td>\n",
              "      <td>16.000000</td>\n",
              "      <td>37.300000</td>\n",
              "      <td>8.000000</td>\n",
              "      <td>10.500000</td>\n",
              "      <td>2.000000</td>\n",
              "      <td>38190.000000</td>\n",
              "      <td>15664.000000</td>\n",
              "      <td>1.000000</td>\n",
              "      <td>611.000000</td>\n",
              "      <td>1.000000</td>\n",
              "      <td>792.000000</td>\n",
              "      <td>163.000000</td>\n",
              "    </tr>\n",
              "    <tr>\n",
              "      <th>max</th>\n",
              "      <td>26.000000</td>\n",
              "      <td>1.180000e+07</td>\n",
              "      <td>100.200000</td>\n",
              "      <td>5.000000</td>\n",
              "      <td>3.120000</td>\n",
              "      <td>28.000000</td>\n",
              "      <td>68.000000</td>\n",
              "      <td>17.000000</td>\n",
              "      <td>16.800000</td>\n",
              "      <td>5.000000</td>\n",
              "      <td>61710.000000</td>\n",
              "      <td>25308.000000</td>\n",
              "      <td>2.000000</td>\n",
              "      <td>1103.000000</td>\n",
              "      <td>2.000000</td>\n",
              "      <td>1344.000000</td>\n",
              "      <td>452.000000</td>\n",
              "    </tr>\n",
              "  </tbody>\n",
              "</table>\n",
              "</div>\n",
              "      <button class=\"colab-df-convert\" onclick=\"convertToInteractive('df-3d5b5e73-f6a7-4242-9a0e-ed7ad0ed6475')\"\n",
              "              title=\"Convert this dataframe to an interactive table.\"\n",
              "              style=\"display:none;\">\n",
              "        \n",
              "  <svg xmlns=\"http://www.w3.org/2000/svg\" height=\"24px\"viewBox=\"0 0 24 24\"\n",
              "       width=\"24px\">\n",
              "    <path d=\"M0 0h24v24H0V0z\" fill=\"none\"/>\n",
              "    <path d=\"M18.56 5.44l.94 2.06.94-2.06 2.06-.94-2.06-.94-.94-2.06-.94 2.06-2.06.94zm-11 1L8.5 8.5l.94-2.06 2.06-.94-2.06-.94L8.5 2.5l-.94 2.06-2.06.94zm10 10l.94 2.06.94-2.06 2.06-.94-2.06-.94-.94-2.06-.94 2.06-2.06.94z\"/><path d=\"M17.41 7.96l-1.37-1.37c-.4-.4-.92-.59-1.43-.59-.52 0-1.04.2-1.43.59L10.3 9.45l-7.72 7.72c-.78.78-.78 2.05 0 2.83L4 21.41c.39.39.9.59 1.41.59.51 0 1.02-.2 1.41-.59l7.78-7.78 2.81-2.81c.8-.78.8-2.07 0-2.86zM5.41 20L4 18.59l7.72-7.72 1.47 1.35L5.41 20z\"/>\n",
              "  </svg>\n",
              "      </button>\n",
              "      \n",
              "  <style>\n",
              "    .colab-df-container {\n",
              "      display:flex;\n",
              "      flex-wrap:wrap;\n",
              "      gap: 12px;\n",
              "    }\n",
              "\n",
              "    .colab-df-convert {\n",
              "      background-color: #E8F0FE;\n",
              "      border: none;\n",
              "      border-radius: 50%;\n",
              "      cursor: pointer;\n",
              "      display: none;\n",
              "      fill: #1967D2;\n",
              "      height: 32px;\n",
              "      padding: 0 0 0 0;\n",
              "      width: 32px;\n",
              "    }\n",
              "\n",
              "    .colab-df-convert:hover {\n",
              "      background-color: #E2EBFA;\n",
              "      box-shadow: 0px 1px 2px rgba(60, 64, 67, 0.3), 0px 1px 3px 1px rgba(60, 64, 67, 0.15);\n",
              "      fill: #174EA6;\n",
              "    }\n",
              "\n",
              "    [theme=dark] .colab-df-convert {\n",
              "      background-color: #3B4455;\n",
              "      fill: #D2E3FC;\n",
              "    }\n",
              "\n",
              "    [theme=dark] .colab-df-convert:hover {\n",
              "      background-color: #434B5C;\n",
              "      box-shadow: 0px 1px 3px 1px rgba(0, 0, 0, 0.15);\n",
              "      filter: drop-shadow(0px 1px 2px rgba(0, 0, 0, 0.3));\n",
              "      fill: #FFFFFF;\n",
              "    }\n",
              "  </style>\n",
              "\n",
              "      <script>\n",
              "        const buttonEl =\n",
              "          document.querySelector('#df-3d5b5e73-f6a7-4242-9a0e-ed7ad0ed6475 button.colab-df-convert');\n",
              "        buttonEl.style.display =\n",
              "          google.colab.kernel.accessAllowed ? 'block' : 'none';\n",
              "\n",
              "        async function convertToInteractive(key) {\n",
              "          const element = document.querySelector('#df-3d5b5e73-f6a7-4242-9a0e-ed7ad0ed6475');\n",
              "          const dataTable =\n",
              "            await google.colab.kernel.invokeFunction('convertToInteractive',\n",
              "                                                     [key], {});\n",
              "          if (!dataTable) return;\n",
              "\n",
              "          const docLinkHtml = 'Like what you see? Visit the ' +\n",
              "            '<a target=\"_blank\" href=https://colab.research.google.com/notebooks/data_table.ipynb>data table notebook</a>'\n",
              "            + ' to learn more about interactive tables.';\n",
              "          element.innerHTML = '';\n",
              "          dataTable['output_type'] = 'display_data';\n",
              "          await google.colab.output.renderOutput(dataTable, element);\n",
              "          const docLink = document.createElement('div');\n",
              "          docLink.innerHTML = docLinkHtml;\n",
              "          element.appendChild(docLink);\n",
              "        }\n",
              "      </script>\n",
              "    </div>\n",
              "  </div>\n",
              "  "
            ]
          },
          "metadata": {},
          "execution_count": 77
        }
      ]
    },
    {
      "cell_type": "markdown",
      "source": [
        "Посмотрим на пропущенные значения"
      ],
      "metadata": {
        "id": "e8936nF3fjqw"
      }
    },
    {
      "cell_type": "code",
      "source": [
        "data.isnull().sum()"
      ],
      "metadata": {
        "colab": {
          "base_uri": "https://localhost:8080/"
        },
        "outputId": "230c5e55-c46d-4f50-ee1f-95b1396dd128",
        "id": "_WXKI9qufjqw"
      },
      "execution_count": null,
      "outputs": [
        {
          "output_type": "execute_result",
          "data": {
            "text/plain": [
              "total_images                0\n",
              "last_price                  0\n",
              "total_area                  0\n",
              "first_day_exposition        0\n",
              "rooms                       0\n",
              "ceiling_height           6132\n",
              "floors_total               38\n",
              "living_area              1294\n",
              "floor                       0\n",
              "is_apartment            13526\n",
              "studio                      0\n",
              "open_plan                   0\n",
              "kitchen_area             1550\n",
              "balcony                  7217\n",
              "locality_name              19\n",
              "airports_nearest         4696\n",
              "cityCenters_nearest      4686\n",
              "parks_around3000         4685\n",
              "parks_nearest           11235\n",
              "ponds_around3000         4685\n",
              "ponds_nearest           10717\n",
              "days_exposition          2007\n",
              "dtype: int64"
            ]
          },
          "metadata": {},
          "execution_count": 78
        }
      ]
    },
    {
      "cell_type": "markdown",
      "source": [
        "Видим, что есть много пропусков. Определим стратегию их заполнения. Слышал, что для моделирования рекомендуют удалять столбцы с 30+% пропусков (для нашей задачи это 7000)-пока будем считать, что это не нужно"
      ],
      "metadata": {
        "id": "XkxlSuY4fjqw"
      }
    },
    {
      "cell_type": "markdown",
      "source": [
        "ceiling_height - высота потолков. В целом, было бы логично заполнить столбец средним значением по столбцу, т.к. каждый потолок имеет высоту, а среднее такого распределения должно хорошо оцениваться выборочным средним, но можно взять и медиану"
      ],
      "metadata": {
        "id": "YoBKKCvhfjqw"
      }
    },
    {
      "cell_type": "code",
      "source": [
        "data['ceiling_height'] = data['ceiling_height'].fillna(data['ceiling_height'].median())"
      ],
      "metadata": {
        "id": "4OQvAPLcfjqw"
      },
      "execution_count": null,
      "outputs": []
    },
    {
      "cell_type": "markdown",
      "source": [
        "floors_total - всего этажей в доме. Было бы логично заполнить медианой, т.к. каждый дом имеет количество этажей, но этаж не может быть дробным числом, а среднее, скорее всего, даст дробное значение"
      ],
      "metadata": {
        "id": "GHTeDE4Tfjqx"
      }
    },
    {
      "cell_type": "code",
      "source": [
        "data['floors_total'] = data['floors_total'].fillna(data['floors_total'].median())"
      ],
      "metadata": {
        "id": "F1tgDYNufjqx"
      },
      "execution_count": null,
      "outputs": []
    },
    {
      "cell_type": "markdown",
      "source": [
        "living_area - площадь. Опять же, числовой признак, можно заполнить средним или медианой"
      ],
      "metadata": {
        "id": "6Tbe87Ubfjqx"
      }
    },
    {
      "cell_type": "code",
      "source": [
        "data['living_area'] = data['living_area'].fillna(data['living_area'].median())"
      ],
      "metadata": {
        "id": "L1wwe35efjqx"
      },
      "execution_count": null,
      "outputs": []
    },
    {
      "cell_type": "markdown",
      "source": [
        "is_apartment - апартаменты. Здесь у нас 21к пропусков и булев тип, т.е. заполнить чем-то разумным особо нельзя. Возможно, через ML-модель мы могли бы научиться восстанавливать этот флаг, но подход замороченный + нет гарантий, что он принесёт больше пользы, чем просто оставить всё как есть/удалить столбец"
      ],
      "metadata": {
        "id": "TxlWIVlNfjqx"
      }
    },
    {
      "cell_type": "markdown",
      "source": [
        "kitchen_area - площать кухни. Заполним медианой аналогично living_area"
      ],
      "metadata": {
        "id": "W_J3l378fjqx"
      }
    },
    {
      "cell_type": "code",
      "source": [
        "data['kitchen_area'] = data['kitchen_area'].fillna(data['kitchen_area'].median())"
      ],
      "metadata": {
        "id": "tKcE-JBofjqx"
      },
      "execution_count": null,
      "outputs": []
    },
    {
      "cell_type": "markdown",
      "source": [
        "balcony - число балконов. Можно заполнить нулями, как сказано в задании, хотя медиана тоже кажется довольно удачным заполнителем (скорее всего, тоже равна 0 или 1), аналогично floors_total - по причине невозможности дробных значений"
      ],
      "metadata": {
        "id": "GDU-plcHfjqx"
      }
    },
    {
      "cell_type": "code",
      "source": [
        "data['balcony'] = data['balcony'].fillna(0)"
      ],
      "metadata": {
        "id": "Aelv9Dgzfjqx"
      },
      "execution_count": null,
      "outputs": []
    },
    {
      "cell_type": "markdown",
      "source": [
        "locality_name - название населённого пункта. Это категориальный признак, выглядит как будто для него нет разумных предположений"
      ],
      "metadata": {
        "id": "Y_dFvgWTfjqy"
      }
    },
    {
      "cell_type": "markdown",
      "source": [
        "airports_nearest - расстояние до ближ. аэропорта. Числовой признак, можно заполнить средним или медианой"
      ],
      "metadata": {
        "id": "-vfR5OfIfjqy"
      }
    },
    {
      "cell_type": "code",
      "source": [
        "data['airports_nearest'] = data['airports_nearest'].fillna(data['airports_nearest'].median())"
      ],
      "metadata": {
        "id": "YQLOYyGjfjqy"
      },
      "execution_count": null,
      "outputs": []
    },
    {
      "cell_type": "markdown",
      "source": [
        "cityCenters_nearest - расстояние до центра города. Числовой признак, можно заполнить средним или медианой"
      ],
      "metadata": {
        "id": "7VBA289Dfjqy"
      }
    },
    {
      "cell_type": "code",
      "source": [
        "data['cityCenters_nearest'] = data['cityCenters_nearest'].fillna(data['cityCenters_nearest'].median())"
      ],
      "metadata": {
        "id": "yC7GWuFNfjqy"
      },
      "execution_count": null,
      "outputs": []
    },
    {
      "cell_type": "markdown",
      "source": [
        "parks_arount3000 - число парков в радиусе 3000 км. Можно заполнить медианой в силу невозможности дробных значений или нулями (предположить, что если не заполнено, то их и нет), как и в случае с балконами"
      ],
      "metadata": {
        "id": "0UdoSEMyfjqy"
      }
    },
    {
      "cell_type": "code",
      "source": [
        "data['parks_around3000'] = data['parks_around3000'].fillna(0)"
      ],
      "metadata": {
        "id": "BpP4nfw2fjqy"
      },
      "execution_count": null,
      "outputs": []
    },
    {
      "cell_type": "markdown",
      "source": [
        "ponds_around3000 - число водоёмов в радиусе 3000 км. Можно заполнить нулями аналогично parks_around3000."
      ],
      "metadata": {
        "id": "JiYKiX7Mfjqy"
      }
    },
    {
      "cell_type": "code",
      "source": [
        "data['ponds_around3000'] = data['ponds_around3000'].fillna(0)"
      ],
      "metadata": {
        "id": "F1NIouwbfjqy"
      },
      "execution_count": null,
      "outputs": []
    },
    {
      "cell_type": "markdown",
      "source": [
        "parks_nearest, ponds_nearest - можно заполнить средним или медианой аналогично airports_nearest"
      ],
      "metadata": {
        "id": "RNLsAglofjqy"
      }
    },
    {
      "cell_type": "code",
      "source": [
        "data['parks_nearest'] = data['parks_nearest'].fillna(data['parks_nearest'].median())\n",
        "data['ponds_nearest'] = data['ponds_nearest'].fillna(data['ponds_nearest'].median())"
      ],
      "metadata": {
        "id": "38dLyHM2fjqy"
      },
      "execution_count": null,
      "outputs": []
    },
    {
      "cell_type": "markdown",
      "source": [
        "days_exposition - сколько дней было размещено объявление. Можно, опять же, заполнить медианой по соображениям, связанным с невозможностью дробных значений"
      ],
      "metadata": {
        "id": "83Yj0NXKfjqy"
      }
    },
    {
      "cell_type": "code",
      "source": [
        "data['days_exposition'] = data['days_exposition'].fillna(data['days_exposition'].median())"
      ],
      "metadata": {
        "id": "fahzGMoafjqy"
      },
      "execution_count": null,
      "outputs": []
    },
    {
      "cell_type": "markdown",
      "source": [
        "Ещё раз посмотрим на таблицу пропусков"
      ],
      "metadata": {
        "id": "Xa2pKZfUfjqz"
      }
    },
    {
      "cell_type": "code",
      "source": [
        "data.isnull().sum()"
      ],
      "metadata": {
        "colab": {
          "base_uri": "https://localhost:8080/"
        },
        "outputId": "57f0ed63-43c5-4926-9903-f48a73d9aec1",
        "id": "QIOyvUI5fjqz"
      },
      "execution_count": null,
      "outputs": [
        {
          "output_type": "execute_result",
          "data": {
            "text/plain": [
              "total_images                0\n",
              "last_price                  0\n",
              "total_area                  0\n",
              "first_day_exposition        0\n",
              "rooms                       0\n",
              "ceiling_height              0\n",
              "floors_total                0\n",
              "living_area                 0\n",
              "floor                       0\n",
              "is_apartment            13526\n",
              "studio                      0\n",
              "open_plan                   0\n",
              "kitchen_area                0\n",
              "balcony                     0\n",
              "locality_name              19\n",
              "airports_nearest            0\n",
              "cityCenters_nearest         0\n",
              "parks_around3000            0\n",
              "parks_nearest               0\n",
              "ponds_around3000            0\n",
              "ponds_nearest               0\n",
              "days_exposition             0\n",
              "dtype: int64"
            ]
          },
          "metadata": {},
          "execution_count": 90
        }
      ]
    },
    {
      "cell_type": "markdown",
      "source": [
        "Видим, что пропуски остались только в признаках, для которых мы приняли решение их не заполнять"
      ],
      "metadata": {
        "id": "Rzb-fRknfjqz"
      }
    },
    {
      "cell_type": "markdown",
      "source": [
        "Насчёт причин, у меня нет большого опыта, но кажется, что это должно быть связно с отсутствием информации в самом объявлении. Также могут быть ошибки в заполнении, если данные размечаются людьми. Наименее вероятными мне кажутся технологические причины, при которых часть значений внезапно затерялась из-за какой-то операции "
      ],
      "metadata": {
        "id": "CT0gQHkNfjqz"
      }
    },
    {
      "cell_type": "markdown",
      "source": [
        "## Преобразование типов"
      ],
      "metadata": {
        "id": "8UTUIG6wfjqz"
      }
    },
    {
      "cell_type": "markdown",
      "source": [
        "Было бы логично заменить типы столбцов:\n",
        "\n",
        "1) balcony, parks_around3000, pounds_around3000, days_exposition (float -> int), т.к. значения этих столбцов не могут быть дробными значениями\n",
        "\n",
        "2) first_day_exposition в datetime, т.к. признак представляет собой дату\n",
        "\n",
        "Изменяя типы, мы ограничиваем себя же от совершения неверных операций, а также некоторые методы начинают вести себя более разумно (например, выбор отображаемых статистик в describe) + некоторые вообще нельзя вызвать с неверным типам (например, dt.day)"
      ],
      "metadata": {
        "id": "16m-xW1bfjqz"
      }
    },
    {
      "cell_type": "markdown",
      "source": [
        "Определим метод, который изменяет типы столбцов"
      ],
      "metadata": {
        "id": "b_bYhvpvfjqz"
      }
    },
    {
      "cell_type": "code",
      "source": [
        "def transform_types(data: pd.DataFrame,\n",
        "                    change_type_columns: dict) -> pd.DataFrame:\n",
        "    \"\"\"\n",
        "    Преобразование набора признаков в заданный тип данных\n",
        "    :param data: датасет\n",
        "    :param change_type_columns: словарь с признаками и типами данных\n",
        "    :return: преобразованный датасет\n",
        "    \"\"\"\n",
        "    return data.astype(change_type_columns, errors=\"raise\")"
      ],
      "metadata": {
        "id": "gGmV23Pyfjqz"
      },
      "execution_count": null,
      "outputs": []
    },
    {
      "cell_type": "markdown",
      "source": [
        "Определим словарь с назвваниями столбцов и типами данных"
      ],
      "metadata": {
        "id": "OgKZ8ilifjqz"
      }
    },
    {
      "cell_type": "code",
      "source": [
        "change_type_columns = { 'balcony': 'int64',\n",
        "                       'parks_around3000': 'int64',\n",
        "                       'parks_around3000': 'int64',\n",
        "                       'first_day_exposition': 'datetime64[ns]',\n",
        "                       }"
      ],
      "metadata": {
        "id": "s_EMa5Xqfjqz"
      },
      "execution_count": null,
      "outputs": []
    },
    {
      "cell_type": "markdown",
      "source": [
        "Преобразуем типы"
      ],
      "metadata": {
        "id": "rLZBOow7fjq0"
      }
    },
    {
      "cell_type": "code",
      "source": [
        "data = transform_types(data, change_type_columns)\n",
        "data.info()"
      ],
      "metadata": {
        "colab": {
          "base_uri": "https://localhost:8080/"
        },
        "outputId": "c00ad705-02d2-4636-cd50-2ed80e9ea46a",
        "id": "cPbRTlU3fjq0"
      },
      "execution_count": null,
      "outputs": [
        {
          "output_type": "stream",
          "name": "stdout",
          "text": [
            "<class 'pandas.core.frame.DataFrame'>\n",
            "Int64Index: 15175 entries, 1 to 23698\n",
            "Data columns (total 22 columns):\n",
            " #   Column                Non-Null Count  Dtype         \n",
            "---  ------                --------------  -----         \n",
            " 0   total_images          15175 non-null  int64         \n",
            " 1   last_price            15175 non-null  float64       \n",
            " 2   total_area            15175 non-null  float64       \n",
            " 3   first_day_exposition  15175 non-null  datetime64[ns]\n",
            " 4   rooms                 15175 non-null  int64         \n",
            " 5   ceiling_height        15175 non-null  float64       \n",
            " 6   floors_total          15175 non-null  float64       \n",
            " 7   living_area           15175 non-null  float64       \n",
            " 8   floor                 15175 non-null  int64         \n",
            " 9   is_apartment          1649 non-null   object        \n",
            " 10  studio                15175 non-null  bool          \n",
            " 11  open_plan             15175 non-null  bool          \n",
            " 12  kitchen_area          15175 non-null  float64       \n",
            " 13  balcony               15175 non-null  int64         \n",
            " 14  locality_name         15156 non-null  object        \n",
            " 15  airports_nearest      15175 non-null  float64       \n",
            " 16  cityCenters_nearest   15175 non-null  float64       \n",
            " 17  parks_around3000      15175 non-null  int64         \n",
            " 18  parks_nearest         15175 non-null  float64       \n",
            " 19  ponds_around3000      15175 non-null  float64       \n",
            " 20  ponds_nearest         15175 non-null  float64       \n",
            " 21  days_exposition       15175 non-null  float64       \n",
            "dtypes: bool(2), datetime64[ns](1), float64(12), int64(5), object(2)\n",
            "memory usage: 2.5+ MB\n"
          ]
        }
      ]
    },
    {
      "cell_type": "markdown",
      "source": [
        "# Шаг 3. Добавление признаков"
      ],
      "metadata": {
        "id": "6SPwfuowfjq0"
      }
    },
    {
      "cell_type": "markdown",
      "source": [
        "Цену квадратного метра можно рассчитать как отношение стоимости к площади"
      ],
      "metadata": {
        "id": "ocxS5Idwfjq0"
      }
    },
    {
      "cell_type": "code",
      "source": [
        "data['price_of_1m'] = data['last_price'] / data['total_area']\n",
        "data['price_of_1m']"
      ],
      "metadata": {
        "colab": {
          "base_uri": "https://localhost:8080/"
        },
        "outputId": "c254f518-c10a-42d3-d60a-3bd6f98c0116",
        "id": "Yam4xb96fjq0"
      },
      "execution_count": null,
      "outputs": [
        {
          "output_type": "execute_result",
          "data": {
            "text/plain": [
              "1         82920.792079\n",
              "5         95065.789474\n",
              "6         99195.710456\n",
              "9         88524.590164\n",
              "10       127525.252525\n",
              "             ...      \n",
              "23690    105769.230769\n",
              "23692     45000.000000\n",
              "23695     52542.372881\n",
              "23696     44091.710758\n",
              "23698     41795.665635\n",
              "Name: price_of_1m, Length: 15175, dtype: float64"
            ]
          },
          "metadata": {},
          "execution_count": 94
        }
      ]
    },
    {
      "cell_type": "markdown",
      "source": [
        "Извлечём из даты день недели, месяц и год"
      ],
      "metadata": {
        "id": "cm6uZYsFfjq0"
      }
    },
    {
      "cell_type": "code",
      "source": [
        "data['month'] = data['first_day_exposition'].dt.month\n",
        "data['month']"
      ],
      "metadata": {
        "colab": {
          "base_uri": "https://localhost:8080/"
        },
        "outputId": "27e88fbe-40ec-4502-8d70-37a02bfdef6e",
        "id": "gldeUymXfjq0"
      },
      "execution_count": null,
      "outputs": [
        {
          "output_type": "execute_result",
          "data": {
            "text/plain": [
              "1        12\n",
              "5         9\n",
              "6        11\n",
              "9         2\n",
              "10       11\n",
              "         ..\n",
              "23690     7\n",
              "23692     7\n",
              "23695     1\n",
              "23696     2\n",
              "23698     7\n",
              "Name: month, Length: 15175, dtype: int64"
            ]
          },
          "metadata": {},
          "execution_count": 95
        }
      ]
    },
    {
      "cell_type": "code",
      "source": [
        "data['year'] = data['first_day_exposition'].dt.year\n",
        "data['year']"
      ],
      "metadata": {
        "colab": {
          "base_uri": "https://localhost:8080/"
        },
        "outputId": "1b91509a-1ff5-4edc-f959-af3056ad8547",
        "id": "FWruBuPVfjq0"
      },
      "execution_count": null,
      "outputs": [
        {
          "output_type": "execute_result",
          "data": {
            "text/plain": [
              "1        2018\n",
              "5        2018\n",
              "6        2017\n",
              "9        2017\n",
              "10       2017\n",
              "         ... \n",
              "23690    2018\n",
              "23692    2017\n",
              "23695    2018\n",
              "23696    2018\n",
              "23698    2017\n",
              "Name: year, Length: 15175, dtype: int64"
            ]
          },
          "metadata": {},
          "execution_count": 96
        }
      ]
    },
    {
      "cell_type": "code",
      "source": [
        "data['day_of_week'] = data['first_day_exposition'].dt.dayofweek\n",
        "data['day_of_week']"
      ],
      "metadata": {
        "colab": {
          "base_uri": "https://localhost:8080/"
        },
        "outputId": "bce5221b-a34c-430d-8760-5dcf87cafee2",
        "id": "ijG4fmgYfjq0"
      },
      "execution_count": null,
      "outputs": [
        {
          "output_type": "execute_result",
          "data": {
            "text/plain": [
              "1        1\n",
              "5        0\n",
              "6        3\n",
              "9        6\n",
              "10       3\n",
              "        ..\n",
              "23690    3\n",
              "23692    4\n",
              "23695    0\n",
              "23696    6\n",
              "23698    4\n",
              "Name: day_of_week, Length: 15175, dtype: int64"
            ]
          },
          "metadata": {},
          "execution_count": 97
        }
      ]
    },
    {
      "cell_type": "markdown",
      "source": [
        "Напишем функцию, которая принимает на вход этаж и возвращает категорию (первый, другой)"
      ],
      "metadata": {
        "id": "NXZkSlqPfjq0"
      }
    },
    {
      "cell_type": "code",
      "source": [
        "def floor(floor: int) -> str:\n",
        "    if floor == 1:\n",
        "        return 'первый'\n",
        "    else:\n",
        "        return 'другой'"
      ],
      "metadata": {
        "id": "Vzn7i5t1fjq1"
      },
      "execution_count": null,
      "outputs": []
    },
    {
      "cell_type": "markdown",
      "source": [
        "Создадим признак, выражающий категорию этажа"
      ],
      "metadata": {
        "id": "sDTcEXqFfjq1"
      }
    },
    {
      "cell_type": "code",
      "source": [
        "data['floor_cat'] = data['floor'].map(floor)\n",
        "data['floor_cat']"
      ],
      "metadata": {
        "colab": {
          "base_uri": "https://localhost:8080/"
        },
        "outputId": "a00dbd42-eb4d-4274-bfa1-5d95603b1ba0",
        "id": "bhNUs6bdfjq1"
      },
      "execution_count": null,
      "outputs": [
        {
          "output_type": "execute_result",
          "data": {
            "text/plain": [
              "1        первый\n",
              "5        другой\n",
              "6        другой\n",
              "9        другой\n",
              "10       другой\n",
              "          ...  \n",
              "23690    другой\n",
              "23692    другой\n",
              "23695    другой\n",
              "23696    первый\n",
              "23698    первый\n",
              "Name: floor_cat, Length: 15175, dtype: object"
            ]
          },
          "metadata": {},
          "execution_count": 99
        }
      ]
    },
    {
      "cell_type": "markdown",
      "source": [
        "Заменим в признаке 'другой' на 'последний', если этаж последний"
      ],
      "metadata": {
        "id": "Kx84W8J3fjq1"
      }
    },
    {
      "cell_type": "code",
      "source": [
        "indices = data[data['floor'] == data['floors_total']]['floor_cat'].index\n",
        "for i in indices: \n",
        "    data.at[i, 'floor_cat'] = 'последний'\n",
        "\n",
        "data['floor_cat'].unique()"
      ],
      "metadata": {
        "colab": {
          "base_uri": "https://localhost:8080/"
        },
        "outputId": "8379c0bf-2686-4a43-883a-50939aa76502",
        "id": "95WJgrZTfjq1"
      },
      "execution_count": null,
      "outputs": [
        {
          "output_type": "execute_result",
          "data": {
            "text/plain": [
              "array(['первый', 'другой', 'последний'], dtype=object)"
            ]
          },
          "metadata": {},
          "execution_count": 100
        }
      ]
    },
    {
      "cell_type": "markdown",
      "source": [
        "Создадим новые признаки - отношение жилой площади к общей и отношение площади кухни к общей"
      ],
      "metadata": {
        "id": "_fzn7zYMfjq1"
      }
    },
    {
      "cell_type": "code",
      "source": [
        "data['area_live_to_total'] = data['living_area'] / data['total_area']\n",
        "data['area_live_to_total']"
      ],
      "metadata": {
        "colab": {
          "base_uri": "https://localhost:8080/"
        },
        "outputId": "0d24a943-de47-4d29-e8cb-105003e0fdcd",
        "id": "7Bw1D8b4fjq1"
      },
      "execution_count": null,
      "outputs": [
        {
          "output_type": "execute_result",
          "data": {
            "text/plain": [
              "1        0.460396\n",
              "5        0.473684\n",
              "6        0.284182\n",
              "9        0.714754\n",
              "10       0.512626\n",
              "           ...   \n",
              "23690    0.596154\n",
              "23692    0.583333\n",
              "23695    0.644068\n",
              "23696    0.523810\n",
              "23698    0.380805\n",
              "Name: area_live_to_total, Length: 15175, dtype: float64"
            ]
          },
          "metadata": {},
          "execution_count": 101
        }
      ]
    },
    {
      "cell_type": "code",
      "source": [
        "data['kitchen_live_to_total'] = data['kitchen_area'] / data['total_area']\n",
        "data['kitchen_live_to_total']"
      ],
      "metadata": {
        "colab": {
          "base_uri": "https://localhost:8080/"
        },
        "outputId": "28634569-7905-49d5-e199-3fd768700b4c",
        "id": "NEpyH9b2fjq1"
      },
      "execution_count": null,
      "outputs": [
        {
          "output_type": "execute_result",
          "data": {
            "text/plain": [
              "1        0.272277\n",
              "5        0.299342\n",
              "6        0.386059\n",
              "9        0.106557\n",
              "10       0.214646\n",
              "           ...   \n",
              "23690    0.115385\n",
              "23692    0.200000\n",
              "23695    0.144068\n",
              "23696    0.149912\n",
              "23698    0.278638\n",
              "Name: kitchen_live_to_total, Length: 15175, dtype: float64"
            ]
          },
          "metadata": {},
          "execution_count": 102
        }
      ]
    },
    {
      "cell_type": "markdown",
      "source": [
        "# Шаг 4. Исследовательский анализ данных"
      ],
      "metadata": {
        "id": "Bfpos7c0zIgE"
      }
    },
    {
      "cell_type": "markdown",
      "source": [
        "## Построение графиков распределений"
      ],
      "metadata": {
        "id": "U_YBgL11cd94"
      }
    },
    {
      "cell_type": "markdown",
      "source": [
        "Определим функцию подписи текста на график столбчатой диаграммы"
      ],
      "metadata": {
        "id": "o-SUpISl1B3Z"
      }
    },
    {
      "cell_type": "code",
      "source": [
        "def plot_text(ax):\n",
        "    \"\"\"\n",
        "    Добавление подписи процентов на график barplot\n",
        "    :param ax: ось\n",
        "    :return: None\n",
        "    \"\"\"\n",
        "    for p in ax.patches:\n",
        "        percentage = '{:.2f}%'.format(p.get_height())\n",
        "        ax.annotate(\n",
        "            percentage,  # текст\n",
        "            # координата xy\n",
        "            (p.get_x() + p.get_width() / 2., p.get_height()),\n",
        "            # центрирование\n",
        "            ha='center',\n",
        "            va='center',\n",
        "            xytext=(0, 10),\n",
        "            # точка смещения относительно координаты\n",
        "            textcoords='offset points',\n",
        "            fontsize=8)"
      ],
      "metadata": {
        "id": "H-yp-Ww-1SUY"
      },
      "execution_count": null,
      "outputs": []
    },
    {
      "cell_type": "markdown",
      "source": [
        "Определим саму функцию построения столбчатой гистограммы"
      ],
      "metadata": {
        "id": "ZdYpnmKRzP0g"
      }
    },
    {
      "cell_type": "code",
      "source": [
        "def barplot(df: pd.DataFrame,\n",
        "            col: str,\n",
        "            title: str) -> None:\n",
        "    \"\"\"\n",
        "    Построение графика распределения признака в виде столбчатой диаграммы\n",
        "    :param df: датасет\n",
        "    :param col: столбец, для которого которого хотим смотреть распределение\n",
        "    :param title: заголовок\n",
        "    :return: None\n",
        "    \"\"\"\n",
        "    rcParams['figure.figsize'] = 10, 8\n",
        "    sns.color_palette(\"YlOrBr\", as_cmap=True)\n",
        "\n",
        "    # Датафрейм частот значений\n",
        "    norm_target = pd.DataFrame(df[col].value_counts(normalize=True).mul(100) \\\n",
        "                               .rename('percent')).reset_index()\n",
        "\n",
        "    ax = sns.barplot(x='index', y='percent', data=norm_target, palette=\"flare\")\n",
        "    plt.title(title)\n",
        "    plot_text(ax)"
      ],
      "metadata": {
        "id": "kiPwMeGn0bcI"
      },
      "execution_count": null,
      "outputs": []
    },
    {
      "cell_type": "markdown",
      "source": [
        "Построим гистограммы для числа комнат"
      ],
      "metadata": {
        "id": "H0px5fki1kEc"
      }
    },
    {
      "cell_type": "code",
      "source": [
        "barplot(df=data,\n",
        "        col='rooms',\n",
        "        title='Распределение числа комнат')"
      ],
      "metadata": {
        "colab": {
          "base_uri": "https://localhost:8080/",
          "height": 513
        },
        "id": "K5H2x3gV0bel",
        "outputId": "39f52eb0-41dc-4ce4-afa0-1642ac9db586"
      },
      "execution_count": null,
      "outputs": [
        {
          "output_type": "display_data",
          "data": {
            "text/plain": [
              "<Figure size 720x576 with 1 Axes>"
            ],
            "image/png": "[encoded data removed]"
          },
          "metadata": {
            "needs_background": "light"
          }
        }
      ]
    },
    {
      "cell_type": "markdown",
      "source": [
        "Построим гистограммы для площади, цены и высоты потолков"
      ],
      "metadata": {
        "id": "zszDIjrS2f2k"
      }
    },
    {
      "cell_type": "code",
      "source": [
        "sns.displot(\n",
        "  data=data['total_area'],\n",
        "  kde=True,\n",
        "  common_norm=False)\n",
        "\n",
        "plt.xlim(0, 100)\n",
        "plt.title('Распределение total_area');"
      ],
      "metadata": {
        "colab": {
          "base_uri": "https://localhost:8080/",
          "height": 385
        },
        "id": "RvZkV--A0bhW",
        "outputId": "2331e3c7-f64f-44aa-ec0d-ebdc8df93b13"
      },
      "execution_count": null,
      "outputs": [
        {
          "output_type": "display_data",
          "data": {
            "text/plain": [
              "<Figure size 360x360 with 1 Axes>"
            ],
            "image/png": "[encoded data removed]"
          },
          "metadata": {
            "needs_background": "light"
          }
        }
      ]
    },
    {
      "cell_type": "code",
      "source": [
        "sns.displot(\n",
        "  data=data['last_price'],\n",
        "  kde=True,\n",
        "  common_norm=False)\n",
        "\n",
        "plt.xlim(1e7, 0.15*1e8)\n",
        "plt.ylim(0, 50)\n",
        "plt.title('Распределение last_price');"
      ],
      "metadata": {
        "colab": {
          "base_uri": "https://localhost:8080/",
          "height": 385
        },
        "id": "w9m1ZEhd0bkO",
        "outputId": "65b6a812-8952-4a44-a03e-54e9fb44f2eb"
      },
      "execution_count": null,
      "outputs": [
        {
          "output_type": "display_data",
          "data": {
            "text/plain": [
              "<Figure size 360x360 with 1 Axes>"
            ],
            "image/png": "[encoded data removed]"
          },
          "metadata": {
            "needs_background": "light"
          }
        }
      ]
    },
    {
      "cell_type": "code",
      "source": [
        "sns.displot(\n",
        "  data=data['ceiling_height'],\n",
        "  kde=True,\n",
        "  common_norm=False)\n",
        "\n",
        "plt.xlim(2.25, 3.25)\n",
        "plt.ylim(0, 1000)\n",
        "plt.title('Распределение ceiling_height');"
      ],
      "metadata": {
        "colab": {
          "base_uri": "https://localhost:8080/",
          "height": 385
        },
        "id": "WtKngs3a0bnO",
        "outputId": "76b3e3bc-03e4-41d7-89dc-07111b32d7dd"
      },
      "execution_count": null,
      "outputs": [
        {
          "output_type": "display_data",
          "data": {
            "text/plain": [
              "<Figure size 360x360 with 1 Axes>"
            ],
            "image/png": "[encoded data removed]"
          },
          "metadata": {
            "needs_background": "light"
          }
        }
      ]
    },
    {
      "cell_type": "markdown",
      "source": [
        "## Анализ времени продажи"
      ],
      "metadata": {
        "id": "c9Ok4tmFclVE"
      }
    },
    {
      "cell_type": "markdown",
      "source": [
        "Построим гистограмму для days_exposition (время продажи). Думаю, разумно считать, что объявления снимались после того, как находился покупатель на квартиру"
      ],
      "metadata": {
        "id": "N_iWpdz_N0Bx"
      }
    },
    {
      "cell_type": "code",
      "source": [
        "sns.displot(\n",
        "  data=data['days_exposition'],\n",
        "  kde=True,\n",
        "  common_norm=False)\n",
        "\n",
        "plt.title('Распределение days_exposition');"
      ],
      "metadata": {
        "colab": {
          "base_uri": "https://localhost:8080/",
          "height": 382
        },
        "id": "rVyu-JktAy8B",
        "outputId": "8b0cada2-c593-4467-f0cf-dd2b572fbcde"
      },
      "execution_count": null,
      "outputs": [
        {
          "output_type": "display_data",
          "data": {
            "text/plain": [
              "<Figure size 360x360 with 1 Axes>"
            ],
            "image/png": "[encoded data removed]"
          },
          "metadata": {
            "needs_background": "light"
          }
        }
      ]
    },
    {
      "cell_type": "markdown",
      "source": [
        "Продублируем график boxplot"
      ],
      "metadata": {
        "id": "KdwcYPEmfO-8"
      }
    },
    {
      "cell_type": "code",
      "source": [
        "sns.boxplot(x='days_exposition', data=df);"
      ],
      "metadata": {
        "colab": {
          "base_uri": "https://localhost:8080/",
          "height": 498
        },
        "id": "E47MNZQAfSKs",
        "outputId": "d313d330-4edf-444f-e13d-3f609864fc97"
      },
      "execution_count": null,
      "outputs": [
        {
          "output_type": "display_data",
          "data": {
            "text/plain": [
              "<Figure size 720x576 with 1 Axes>"
            ],
            "image/png": "[encoded data removed]"
          },
          "metadata": {
            "needs_background": "light"
          }
        }
      ]
    },
    {
      "cell_type": "markdown",
      "source": [
        "Среднее по времени продажи"
      ],
      "metadata": {
        "id": "RBWq5WVxOW_B"
      }
    },
    {
      "cell_type": "code",
      "source": [
        "data['days_exposition'].mean()"
      ],
      "metadata": {
        "colab": {
          "base_uri": "https://localhost:8080/"
        },
        "id": "tTI3ThzOAy-y",
        "outputId": "36b30b61-9283-46ea-c346-4b5a6c9b8f3e"
      },
      "execution_count": null,
      "outputs": [
        {
          "output_type": "execute_result",
          "data": {
            "text/plain": [
              "109.10662273476112"
            ]
          },
          "metadata": {},
          "execution_count": 111
        }
      ]
    },
    {
      "cell_type": "markdown",
      "source": [
        "Медиана по времени продажи"
      ],
      "metadata": {
        "id": "B0-8pKl3Ok0Z"
      }
    },
    {
      "cell_type": "code",
      "source": [
        "data['days_exposition'].median()"
      ],
      "metadata": {
        "colab": {
          "base_uri": "https://localhost:8080/"
        },
        "id": "W3TSaaRbAzBi",
        "outputId": "f8974616-a3a7-4858-a4a5-b51f36461ea2"
      },
      "execution_count": null,
      "outputs": [
        {
          "output_type": "execute_result",
          "data": {
            "text/plain": [
              "74.0"
            ]
          },
          "metadata": {},
          "execution_count": 112
        }
      ]
    },
    {
      "cell_type": "markdown",
      "source": [
        "Видим, что оценки времени продажи в целом схожи. Скажем, что в среднем продажа занимает около трёх месяцев\n",
        "\n",
        "Что касается вопросов про быстрые/долгие продажи - наверное, аномально долгой продажей естественно считать все эти черные точки на графике, а быстрой - соответственно, выбросы в обратную сторону, которых у нас нет. Видимо, нулевое значение появляется, когда квартира продаётся в день вывешивания объявления. Но даже это значение очень близко к медиане, поэтому назвать такую продажу быстрой всё равно сложно"
      ],
      "metadata": {
        "id": "yfHV8Mo7O6mK"
      }
    },
    {
      "cell_type": "markdown",
      "source": [
        "## Топ-10 пунктов по числу объявлений"
      ],
      "metadata": {
        "id": "5bx4hP9_IGpv"
      }
    },
    {
      "cell_type": "code",
      "source": [
        "# Здесь обращаемся к первому попавшемуся столбцу, т.к. они все одинаковые и ранжируем его\n",
        "top = data.groupby(by=[\"locality_name\"], dropna=False).count().reset_index()[\n",
        "    ['locality_name', 'total_images']].sort_values(by='total_images', \n",
        "                                                   ascending=False)[0:10]\n",
        "top"
      ],
      "metadata": {
        "id": "CrOqzavvOsbm",
        "colab": {
          "base_uri": "https://localhost:8080/",
          "height": 363
        },
        "outputId": "2f756633-d0b8-4c33-c339-fb4370166bbd"
      },
      "execution_count": null,
      "outputs": [
        {
          "output_type": "execute_result",
          "data": {
            "text/plain": [
              "               locality_name  total_images\n",
              "30           Санкт-Петербург         10054\n",
              "270           посёлок Мурино           399\n",
              "3                 Всеволожск           343\n",
              "6                    Гатчина           266\n",
              "85           деревня Кудрово           210\n",
              "275        посёлок Парголово           202\n",
              "298           посёлок Шушары           192\n",
              "4                     Выборг           191\n",
              "16                   Кудрово           134\n",
              "107  деревня Новое Девяткино           122"
            ],
            "text/html": [
              "\n",
              "  <div id=\"df-255460da-4d54-44bb-b0a6-909705780bb5\">\n",
              "    <div class=\"colab-df-container\">\n",
              "      <div>\n",
              "<style scoped>\n",
              "    .dataframe tbody tr th:only-of-type {\n",
              "        vertical-align: middle;\n",
              "    }\n",
              "\n",
              "    .dataframe tbody tr th {\n",
              "        vertical-align: top;\n",
              "    }\n",
              "\n",
              "    .dataframe thead th {\n",
              "        text-align: right;\n",
              "    }\n",
              "</style>\n",
              "<table border=\"1\" class=\"dataframe\">\n",
              "  <thead>\n",
              "    <tr style=\"text-align: right;\">\n",
              "      <th></th>\n",
              "      <th>locality_name</th>\n",
              "      <th>total_images</th>\n",
              "    </tr>\n",
              "  </thead>\n",
              "  <tbody>\n",
              "    <tr>\n",
              "      <th>30</th>\n",
              "      <td>Санкт-Петербург</td>\n",
              "      <td>10054</td>\n",
              "    </tr>\n",
              "    <tr>\n",
              "      <th>270</th>\n",
              "      <td>посёлок Мурино</td>\n",
              "      <td>399</td>\n",
              "    </tr>\n",
              "    <tr>\n",
              "      <th>3</th>\n",
              "      <td>Всеволожск</td>\n",
              "      <td>343</td>\n",
              "    </tr>\n",
              "    <tr>\n",
              "      <th>6</th>\n",
              "      <td>Гатчина</td>\n",
              "      <td>266</td>\n",
              "    </tr>\n",
              "    <tr>\n",
              "      <th>85</th>\n",
              "      <td>деревня Кудрово</td>\n",
              "      <td>210</td>\n",
              "    </tr>\n",
              "    <tr>\n",
              "      <th>275</th>\n",
              "      <td>посёлок Парголово</td>\n",
              "      <td>202</td>\n",
              "    </tr>\n",
              "    <tr>\n",
              "      <th>298</th>\n",
              "      <td>посёлок Шушары</td>\n",
              "      <td>192</td>\n",
              "    </tr>\n",
              "    <tr>\n",
              "      <th>4</th>\n",
              "      <td>Выборг</td>\n",
              "      <td>191</td>\n",
              "    </tr>\n",
              "    <tr>\n",
              "      <th>16</th>\n",
              "      <td>Кудрово</td>\n",
              "      <td>134</td>\n",
              "    </tr>\n",
              "    <tr>\n",
              "      <th>107</th>\n",
              "      <td>деревня Новое Девяткино</td>\n",
              "      <td>122</td>\n",
              "    </tr>\n",
              "  </tbody>\n",
              "</table>\n",
              "</div>\n",
              "      <button class=\"colab-df-convert\" onclick=\"convertToInteractive('df-255460da-4d54-44bb-b0a6-909705780bb5')\"\n",
              "              title=\"Convert this dataframe to an interactive table.\"\n",
              "              style=\"display:none;\">\n",
              "        \n",
              "  <svg xmlns=\"http://www.w3.org/2000/svg\" height=\"24px\"viewBox=\"0 0 24 24\"\n",
              "       width=\"24px\">\n",
              "    <path d=\"M0 0h24v24H0V0z\" fill=\"none\"/>\n",
              "    <path d=\"M18.56 5.44l.94 2.06.94-2.06 2.06-.94-2.06-.94-.94-2.06-.94 2.06-2.06.94zm-11 1L8.5 8.5l.94-2.06 2.06-.94-2.06-.94L8.5 2.5l-.94 2.06-2.06.94zm10 10l.94 2.06.94-2.06 2.06-.94-2.06-.94-.94-2.06-.94 2.06-2.06.94z\"/><path d=\"M17.41 7.96l-1.37-1.37c-.4-.4-.92-.59-1.43-.59-.52 0-1.04.2-1.43.59L10.3 9.45l-7.72 7.72c-.78.78-.78 2.05 0 2.83L4 21.41c.39.39.9.59 1.41.59.51 0 1.02-.2 1.41-.59l7.78-7.78 2.81-2.81c.8-.78.8-2.07 0-2.86zM5.41 20L4 18.59l7.72-7.72 1.47 1.35L5.41 20z\"/>\n",
              "  </svg>\n",
              "      </button>\n",
              "      \n",
              "  <style>\n",
              "    .colab-df-container {\n",
              "      display:flex;\n",
              "      flex-wrap:wrap;\n",
              "      gap: 12px;\n",
              "    }\n",
              "\n",
              "    .colab-df-convert {\n",
              "      background-color: #E8F0FE;\n",
              "      border: none;\n",
              "      border-radius: 50%;\n",
              "      cursor: pointer;\n",
              "      display: none;\n",
              "      fill: #1967D2;\n",
              "      height: 32px;\n",
              "      padding: 0 0 0 0;\n",
              "      width: 32px;\n",
              "    }\n",
              "\n",
              "    .colab-df-convert:hover {\n",
              "      background-color: #E2EBFA;\n",
              "      box-shadow: 0px 1px 2px rgba(60, 64, 67, 0.3), 0px 1px 3px 1px rgba(60, 64, 67, 0.15);\n",
              "      fill: #174EA6;\n",
              "    }\n",
              "\n",
              "    [theme=dark] .colab-df-convert {\n",
              "      background-color: #3B4455;\n",
              "      fill: #D2E3FC;\n",
              "    }\n",
              "\n",
              "    [theme=dark] .colab-df-convert:hover {\n",
              "      background-color: #434B5C;\n",
              "      box-shadow: 0px 1px 3px 1px rgba(0, 0, 0, 0.15);\n",
              "      filter: drop-shadow(0px 1px 2px rgba(0, 0, 0, 0.3));\n",
              "      fill: #FFFFFF;\n",
              "    }\n",
              "  </style>\n",
              "\n",
              "      <script>\n",
              "        const buttonEl =\n",
              "          document.querySelector('#df-255460da-4d54-44bb-b0a6-909705780bb5 button.colab-df-convert');\n",
              "        buttonEl.style.display =\n",
              "          google.colab.kernel.accessAllowed ? 'block' : 'none';\n",
              "\n",
              "        async function convertToInteractive(key) {\n",
              "          const element = document.querySelector('#df-255460da-4d54-44bb-b0a6-909705780bb5');\n",
              "          const dataTable =\n",
              "            await google.colab.kernel.invokeFunction('convertToInteractive',\n",
              "                                                     [key], {});\n",
              "          if (!dataTable) return;\n",
              "\n",
              "          const docLinkHtml = 'Like what you see? Visit the ' +\n",
              "            '<a target=\"_blank\" href=https://colab.research.google.com/notebooks/data_table.ipynb>data table notebook</a>'\n",
              "            + ' to learn more about interactive tables.';\n",
              "          element.innerHTML = '';\n",
              "          dataTable['output_type'] = 'display_data';\n",
              "          await google.colab.output.renderOutput(dataTable, element);\n",
              "          const docLink = document.createElement('div');\n",
              "          docLink.innerHTML = docLinkHtml;\n",
              "          element.appendChild(docLink);\n",
              "        }\n",
              "      </script>\n",
              "    </div>\n",
              "  </div>\n",
              "  "
            ]
          },
          "metadata": {},
          "execution_count": 113
        }
      ]
    },
    {
      "cell_type": "markdown",
      "source": [
        "## Средняя тоимость квадратного метра в этих пунктах"
      ],
      "metadata": {
        "id": "EEOokqXHKNWe"
      }
    },
    {
      "cell_type": "markdown",
      "source": [
        "Стоимость квадратного метра мы уже считали для каждого объявления (добавили признак). Теперь по сути нужно просто обратиться к строкам, у которых в признаке локация проставлено какое-нибудь значение из топ-10 и затем агрегировать этот признак по городам"
      ],
      "metadata": {
        "id": "oa6Hhb8aKU60"
      }
    },
    {
      "cell_type": "code",
      "source": [
        "df_for_groupby = data[data['locality_name'].isin(list(top['locality_name']))]\n",
        "df_for_groupby['locality_name']"
      ],
      "metadata": {
        "id": "nwnGmkTDOsvh",
        "colab": {
          "base_uri": "https://localhost:8080/"
        },
        "outputId": "dd1f8914-af23-4a16-caef-802ad94c558b"
      },
      "execution_count": null,
      "outputs": [
        {
          "output_type": "execute_result",
          "data": {
            "text/plain": [
              "1           посёлок Шушары\n",
              "6        посёлок Парголово\n",
              "9          Санкт-Петербург\n",
              "10         Санкт-Петербург\n",
              "15         Санкт-Петербург\n",
              "               ...        \n",
              "23682               Выборг\n",
              "23686      Санкт-Петербург\n",
              "23687      Санкт-Петербург\n",
              "23689      Санкт-Петербург\n",
              "23690      Санкт-Петербург\n",
              "Name: locality_name, Length: 12113, dtype: object"
            ]
          },
          "metadata": {},
          "execution_count": 114
        }
      ]
    },
    {
      "cell_type": "code",
      "source": [
        "df_for_groupby.groupby(by=['locality_name']).sum()['last_price']"
      ],
      "metadata": {
        "colab": {
          "base_uri": "https://localhost:8080/"
        },
        "id": "K2H0-NvZgd3_",
        "outputId": "ff85ef3a-8465-4db1-ec73-f13cacaa8b76"
      },
      "execution_count": null,
      "outputs": [
        {
          "output_type": "execute_result",
          "data": {
            "text/plain": [
              "locality_name\n",
              "Всеволожск                 1.257357e+09\n",
              "Выборг                     5.554250e+08\n",
              "Гатчина                    8.953744e+08\n",
              "Кудрово                    5.904293e+08\n",
              "Санкт-Петербург            5.290054e+10\n",
              "деревня Кудрово            8.766672e+08\n",
              "деревня Новое Девяткино    4.549443e+08\n",
              "посёлок Мурино             1.437132e+09\n",
              "посёлок Парголово          8.981490e+08\n",
              "посёлок Шушары             7.579818e+08\n",
              "Name: last_price, dtype: float64"
            ]
          },
          "metadata": {},
          "execution_count": 115
        }
      ]
    },
    {
      "cell_type": "markdown",
      "source": [
        "## Пункты из топ-10 с самой высокой и низкой стоимостью жилья"
      ],
      "metadata": {
        "id": "K9blW_UQM3mH"
      }
    },
    {
      "cell_type": "markdown",
      "source": [
        "Сделаем агрегацию суммой по начальной стоимости last_price"
      ],
      "metadata": {
        "id": "Iek2SbmRM99y"
      }
    },
    {
      "cell_type": "code",
      "source": [
        "df_for_groupby.groupby(by=['locality_name']).sum()['last_price']"
      ],
      "metadata": {
        "id": "R-V1gPtROs09",
        "colab": {
          "base_uri": "https://localhost:8080/"
        },
        "outputId": "d7a059d1-ced6-457f-c8ec-5232f7b010ac"
      },
      "execution_count": null,
      "outputs": [
        {
          "output_type": "execute_result",
          "data": {
            "text/plain": [
              "locality_name\n",
              "Всеволожск                 1.257357e+09\n",
              "Выборг                     5.554250e+08\n",
              "Гатчина                    8.953744e+08\n",
              "Кудрово                    5.904293e+08\n",
              "Санкт-Петербург            5.290054e+10\n",
              "деревня Кудрово            8.766672e+08\n",
              "деревня Новое Девяткино    4.549443e+08\n",
              "посёлок Мурино             1.437132e+09\n",
              "посёлок Парголово          8.981490e+08\n",
              "посёлок Шушары             7.579818e+08\n",
              "Name: last_price, dtype: float64"
            ]
          },
          "metadata": {},
          "execution_count": 116
        }
      ]
    },
    {
      "cell_type": "markdown",
      "source": [
        "Видим, что Санкт-Петербург обладает самой высокой стоимостью жилья, а деревня Новое Девяткино - самой низкой"
      ],
      "metadata": {
        "id": "NR--Bi_kNNYb"
      }
    },
    {
      "cell_type": "markdown",
      "source": [
        "## Выделение центральной зоны для Санкт-Петербурга"
      ],
      "metadata": {
        "id": "0KnM8q33o1Bw"
      }
    },
    {
      "cell_type": "markdown",
      "source": [
        "Выделим объявления, относящиеся к Санкт-Петербургу"
      ],
      "metadata": {
        "id": "QBrEXUDarWKG"
      }
    },
    {
      "cell_type": "code",
      "source": [
        "df_SP = data[data['locality_name'] == 'Санкт-Петербург']\n",
        "df_SP['locality_name']"
      ],
      "metadata": {
        "colab": {
          "base_uri": "https://localhost:8080/"
        },
        "id": "2X0M0wnaqK8i",
        "outputId": "f96dfd4c-7475-408f-ce68-6855c9b3d32a"
      },
      "execution_count": null,
      "outputs": [
        {
          "output_type": "execute_result",
          "data": {
            "text/plain": [
              "9        Санкт-Петербург\n",
              "10       Санкт-Петербург\n",
              "15       Санкт-Петербург\n",
              "18       Санкт-Петербург\n",
              "21       Санкт-Петербург\n",
              "              ...       \n",
              "23681    Санкт-Петербург\n",
              "23686    Санкт-Петербург\n",
              "23687    Санкт-Петербург\n",
              "23689    Санкт-Петербург\n",
              "23690    Санкт-Петербург\n",
              "Name: locality_name, Length: 10054, dtype: object"
            ]
          },
          "metadata": {},
          "execution_count": 117
        }
      ]
    },
    {
      "cell_type": "markdown",
      "source": [
        "Столбец с расстоянием до центра в километрах"
      ],
      "metadata": {
        "id": "YfNlAiiTrb0o"
      }
    },
    {
      "cell_type": "code",
      "source": [
        "df_SP['cityCenters_nearest_km'] = df_SP['cityCenters_nearest'] // 1000\n",
        "df_SP['cityCenters_nearest_km']"
      ],
      "metadata": {
        "colab": {
          "base_uri": "https://localhost:8080/"
        },
        "id": "WZLzuodgrAyJ",
        "outputId": "08e0dc00-a753-4347-9848-b8020da56d03"
      },
      "execution_count": null,
      "outputs": [
        {
          "output_type": "stream",
          "name": "stderr",
          "text": [
            "\n",
            "A value is trying to be set on a copy of a slice from a DataFrame.\n",
            "Try using .loc[row_indexer,col_indexer] = value instead\n",
            "\n",
            "See the caveats in the documentation: https://pandas.pydata.org/pandas-docs/stable/user_guide/indexing.html#returning-a-view-versus-a-copy\n"
          ]
        },
        {
          "output_type": "execute_result",
          "data": {
            "text/plain": [
              "9        15.0\n",
              "10       13.0\n",
              "15       14.0\n",
              "18       10.0\n",
              "21        9.0\n",
              "         ... \n",
              "23681     7.0\n",
              "23686    11.0\n",
              "23687    16.0\n",
              "23689    16.0\n",
              "23690     6.0\n",
              "Name: cityCenters_nearest_km, Length: 10054, dtype: float64"
            ]
          },
          "metadata": {},
          "execution_count": 118
        }
      ]
    },
    {
      "cell_type": "markdown",
      "source": [
        "Сгруппируем строки по расстоянию и для каждого расстояния посчитаем среднюю стоимость"
      ],
      "metadata": {
        "id": "2f3eLZwBtnZd"
      }
    },
    {
      "cell_type": "code",
      "source": [
        "price_for_km = pd.DataFrame(df_SP.groupby(by=\n",
        "                                        'cityCenters_nearest_km')['last_price']\n",
        "                                                          .mean()).reset_index()\n",
        "price_for_km"
      ],
      "metadata": {
        "colab": {
          "base_uri": "https://localhost:8080/",
          "height": 802
        },
        "id": "ZODKsAditGOb",
        "outputId": "30733df8-95dc-47f7-d7e9-dee69c28565f"
      },
      "execution_count": null,
      "outputs": [
        {
          "output_type": "execute_result",
          "data": {
            "text/plain": [
              "    cityCenters_nearest_km    last_price\n",
              "0                      2.0  6.823421e+06\n",
              "1                      3.0  7.077014e+06\n",
              "2                      4.0  7.073951e+06\n",
              "3                      5.0  6.845078e+06\n",
              "4                      6.0  6.173539e+06\n",
              "5                      7.0  6.352454e+06\n",
              "6                      8.0  5.705985e+06\n",
              "7                      9.0  5.114332e+06\n",
              "8                     10.0  5.020313e+06\n",
              "9                     11.0  5.164600e+06\n",
              "10                    12.0  5.214447e+06\n",
              "11                    13.0  5.324647e+06\n",
              "12                    14.0  5.130532e+06\n",
              "13                    15.0  4.978535e+06\n",
              "14                    16.0  4.826096e+06\n",
              "15                    17.0  4.436292e+06\n",
              "16                    18.0  4.521229e+06\n",
              "17                    19.0  4.547926e+06\n",
              "18                    20.0  6.030368e+06\n",
              "19                    21.0  4.895829e+06\n",
              "20                    22.0  5.049460e+06\n",
              "21                    23.0  4.181120e+06\n",
              "22                    24.0  3.626429e+06\n",
              "23                    25.0  4.216105e+06"
            ],
            "text/html": [
              "\n",
              "  <div id=\"df-57753868-fc19-42ce-aa81-f8340d829d30\">\n",
              "    <div class=\"colab-df-container\">\n",
              "      <div>\n",
              "<style scoped>\n",
              "    .dataframe tbody tr th:only-of-type {\n",
              "        vertical-align: middle;\n",
              "    }\n",
              "\n",
              "    .dataframe tbody tr th {\n",
              "        vertical-align: top;\n",
              "    }\n",
              "\n",
              "    .dataframe thead th {\n",
              "        text-align: right;\n",
              "    }\n",
              "</style>\n",
              "<table border=\"1\" class=\"dataframe\">\n",
              "  <thead>\n",
              "    <tr style=\"text-align: right;\">\n",
              "      <th></th>\n",
              "      <th>cityCenters_nearest_km</th>\n",
              "      <th>last_price</th>\n",
              "    </tr>\n",
              "  </thead>\n",
              "  <tbody>\n",
              "    <tr>\n",
              "      <th>0</th>\n",
              "      <td>2.0</td>\n",
              "      <td>6.823421e+06</td>\n",
              "    </tr>\n",
              "    <tr>\n",
              "      <th>1</th>\n",
              "      <td>3.0</td>\n",
              "      <td>7.077014e+06</td>\n",
              "    </tr>\n",
              "    <tr>\n",
              "      <th>2</th>\n",
              "      <td>4.0</td>\n",
              "      <td>7.073951e+06</td>\n",
              "    </tr>\n",
              "    <tr>\n",
              "      <th>3</th>\n",
              "      <td>5.0</td>\n",
              "      <td>6.845078e+06</td>\n",
              "    </tr>\n",
              "    <tr>\n",
              "      <th>4</th>\n",
              "      <td>6.0</td>\n",
              "      <td>6.173539e+06</td>\n",
              "    </tr>\n",
              "    <tr>\n",
              "      <th>5</th>\n",
              "      <td>7.0</td>\n",
              "      <td>6.352454e+06</td>\n",
              "    </tr>\n",
              "    <tr>\n",
              "      <th>6</th>\n",
              "      <td>8.0</td>\n",
              "      <td>5.705985e+06</td>\n",
              "    </tr>\n",
              "    <tr>\n",
              "      <th>7</th>\n",
              "      <td>9.0</td>\n",
              "      <td>5.114332e+06</td>\n",
              "    </tr>\n",
              "    <tr>\n",
              "      <th>8</th>\n",
              "      <td>10.0</td>\n",
              "      <td>5.020313e+06</td>\n",
              "    </tr>\n",
              "    <tr>\n",
              "      <th>9</th>\n",
              "      <td>11.0</td>\n",
              "      <td>5.164600e+06</td>\n",
              "    </tr>\n",
              "    <tr>\n",
              "      <th>10</th>\n",
              "      <td>12.0</td>\n",
              "      <td>5.214447e+06</td>\n",
              "    </tr>\n",
              "    <tr>\n",
              "      <th>11</th>\n",
              "      <td>13.0</td>\n",
              "      <td>5.324647e+06</td>\n",
              "    </tr>\n",
              "    <tr>\n",
              "      <th>12</th>\n",
              "      <td>14.0</td>\n",
              "      <td>5.130532e+06</td>\n",
              "    </tr>\n",
              "    <tr>\n",
              "      <th>13</th>\n",
              "      <td>15.0</td>\n",
              "      <td>4.978535e+06</td>\n",
              "    </tr>\n",
              "    <tr>\n",
              "      <th>14</th>\n",
              "      <td>16.0</td>\n",
              "      <td>4.826096e+06</td>\n",
              "    </tr>\n",
              "    <tr>\n",
              "      <th>15</th>\n",
              "      <td>17.0</td>\n",
              "      <td>4.436292e+06</td>\n",
              "    </tr>\n",
              "    <tr>\n",
              "      <th>16</th>\n",
              "      <td>18.0</td>\n",
              "      <td>4.521229e+06</td>\n",
              "    </tr>\n",
              "    <tr>\n",
              "      <th>17</th>\n",
              "      <td>19.0</td>\n",
              "      <td>4.547926e+06</td>\n",
              "    </tr>\n",
              "    <tr>\n",
              "      <th>18</th>\n",
              "      <td>20.0</td>\n",
              "      <td>6.030368e+06</td>\n",
              "    </tr>\n",
              "    <tr>\n",
              "      <th>19</th>\n",
              "      <td>21.0</td>\n",
              "      <td>4.895829e+06</td>\n",
              "    </tr>\n",
              "    <tr>\n",
              "      <th>20</th>\n",
              "      <td>22.0</td>\n",
              "      <td>5.049460e+06</td>\n",
              "    </tr>\n",
              "    <tr>\n",
              "      <th>21</th>\n",
              "      <td>23.0</td>\n",
              "      <td>4.181120e+06</td>\n",
              "    </tr>\n",
              "    <tr>\n",
              "      <th>22</th>\n",
              "      <td>24.0</td>\n",
              "      <td>3.626429e+06</td>\n",
              "    </tr>\n",
              "    <tr>\n",
              "      <th>23</th>\n",
              "      <td>25.0</td>\n",
              "      <td>4.216105e+06</td>\n",
              "    </tr>\n",
              "  </tbody>\n",
              "</table>\n",
              "</div>\n",
              "      <button class=\"colab-df-convert\" onclick=\"convertToInteractive('df-57753868-fc19-42ce-aa81-f8340d829d30')\"\n",
              "              title=\"Convert this dataframe to an interactive table.\"\n",
              "              style=\"display:none;\">\n",
              "        \n",
              "  <svg xmlns=\"http://www.w3.org/2000/svg\" height=\"24px\"viewBox=\"0 0 24 24\"\n",
              "       width=\"24px\">\n",
              "    <path d=\"M0 0h24v24H0V0z\" fill=\"none\"/>\n",
              "    <path d=\"M18.56 5.44l.94 2.06.94-2.06 2.06-.94-2.06-.94-.94-2.06-.94 2.06-2.06.94zm-11 1L8.5 8.5l.94-2.06 2.06-.94-2.06-.94L8.5 2.5l-.94 2.06-2.06.94zm10 10l.94 2.06.94-2.06 2.06-.94-2.06-.94-.94-2.06-.94 2.06-2.06.94z\"/><path d=\"M17.41 7.96l-1.37-1.37c-.4-.4-.92-.59-1.43-.59-.52 0-1.04.2-1.43.59L10.3 9.45l-7.72 7.72c-.78.78-.78 2.05 0 2.83L4 21.41c.39.39.9.59 1.41.59.51 0 1.02-.2 1.41-.59l7.78-7.78 2.81-2.81c.8-.78.8-2.07 0-2.86zM5.41 20L4 18.59l7.72-7.72 1.47 1.35L5.41 20z\"/>\n",
              "  </svg>\n",
              "      </button>\n",
              "      \n",
              "  <style>\n",
              "    .colab-df-container {\n",
              "      display:flex;\n",
              "      flex-wrap:wrap;\n",
              "      gap: 12px;\n",
              "    }\n",
              "\n",
              "    .colab-df-convert {\n",
              "      background-color: #E8F0FE;\n",
              "      border: none;\n",
              "      border-radius: 50%;\n",
              "      cursor: pointer;\n",
              "      display: none;\n",
              "      fill: #1967D2;\n",
              "      height: 32px;\n",
              "      padding: 0 0 0 0;\n",
              "      width: 32px;\n",
              "    }\n",
              "\n",
              "    .colab-df-convert:hover {\n",
              "      background-color: #E2EBFA;\n",
              "      box-shadow: 0px 1px 2px rgba(60, 64, 67, 0.3), 0px 1px 3px 1px rgba(60, 64, 67, 0.15);\n",
              "      fill: #174EA6;\n",
              "    }\n",
              "\n",
              "    [theme=dark] .colab-df-convert {\n",
              "      background-color: #3B4455;\n",
              "      fill: #D2E3FC;\n",
              "    }\n",
              "\n",
              "    [theme=dark] .colab-df-convert:hover {\n",
              "      background-color: #434B5C;\n",
              "      box-shadow: 0px 1px 3px 1px rgba(0, 0, 0, 0.15);\n",
              "      filter: drop-shadow(0px 1px 2px rgba(0, 0, 0, 0.3));\n",
              "      fill: #FFFFFF;\n",
              "    }\n",
              "  </style>\n",
              "\n",
              "      <script>\n",
              "        const buttonEl =\n",
              "          document.querySelector('#df-57753868-fc19-42ce-aa81-f8340d829d30 button.colab-df-convert');\n",
              "        buttonEl.style.display =\n",
              "          google.colab.kernel.accessAllowed ? 'block' : 'none';\n",
              "\n",
              "        async function convertToInteractive(key) {\n",
              "          const element = document.querySelector('#df-57753868-fc19-42ce-aa81-f8340d829d30');\n",
              "          const dataTable =\n",
              "            await google.colab.kernel.invokeFunction('convertToInteractive',\n",
              "                                                     [key], {});\n",
              "          if (!dataTable) return;\n",
              "\n",
              "          const docLinkHtml = 'Like what you see? Visit the ' +\n",
              "            '<a target=\"_blank\" href=https://colab.research.google.com/notebooks/data_table.ipynb>data table notebook</a>'\n",
              "            + ' to learn more about interactive tables.';\n",
              "          element.innerHTML = '';\n",
              "          dataTable['output_type'] = 'display_data';\n",
              "          await google.colab.output.renderOutput(dataTable, element);\n",
              "          const docLink = document.createElement('div');\n",
              "          docLink.innerHTML = docLinkHtml;\n",
              "          element.appendChild(docLink);\n",
              "        }\n",
              "      </script>\n",
              "    </div>\n",
              "  </div>\n",
              "  "
            ]
          },
          "metadata": {},
          "execution_count": 119
        }
      ]
    },
    {
      "cell_type": "markdown",
      "source": [
        "Построим график зависимости цены от удалённости"
      ],
      "metadata": {
        "id": "STkmsSxvu60X"
      }
    },
    {
      "cell_type": "code",
      "source": [
        "plt.plot(price_for_km['cityCenters_nearest_km'], price_for_km['last_price']);\n",
        "plt.title('График зависимости цены от удалённости')\n",
        "plt.grid(True)\n",
        "plt.xlabel('Удалённость')\n",
        "plt.ylabel('Цена');"
      ],
      "metadata": {
        "colab": {
          "base_uri": "https://localhost:8080/",
          "height": 513
        },
        "id": "tp91PGcvvCdq",
        "outputId": "738454cd-dbf3-4a88-ee0f-a03f330ed228"
      },
      "execution_count": null,
      "outputs": [
        {
          "output_type": "display_data",
          "data": {
            "text/plain": [
              "<Figure size 720x576 with 1 Axes>"
            ],
            "image/png": "[encoded data removed]"
          },
          "metadata": {
            "needs_background": "light"
          }
        }
      ]
    },
    {
      "cell_type": "markdown",
      "source": [
        "Наверное, разумно предположить, что центр имеет радиус 7 км, т.к. после этой точки начинается резкий спад (цена быстро падает почти на 3 деления)"
      ],
      "metadata": {
        "id": "JGjq4HG5vja3"
      }
    },
    {
      "cell_type": "code",
      "source": [
        "df_SP_center = df_SP[df_SP['cityCenters_nearest_km'] <= 7]\n",
        "df_SP_center"
      ],
      "metadata": {
        "colab": {
          "base_uri": "https://localhost:8080/",
          "height": 488
        },
        "id": "DUBRlwcV0-Ab",
        "outputId": "6bafe93b-35ba-4005-8e6c-7bac7d745792"
      },
      "execution_count": null,
      "outputs": [
        {
          "output_type": "execute_result",
          "data": {
            "text/plain": [
              "       total_images  last_price  total_area first_day_exposition  rooms  \\\n",
              "94                3   3500000.0        29.5           2019-04-26      1   \n",
              "111               4   4590000.0        40.0           2017-05-29      1   \n",
              "114               5   4000000.0        21.4           2019-02-07      1   \n",
              "138               8   4800000.0        40.0           2017-11-18      2   \n",
              "141               8   6500000.0        32.6           2019-02-27      1   \n",
              "...             ...         ...         ...                  ...    ...   \n",
              "23632            20   5000000.0        38.0           2018-06-23      1   \n",
              "23644             7   4990000.0        62.5           2018-04-26      2   \n",
              "23665            11   4250000.0        47.0           2016-05-20      1   \n",
              "23681            13   5250000.0        43.0           2018-05-11      2   \n",
              "23690             3   5500000.0        52.0           2018-07-19      2   \n",
              "\n",
              "       ceiling_height  floors_total  living_area  floor is_apartment  ...  \\\n",
              "94               2.50           5.0         15.6      2          NaN  ...   \n",
              "111              2.60           6.0         18.0      1          NaN  ...   \n",
              "114              2.90           8.0          8.3      7          NaN  ...   \n",
              "138              2.60           3.0         29.0      2          NaN  ...   \n",
              "141              2.60           5.0         18.5      5          NaN  ...   \n",
              "...               ...           ...          ...    ...          ...  ...   \n",
              "23632            2.55          16.0         28.6     15          NaN  ...   \n",
              "23644            2.70           4.0         32.3      4          NaN  ...   \n",
              "23665            2.60           6.0         18.2      1        False  ...   \n",
              "23681            2.50           5.0         29.0      2          NaN  ...   \n",
              "23690            2.60           5.0         31.0      2          NaN  ...   \n",
              "\n",
              "       ponds_nearest  days_exposition    price_of_1m  month  year  \\\n",
              "94             582.0              4.0  118644.067797      4  2019   \n",
              "111            582.0             31.0  114750.000000      5  2017   \n",
              "114            286.0             74.0  186915.887850      2  2019   \n",
              "138            729.0             80.0  120000.000000     11  2017   \n",
              "141            582.0             74.0  199386.503067      2  2019   \n",
              "...              ...              ...            ...    ...   ...   \n",
              "23632          230.0            113.0  131578.947368      6  2018   \n",
              "23644          171.0            166.0   79840.000000      4  2018   \n",
              "23665          519.0            131.0   90425.531915      5  2016   \n",
              "23681          660.0             80.0  122093.023256      5  2018   \n",
              "23690          582.0             15.0  105769.230769      7  2018   \n",
              "\n",
              "       day_of_week  floor_cat  area_live_to_total  kitchen_live_to_total  \\\n",
              "94               4     другой            0.528814               0.186441   \n",
              "111              0     первый            0.450000               0.250000   \n",
              "114              3     другой            0.387850               0.294393   \n",
              "138              5     другой            0.725000               0.150000   \n",
              "141              2  последний            0.567485               0.168712   \n",
              "...            ...        ...                 ...                    ...   \n",
              "23632            5     другой            0.752632               0.223684   \n",
              "23644            3  последний            0.516800               0.193600   \n",
              "23665            4     первый            0.387234               0.310638   \n",
              "23681            4     другой            0.674419               0.139535   \n",
              "23690            3     другой            0.596154               0.115385   \n",
              "\n",
              "       cityCenters_nearest_km  \n",
              "94                        7.0  \n",
              "111                       6.0  \n",
              "114                       5.0  \n",
              "138                       2.0  \n",
              "141                       5.0  \n",
              "...                       ...  \n",
              "23632                     7.0  \n",
              "23644                     4.0  \n",
              "23665                     4.0  \n",
              "23681                     7.0  \n",
              "23690                     6.0  \n",
              "\n",
              "[1077 rows x 30 columns]"
            ],
            "text/html": [
              "\n",
              "  <div id=\"df-41e07c33-6ed7-4684-80ec-7580e10a1a7c\">\n",
              "    <div class=\"colab-df-container\">\n",
              "      <div>\n",
              "<style scoped>\n",
              "    .dataframe tbody tr th:only-of-type {\n",
              "        vertical-align: middle;\n",
              "    }\n",
              "\n",
              "    .dataframe tbody tr th {\n",
              "        vertical-align: top;\n",
              "    }\n",
              "\n",
              "    .dataframe thead th {\n",
              "        text-align: right;\n",
              "    }\n",
              "</style>\n",
              "<table border=\"1\" class=\"dataframe\">\n",
              "  <thead>\n",
              "    <tr style=\"text-align: right;\">\n",
              "      <th></th>\n",
              "      <th>total_images</th>\n",
              "      <th>last_price</th>\n",
              "      <th>total_area</th>\n",
              "      <th>first_day_exposition</th>\n",
              "      <th>rooms</th>\n",
              "      <th>ceiling_height</th>\n",
              "      <th>floors_total</th>\n",
              "      <th>living_area</th>\n",
              "      <th>floor</th>\n",
              "      <th>is_apartment</th>\n",
              "      <th>...</th>\n",
              "      <th>ponds_nearest</th>\n",
              "      <th>days_exposition</th>\n",
              "      <th>price_of_1m</th>\n",
              "      <th>month</th>\n",
              "      <th>year</th>\n",
              "      <th>day_of_week</th>\n",
              "      <th>floor_cat</th>\n",
              "      <th>area_live_to_total</th>\n",
              "      <th>kitchen_live_to_total</th>\n",
              "      <th>cityCenters_nearest_km</th>\n",
              "    </tr>\n",
              "  </thead>\n",
              "  <tbody>\n",
              "    <tr>\n",
              "      <th>94</th>\n",
              "      <td>3</td>\n",
              "      <td>3500000.0</td>\n",
              "      <td>29.5</td>\n",
              "      <td>2019-04-26</td>\n",
              "      <td>1</td>\n",
              "      <td>2.50</td>\n",
              "      <td>5.0</td>\n",
              "      <td>15.6</td>\n",
              "      <td>2</td>\n",
              "      <td>NaN</td>\n",
              "      <td>...</td>\n",
              "      <td>582.0</td>\n",
              "      <td>4.0</td>\n",
              "      <td>118644.067797</td>\n",
              "      <td>4</td>\n",
              "      <td>2019</td>\n",
              "      <td>4</td>\n",
              "      <td>другой</td>\n",
              "      <td>0.528814</td>\n",
              "      <td>0.186441</td>\n",
              "      <td>7.0</td>\n",
              "    </tr>\n",
              "    <tr>\n",
              "      <th>111</th>\n",
              "      <td>4</td>\n",
              "      <td>4590000.0</td>\n",
              "      <td>40.0</td>\n",
              "      <td>2017-05-29</td>\n",
              "      <td>1</td>\n",
              "      <td>2.60</td>\n",
              "      <td>6.0</td>\n",
              "      <td>18.0</td>\n",
              "      <td>1</td>\n",
              "      <td>NaN</td>\n",
              "      <td>...</td>\n",
              "      <td>582.0</td>\n",
              "      <td>31.0</td>\n",
              "      <td>114750.000000</td>\n",
              "      <td>5</td>\n",
              "      <td>2017</td>\n",
              "      <td>0</td>\n",
              "      <td>первый</td>\n",
              "      <td>0.450000</td>\n",
              "      <td>0.250000</td>\n",
              "      <td>6.0</td>\n",
              "    </tr>\n",
              "    <tr>\n",
              "      <th>114</th>\n",
              "      <td>5</td>\n",
              "      <td>4000000.0</td>\n",
              "      <td>21.4</td>\n",
              "      <td>2019-02-07</td>\n",
              "      <td>1</td>\n",
              "      <td>2.90</td>\n",
              "      <td>8.0</td>\n",
              "      <td>8.3</td>\n",
              "      <td>7</td>\n",
              "      <td>NaN</td>\n",
              "      <td>...</td>\n",
              "      <td>286.0</td>\n",
              "      <td>74.0</td>\n",
              "      <td>186915.887850</td>\n",
              "      <td>2</td>\n",
              "      <td>2019</td>\n",
              "      <td>3</td>\n",
              "      <td>другой</td>\n",
              "      <td>0.387850</td>\n",
              "      <td>0.294393</td>\n",
              "      <td>5.0</td>\n",
              "    </tr>\n",
              "    <tr>\n",
              "      <th>138</th>\n",
              "      <td>8</td>\n",
              "      <td>4800000.0</td>\n",
              "      <td>40.0</td>\n",
              "      <td>2017-11-18</td>\n",
              "      <td>2</td>\n",
              "      <td>2.60</td>\n",
              "      <td>3.0</td>\n",
              "      <td>29.0</td>\n",
              "      <td>2</td>\n",
              "      <td>NaN</td>\n",
              "      <td>...</td>\n",
              "      <td>729.0</td>\n",
              "      <td>80.0</td>\n",
              "      <td>120000.000000</td>\n",
              "      <td>11</td>\n",
              "      <td>2017</td>\n",
              "      <td>5</td>\n",
              "      <td>другой</td>\n",
              "      <td>0.725000</td>\n",
              "      <td>0.150000</td>\n",
              "      <td>2.0</td>\n",
              "    </tr>\n",
              "    <tr>\n",
              "      <th>141</th>\n",
              "      <td>8</td>\n",
              "      <td>6500000.0</td>\n",
              "      <td>32.6</td>\n",
              "      <td>2019-02-27</td>\n",
              "      <td>1</td>\n",
              "      <td>2.60</td>\n",
              "      <td>5.0</td>\n",
              "      <td>18.5</td>\n",
              "      <td>5</td>\n",
              "      <td>NaN</td>\n",
              "      <td>...</td>\n",
              "      <td>582.0</td>\n",
              "      <td>74.0</td>\n",
              "      <td>199386.503067</td>\n",
              "      <td>2</td>\n",
              "      <td>2019</td>\n",
              "      <td>2</td>\n",
              "      <td>последний</td>\n",
              "      <td>0.567485</td>\n",
              "      <td>0.168712</td>\n",
              "      <td>5.0</td>\n",
              "    </tr>\n",
              "    <tr>\n",
              "      <th>...</th>\n",
              "      <td>...</td>\n",
              "      <td>...</td>\n",
              "      <td>...</td>\n",
              "      <td>...</td>\n",
              "      <td>...</td>\n",
              "      <td>...</td>\n",
              "      <td>...</td>\n",
              "      <td>...</td>\n",
              "      <td>...</td>\n",
              "      <td>...</td>\n",
              "      <td>...</td>\n",
              "      <td>...</td>\n",
              "      <td>...</td>\n",
              "      <td>...</td>\n",
              "      <td>...</td>\n",
              "      <td>...</td>\n",
              "      <td>...</td>\n",
              "      <td>...</td>\n",
              "      <td>...</td>\n",
              "      <td>...</td>\n",
              "      <td>...</td>\n",
              "    </tr>\n",
              "    <tr>\n",
              "      <th>23632</th>\n",
              "      <td>20</td>\n",
              "      <td>5000000.0</td>\n",
              "      <td>38.0</td>\n",
              "      <td>2018-06-23</td>\n",
              "      <td>1</td>\n",
              "      <td>2.55</td>\n",
              "      <td>16.0</td>\n",
              "      <td>28.6</td>\n",
              "      <td>15</td>\n",
              "      <td>NaN</td>\n",
              "      <td>...</td>\n",
              "      <td>230.0</td>\n",
              "      <td>113.0</td>\n",
              "      <td>131578.947368</td>\n",
              "      <td>6</td>\n",
              "      <td>2018</td>\n",
              "      <td>5</td>\n",
              "      <td>другой</td>\n",
              "      <td>0.752632</td>\n",
              "      <td>0.223684</td>\n",
              "      <td>7.0</td>\n",
              "    </tr>\n",
              "    <tr>\n",
              "      <th>23644</th>\n",
              "      <td>7</td>\n",
              "      <td>4990000.0</td>\n",
              "      <td>62.5</td>\n",
              "      <td>2018-04-26</td>\n",
              "      <td>2</td>\n",
              "      <td>2.70</td>\n",
              "      <td>4.0</td>\n",
              "      <td>32.3</td>\n",
              "      <td>4</td>\n",
              "      <td>NaN</td>\n",
              "      <td>...</td>\n",
              "      <td>171.0</td>\n",
              "      <td>166.0</td>\n",
              "      <td>79840.000000</td>\n",
              "      <td>4</td>\n",
              "      <td>2018</td>\n",
              "      <td>3</td>\n",
              "      <td>последний</td>\n",
              "      <td>0.516800</td>\n",
              "      <td>0.193600</td>\n",
              "      <td>4.0</td>\n",
              "    </tr>\n",
              "    <tr>\n",
              "      <th>23665</th>\n",
              "      <td>11</td>\n",
              "      <td>4250000.0</td>\n",
              "      <td>47.0</td>\n",
              "      <td>2016-05-20</td>\n",
              "      <td>1</td>\n",
              "      <td>2.60</td>\n",
              "      <td>6.0</td>\n",
              "      <td>18.2</td>\n",
              "      <td>1</td>\n",
              "      <td>False</td>\n",
              "      <td>...</td>\n",
              "      <td>519.0</td>\n",
              "      <td>131.0</td>\n",
              "      <td>90425.531915</td>\n",
              "      <td>5</td>\n",
              "      <td>2016</td>\n",
              "      <td>4</td>\n",
              "      <td>первый</td>\n",
              "      <td>0.387234</td>\n",
              "      <td>0.310638</td>\n",
              "      <td>4.0</td>\n",
              "    </tr>\n",
              "    <tr>\n",
              "      <th>23681</th>\n",
              "      <td>13</td>\n",
              "      <td>5250000.0</td>\n",
              "      <td>43.0</td>\n",
              "      <td>2018-05-11</td>\n",
              "      <td>2</td>\n",
              "      <td>2.50</td>\n",
              "      <td>5.0</td>\n",
              "      <td>29.0</td>\n",
              "      <td>2</td>\n",
              "      <td>NaN</td>\n",
              "      <td>...</td>\n",
              "      <td>660.0</td>\n",
              "      <td>80.0</td>\n",
              "      <td>122093.023256</td>\n",
              "      <td>5</td>\n",
              "      <td>2018</td>\n",
              "      <td>4</td>\n",
              "      <td>другой</td>\n",
              "      <td>0.674419</td>\n",
              "      <td>0.139535</td>\n",
              "      <td>7.0</td>\n",
              "    </tr>\n",
              "    <tr>\n",
              "      <th>23690</th>\n",
              "      <td>3</td>\n",
              "      <td>5500000.0</td>\n",
              "      <td>52.0</td>\n",
              "      <td>2018-07-19</td>\n",
              "      <td>2</td>\n",
              "      <td>2.60</td>\n",
              "      <td>5.0</td>\n",
              "      <td>31.0</td>\n",
              "      <td>2</td>\n",
              "      <td>NaN</td>\n",
              "      <td>...</td>\n",
              "      <td>582.0</td>\n",
              "      <td>15.0</td>\n",
              "      <td>105769.230769</td>\n",
              "      <td>7</td>\n",
              "      <td>2018</td>\n",
              "      <td>3</td>\n",
              "      <td>другой</td>\n",
              "      <td>0.596154</td>\n",
              "      <td>0.115385</td>\n",
              "      <td>6.0</td>\n",
              "    </tr>\n",
              "  </tbody>\n",
              "</table>\n",
              "<p>1077 rows × 30 columns</p>\n",
              "</div>\n",
              "      <button class=\"colab-df-convert\" onclick=\"convertToInteractive('df-41e07c33-6ed7-4684-80ec-7580e10a1a7c')\"\n",
              "              title=\"Convert this dataframe to an interactive table.\"\n",
              "              style=\"display:none;\">\n",
              "        \n",
              "  <svg xmlns=\"http://www.w3.org/2000/svg\" height=\"24px\"viewBox=\"0 0 24 24\"\n",
              "       width=\"24px\">\n",
              "    <path d=\"M0 0h24v24H0V0z\" fill=\"none\"/>\n",
              "    <path d=\"M18.56 5.44l.94 2.06.94-2.06 2.06-.94-2.06-.94-.94-2.06-.94 2.06-2.06.94zm-11 1L8.5 8.5l.94-2.06 2.06-.94-2.06-.94L8.5 2.5l-.94 2.06-2.06.94zm10 10l.94 2.06.94-2.06 2.06-.94-2.06-.94-.94-2.06-.94 2.06-2.06.94z\"/><path d=\"M17.41 7.96l-1.37-1.37c-.4-.4-.92-.59-1.43-.59-.52 0-1.04.2-1.43.59L10.3 9.45l-7.72 7.72c-.78.78-.78 2.05 0 2.83L4 21.41c.39.39.9.59 1.41.59.51 0 1.02-.2 1.41-.59l7.78-7.78 2.81-2.81c.8-.78.8-2.07 0-2.86zM5.41 20L4 18.59l7.72-7.72 1.47 1.35L5.41 20z\"/>\n",
              "  </svg>\n",
              "      </button>\n",
              "      \n",
              "  <style>\n",
              "    .colab-df-container {\n",
              "      display:flex;\n",
              "      flex-wrap:wrap;\n",
              "      gap: 12px;\n",
              "    }\n",
              "\n",
              "    .colab-df-convert {\n",
              "      background-color: #E8F0FE;\n",
              "      border: none;\n",
              "      border-radius: 50%;\n",
              "      cursor: pointer;\n",
              "      display: none;\n",
              "      fill: #1967D2;\n",
              "      height: 32px;\n",
              "      padding: 0 0 0 0;\n",
              "      width: 32px;\n",
              "    }\n",
              "\n",
              "    .colab-df-convert:hover {\n",
              "      background-color: #E2EBFA;\n",
              "      box-shadow: 0px 1px 2px rgba(60, 64, 67, 0.3), 0px 1px 3px 1px rgba(60, 64, 67, 0.15);\n",
              "      fill: #174EA6;\n",
              "    }\n",
              "\n",
              "    [theme=dark] .colab-df-convert {\n",
              "      background-color: #3B4455;\n",
              "      fill: #D2E3FC;\n",
              "    }\n",
              "\n",
              "    [theme=dark] .colab-df-convert:hover {\n",
              "      background-color: #434B5C;\n",
              "      box-shadow: 0px 1px 3px 1px rgba(0, 0, 0, 0.15);\n",
              "      filter: drop-shadow(0px 1px 2px rgba(0, 0, 0, 0.3));\n",
              "      fill: #FFFFFF;\n",
              "    }\n",
              "  </style>\n",
              "\n",
              "      <script>\n",
              "        const buttonEl =\n",
              "          document.querySelector('#df-41e07c33-6ed7-4684-80ec-7580e10a1a7c button.colab-df-convert');\n",
              "        buttonEl.style.display =\n",
              "          google.colab.kernel.accessAllowed ? 'block' : 'none';\n",
              "\n",
              "        async function convertToInteractive(key) {\n",
              "          const element = document.querySelector('#df-41e07c33-6ed7-4684-80ec-7580e10a1a7c');\n",
              "          const dataTable =\n",
              "            await google.colab.kernel.invokeFunction('convertToInteractive',\n",
              "                                                     [key], {});\n",
              "          if (!dataTable) return;\n",
              "\n",
              "          const docLinkHtml = 'Like what you see? Visit the ' +\n",
              "            '<a target=\"_blank\" href=https://colab.research.google.com/notebooks/data_table.ipynb>data table notebook</a>'\n",
              "            + ' to learn more about interactive tables.';\n",
              "          element.innerHTML = '';\n",
              "          dataTable['output_type'] = 'display_data';\n",
              "          await google.colab.output.renderOutput(dataTable, element);\n",
              "          const docLink = document.createElement('div');\n",
              "          docLink.innerHTML = docLinkHtml;\n",
              "          element.appendChild(docLink);\n",
              "        }\n",
              "      </script>\n",
              "    </div>\n",
              "  </div>\n",
              "  "
            ]
          },
          "metadata": {},
          "execution_count": 121
        }
      ]
    },
    {
      "cell_type": "markdown",
      "source": [
        "## Анализ влияния различных параметров на стоимость"
      ],
      "metadata": {
        "id": "hBb73Bh9yrJw"
      }
    },
    {
      "cell_type": "markdown",
      "source": [
        "Построим три ML-алгоритма:\n",
        "- первый будет предсказывать стоимость по всему датасету\n",
        "- второй только по объявлениям, относящимся к Санкт-Петербургу\n",
        "- третий только по объявлениям, относящимся к Санкт-Петербургу и находящимся на расстоянии не более 7 км. от центра\n",
        "\n",
        "В качестве модели выберем CatBoost, т.к. он обычно хорошо работает из коробки, и можно не сильно заморачиваться с подбором гиперпараметров"
      ],
      "metadata": {
        "id": "MHM_Hd-jzNOc"
      }
    },
    {
      "cell_type": "markdown",
      "source": [
        "Удалим столбец is_apartment, т.к. в нём подавляющее большинство значений - пропуски, а также столбец даты и столбец price_of_1_m, т.к. он был построен с помощью целевой переменной"
      ],
      "metadata": {
        "id": "xy1gyBel0rgT"
      }
    },
    {
      "cell_type": "code",
      "source": [
        "del data['is_apartment']\n",
        "del df_SP['is_apartment']\n",
        "del df_SP_center['is_apartment']\n",
        "\n",
        "del data['first_day_exposition']\n",
        "del df_SP['first_day_exposition']\n",
        "del df_SP_center['first_day_exposition']\n",
        "\n",
        "del data['price_of_1m']\n",
        "del df_SP['price_of_1m']\n",
        "del df_SP_center['price_of_1m']"
      ],
      "metadata": {
        "id": "2lLpxpcNvMk-"
      },
      "execution_count": null,
      "outputs": []
    },
    {
      "cell_type": "markdown",
      "source": [
        "Метод для вывода метрик"
      ],
      "metadata": {
        "id": "6dD0oUGP3c3P"
      }
    },
    {
      "cell_type": "code",
      "source": [
        "def r2_adjusted(y_true: list, y_pred: list, X_test: np.array) -> float:\n",
        "    N_objects = len(y_true)\n",
        "    N_features = X_test.shape[1]\n",
        "    r2 = r2_score(y_true, y_pred)\n",
        "    return 1 - (1 - r2) * (N_objects - 1) / (N_objects - N_features - 1)\n",
        "\n",
        "\n",
        "def mpe(y_true: list, y_pred: list) -> float:\n",
        "    return np.mean((y_true - y_pred)/ y_true)\n",
        "\n",
        "\n",
        "def mape(y_true: list, y_pred: list) -> float:\n",
        "    return np.mean(np.abs((y_pred - y_true) / y_true))\n",
        "\n",
        "\n",
        "def wape(y_true: list, y_pred: list) -> float:\n",
        "    return np.sum(np.abs(y_pred - y_true)) / np.sum(y_true)\n",
        "\n",
        "\n",
        "def huber_loss(y_true, y_pred, delta):\n",
        "    assert len(y_true) == len(y_pred), 'Разные размеры данных'\n",
        "    huber_sum = 0\n",
        "    for i in range(len(y_true)):\n",
        "        if abs(y_true[i] - y_pred[i]) <= delta:\n",
        "            huber_sum += 0.5 * (y_true[i] - y_pred[i])**2\n",
        "        else:\n",
        "            huber_sum += delta * (0.5 * abs(y_true[i] - y_pred[i]) -\n",
        "                                  0.5 * delta)\n",
        "    huber_sum /= len(y_true)\n",
        "    return huber_sum\n",
        "\n",
        "\n",
        "def rmsle(y_true: np.ndarray, y_pred: np.ndarray) -> np.float64:\n",
        "    \"\"\"\n",
        "    The Root Mean Squared Log Error (RMSLE) metric \n",
        "    Логаритмическая ошибка средней квадратичной ошибки\n",
        "    \"\"\"\n",
        "    return np.sqrt(mean_squared_log_error(y_true, y_pred))\n",
        "\n",
        "\n",
        "def get_metrics(y_test, y_pred, X_test, name, delta):\n",
        "    df_metrics = pd.DataFrame()\n",
        "    \n",
        "    df_metrics['model'] = [name]\n",
        "    \n",
        "    df_metrics['MAE'] = [mean_absolute_error(y_test, y_pred)]\n",
        "    df_metrics['MSE'] = [mean_squared_error(y_test, y_pred)]\n",
        "    df_metrics['RMSE'] = [np.sqrt(mean_squared_error(y_test, y_pred))]\n",
        "    try:\n",
        "        df_metrics['RMSLE'] = [rmsle(y_test, y_pred)]\n",
        "    except:\n",
        "        df_metrics['RMSLE'] = 0\n",
        "\n",
        "    df_metrics['R2 adjusted'] = [r2_adjusted(y_test, y_pred, X_test)]\n",
        "    df_metrics['Huber_loss'] = [huber_loss(y_test, y_pred, delta)]\n",
        "    df_metrics['MPE_%'] = [mpe(y_test, y_pred)*100]\n",
        "    df_metrics['MAPE_%'] = [mape(y_test, y_pred)*100]\n",
        "    df_metrics['WAPE_%'] = [wape(y_test, y_pred)*100]\n",
        "    \n",
        "    return df_metrics"
      ],
      "metadata": {
        "id": "0Hu0_OoKvMs7"
      },
      "execution_count": null,
      "outputs": []
    },
    {
      "cell_type": "markdown",
      "source": [
        "Подготовим данные и обучим первый алгоритм"
      ],
      "metadata": {
        "id": "6EdGdRvT2QrD"
      }
    },
    {
      "cell_type": "code",
      "source": [
        "data = data.dropna()\n",
        "feature_cols = data.drop(columns = ['last_price'])\n",
        "\n",
        "X_train, X_test, y_train, y_test = train_test_split(feature_cols,\n",
        "                                                    data['last_price'],\n",
        "                                                    test_size=0.16,\n",
        "                                                    random_state=10)\n",
        "\n",
        "# Выборки для проверки после каждой итерации обучения\n",
        "X_train_, X_val, y_train_, y_val = train_test_split(X_train,\n",
        "                                                    y_train,\n",
        "                                                    test_size=0.16,\n",
        "                                                    shuffle=True,\n",
        "                                                    random_state=10)\n",
        "eval_set = [(X_val, y_val)]\n",
        "\n",
        "# Категориальные столбцы\n",
        "cat_features = ['locality_name', 'floor_cat']\n",
        "\n",
        "clf = CatBoostRegressor(random_state=10,\\\n",
        "                         cat_features = cat_features)\n",
        "\n",
        "eval_set = [(X_val, y_val)]\n",
        "\n",
        "clf.fit(X_train_,\n",
        "        y_train_,\n",
        "        eval_set=eval_set,\n",
        "        early_stopping_rounds=50,\n",
        "        verbose=2)"
      ],
      "metadata": {
        "colab": {
          "base_uri": "https://localhost:8080/"
        },
        "id": "MPhNCoaqvMnk",
        "outputId": "43d79f4a-45f8-4413-f080-e07b9e59a9ca"
      },
      "execution_count": null,
      "outputs": [
        {
          "output_type": "stream",
          "name": "stdout",
          "text": [
            "Learning rate set to 0.07387\n",
            "0:\tlearn: 1888577.2902032\ttest: 1881134.1532661\tbest: 1881134.1532661 (0)\ttotal: 70.2ms\tremaining: 1m 10s\n",
            "2:\tlearn: 1719295.2237388\ttest: 1714673.8650335\tbest: 1714673.8650335 (2)\ttotal: 129ms\tremaining: 43s\n",
            "4:\tlearn: 1577775.7910822\ttest: 1576232.1337056\tbest: 1576232.1337056 (4)\ttotal: 190ms\tremaining: 37.9s\n",
            "6:\tlearn: 1463150.6749401\ttest: 1463360.5944086\tbest: 1463360.5944086 (6)\ttotal: 269ms\tremaining: 38.1s\n",
            "8:\tlearn: 1365929.3663598\ttest: 1368427.7476788\tbest: 1368427.7476788 (8)\ttotal: 323ms\tremaining: 35.6s\n",
            "10:\tlearn: 1281948.8913081\ttest: 1285824.3412711\tbest: 1285824.3412711 (10)\ttotal: 374ms\tremaining: 33.6s\n",
            "12:\tlearn: 1213350.5366665\ttest: 1218939.2333173\tbest: 1218939.2333173 (12)\ttotal: 404ms\tremaining: 30.7s\n",
            "14:\tlearn: 1147228.5499624\ttest: 1153269.5557357\tbest: 1153269.5557357 (14)\ttotal: 480ms\tremaining: 31.6s\n",
            "16:\tlearn: 1092840.6819128\ttest: 1100727.2673544\tbest: 1100727.2673544 (16)\ttotal: 543ms\tremaining: 31.4s\n",
            "18:\tlearn: 1049605.3118289\ttest: 1058437.7871647\tbest: 1058437.7871647 (18)\ttotal: 596ms\tremaining: 30.8s\n",
            "20:\tlearn: 1013755.4567137\ttest: 1022527.5055684\tbest: 1022527.5055684 (20)\ttotal: 653ms\tremaining: 30.4s\n",
            "22:\tlearn: 980552.6926281\ttest: 988982.6970111\tbest: 988982.6970111 (22)\ttotal: 680ms\tremaining: 28.9s\n",
            "24:\tlearn: 955108.6993779\ttest: 964117.2731806\tbest: 964117.2731806 (24)\ttotal: 806ms\tremaining: 31.4s\n",
            "26:\tlearn: 935834.2029110\ttest: 949221.0625235\tbest: 949221.0625235 (26)\ttotal: 832ms\tremaining: 30s\n",
            "28:\tlearn: 918579.9786050\ttest: 932233.7300680\tbest: 932233.7300680 (28)\ttotal: 880ms\tremaining: 29.5s\n",
            "30:\tlearn: 901970.8190500\ttest: 916713.0263646\tbest: 916713.0263646 (30)\ttotal: 935ms\tremaining: 29.2s\n",
            "32:\tlearn: 888972.1751447\ttest: 904889.8776340\tbest: 904889.8776340 (32)\ttotal: 971ms\tremaining: 28.5s\n",
            "34:\tlearn: 877165.7694406\ttest: 893997.0505888\tbest: 893997.0505888 (34)\ttotal: 1.01s\tremaining: 28s\n",
            "36:\tlearn: 868039.0861103\ttest: 885736.8720202\tbest: 885736.8720202 (36)\ttotal: 1.07s\tremaining: 27.9s\n",
            "38:\tlearn: 857702.9512655\ttest: 875939.5340311\tbest: 875939.5340311 (38)\ttotal: 1.13s\tremaining: 27.9s\n",
            "40:\tlearn: 850653.2698851\ttest: 869111.2003959\tbest: 869111.2003959 (40)\ttotal: 1.19s\tremaining: 27.8s\n",
            "42:\tlearn: 842462.5467599\ttest: 861541.1222024\tbest: 861541.1222024 (42)\ttotal: 1.25s\tremaining: 27.9s\n",
            "44:\tlearn: 835436.7489717\ttest: 855293.6916483\tbest: 855293.6916483 (44)\ttotal: 1.3s\tremaining: 27.6s\n",
            "46:\tlearn: 829271.9743706\ttest: 849725.4122159\tbest: 849725.4122159 (46)\ttotal: 1.33s\tremaining: 27s\n",
            "48:\tlearn: 824197.6453589\ttest: 844621.1755015\tbest: 844621.1755015 (48)\ttotal: 1.36s\tremaining: 26.5s\n",
            "50:\tlearn: 819064.3864571\ttest: 839373.1824229\tbest: 839373.1824229 (50)\ttotal: 1.43s\tremaining: 26.5s\n",
            "52:\tlearn: 814657.6290874\ttest: 836993.2018875\tbest: 836993.2018875 (52)\ttotal: 1.49s\tremaining: 26.6s\n",
            "54:\tlearn: 811379.2067887\ttest: 833950.3878627\tbest: 833950.3878627 (54)\ttotal: 1.55s\tremaining: 26.7s\n",
            "56:\tlearn: 807959.5589267\ttest: 831099.8940658\tbest: 831099.8940658 (56)\ttotal: 1.64s\tremaining: 27.1s\n",
            "58:\tlearn: 804885.0014165\ttest: 829171.1335385\tbest: 829171.1335385 (58)\ttotal: 1.72s\tremaining: 27.4s\n",
            "60:\tlearn: 801796.3185913\ttest: 826189.2447542\tbest: 826189.2447542 (60)\ttotal: 1.77s\tremaining: 27.3s\n",
            "62:\tlearn: 799191.6673790\ttest: 823049.6815549\tbest: 823049.6815549 (62)\ttotal: 1.84s\tremaining: 27.3s\n",
            "64:\tlearn: 796601.9232430\ttest: 821243.3659778\tbest: 821243.3659778 (64)\ttotal: 1.93s\tremaining: 27.7s\n",
            "66:\tlearn: 794120.3517086\ttest: 818816.4752418\tbest: 818816.4752418 (66)\ttotal: 1.98s\tremaining: 27.6s\n",
            "68:\tlearn: 790948.3475835\ttest: 816547.1651763\tbest: 816547.1651763 (68)\ttotal: 2.03s\tremaining: 27.4s\n",
            "70:\tlearn: 787961.3788181\ttest: 814391.4857020\tbest: 814391.4857020 (70)\ttotal: 2.07s\tremaining: 27.1s\n",
            "72:\tlearn: 785734.0921706\ttest: 812819.4113293\tbest: 812819.4113293 (72)\ttotal: 2.1s\tremaining: 26.7s\n",
            "74:\tlearn: 783028.9076646\ttest: 811231.8187336\tbest: 811231.8187336 (74)\ttotal: 2.21s\tremaining: 27.3s\n",
            "76:\tlearn: 780590.9577822\ttest: 809755.0008236\tbest: 809755.0008236 (76)\ttotal: 2.28s\tremaining: 27.3s\n",
            "78:\tlearn: 778501.0231873\ttest: 808205.7958314\tbest: 808205.7958314 (78)\ttotal: 2.36s\tremaining: 27.5s\n",
            "80:\tlearn: 776891.5123764\ttest: 807088.7115347\tbest: 807088.7115347 (80)\ttotal: 2.42s\tremaining: 27.5s\n",
            "82:\tlearn: 775155.4539211\ttest: 805819.8960373\tbest: 805819.8960373 (82)\ttotal: 2.46s\tremaining: 27.2s\n",
            "84:\tlearn: 772839.5555863\ttest: 804494.0411044\tbest: 804494.0411044 (84)\ttotal: 2.52s\tremaining: 27.1s\n",
            "86:\tlearn: 771137.9009731\ttest: 803167.9223528\tbest: 803167.9223528 (86)\ttotal: 2.61s\tremaining: 27.4s\n",
            "88:\tlearn: 769235.0625420\ttest: 801780.8227796\tbest: 801780.8227796 (88)\ttotal: 2.67s\tremaining: 27.3s\n",
            "90:\tlearn: 768137.6027138\ttest: 800982.8276237\tbest: 800982.8276237 (90)\ttotal: 2.73s\tremaining: 27.3s\n",
            "92:\tlearn: 765940.4916203\ttest: 799537.5964497\tbest: 799537.5964497 (92)\ttotal: 2.79s\tremaining: 27.2s\n",
            "94:\tlearn: 764294.5132044\ttest: 798842.6896810\tbest: 798842.6896810 (94)\ttotal: 2.84s\tremaining: 27.1s\n",
            "96:\tlearn: 762674.4395678\ttest: 798098.7262724\tbest: 798098.7262724 (96)\ttotal: 2.9s\tremaining: 27s\n",
            "98:\tlearn: 761250.3395702\ttest: 797541.4258196\tbest: 797541.4258196 (98)\ttotal: 2.95s\tremaining: 26.9s\n",
            "100:\tlearn: 760225.1603442\ttest: 796418.5113577\tbest: 796418.5113577 (100)\ttotal: 3.02s\tremaining: 26.9s\n",
            "102:\tlearn: 759066.8523672\ttest: 795565.6066999\tbest: 795565.6066999 (102)\ttotal: 3.08s\tremaining: 26.8s\n",
            "104:\tlearn: 757553.5224221\ttest: 794963.4546250\tbest: 794963.4546250 (104)\ttotal: 3.11s\tremaining: 26.5s\n",
            "106:\tlearn: 755991.6181337\ttest: 793688.0869335\tbest: 793688.0869335 (106)\ttotal: 3.17s\tremaining: 26.4s\n",
            "108:\tlearn: 753446.2406484\ttest: 792756.9553748\tbest: 792756.9553748 (108)\ttotal: 3.22s\tremaining: 26.3s\n",
            "110:\tlearn: 751878.0336469\ttest: 791414.8464867\tbest: 791414.8464867 (110)\ttotal: 3.26s\tremaining: 26.1s\n",
            "112:\tlearn: 750709.6751468\ttest: 790751.1810847\tbest: 790751.1810847 (112)\ttotal: 3.31s\tremaining: 26s\n",
            "114:\tlearn: 749167.1944619\ttest: 790255.5099571\tbest: 790255.5099571 (114)\ttotal: 3.41s\tremaining: 26.2s\n",
            "116:\tlearn: 747858.7350425\ttest: 789953.7064009\tbest: 789953.7064009 (116)\ttotal: 3.48s\tremaining: 26.3s\n",
            "118:\tlearn: 746616.6388630\ttest: 789504.9952473\tbest: 789504.9952473 (118)\ttotal: 3.52s\tremaining: 26.1s\n",
            "120:\tlearn: 745062.2104996\ttest: 788288.7688351\tbest: 788288.7688351 (120)\ttotal: 3.58s\tremaining: 26s\n",
            "122:\tlearn: 743291.6365419\ttest: 787121.5865347\tbest: 787121.5865347 (122)\ttotal: 3.65s\tremaining: 26s\n",
            "124:\tlearn: 742299.4189768\ttest: 786465.3062181\tbest: 786465.3062181 (124)\ttotal: 3.72s\tremaining: 26s\n",
            "126:\tlearn: 740600.5677398\ttest: 785493.4088136\tbest: 785493.4088136 (126)\ttotal: 3.76s\tremaining: 25.9s\n",
            "128:\tlearn: 739029.9825907\ttest: 784822.4139255\tbest: 784822.4139255 (128)\ttotal: 3.81s\tremaining: 25.8s\n",
            "130:\tlearn: 737491.7534808\ttest: 783981.2085358\tbest: 783981.2085358 (130)\ttotal: 3.87s\tremaining: 25.7s\n",
            "132:\tlearn: 736390.3969383\ttest: 783273.2184916\tbest: 783273.2184916 (132)\ttotal: 3.9s\tremaining: 25.4s\n",
            "134:\tlearn: 735188.6330857\ttest: 782684.1248426\tbest: 782684.1248426 (134)\ttotal: 3.96s\tremaining: 25.4s\n",
            "136:\tlearn: 734018.3707726\ttest: 781901.1771731\tbest: 781901.1771731 (136)\ttotal: 4s\tremaining: 25.2s\n",
            "138:\tlearn: 732906.2785580\ttest: 781202.9471201\tbest: 781202.9471201 (138)\ttotal: 4.03s\tremaining: 24.9s\n",
            "140:\tlearn: 731712.8388303\ttest: 781194.0590544\tbest: 781194.0590544 (140)\ttotal: 4.08s\tremaining: 24.9s\n",
            "142:\tlearn: 730367.7574055\ttest: 780552.6680778\tbest: 780417.6020948 (141)\ttotal: 4.16s\tremaining: 24.9s\n",
            "144:\tlearn: 729278.9370933\ttest: 779824.7509384\tbest: 779824.7509384 (144)\ttotal: 4.21s\tremaining: 24.8s\n",
            "146:\tlearn: 727127.9812736\ttest: 778399.6273919\tbest: 778399.6273919 (146)\ttotal: 4.26s\tremaining: 24.7s\n",
            "148:\tlearn: 725962.7327063\ttest: 778001.9238584\tbest: 778001.9238584 (148)\ttotal: 4.32s\tremaining: 24.7s\n",
            "150:\tlearn: 724692.3646899\ttest: 777652.8586334\tbest: 777652.8586334 (150)\ttotal: 4.38s\tremaining: 24.7s\n",
            "152:\tlearn: 723454.0340962\ttest: 777306.0193793\tbest: 777306.0193793 (152)\ttotal: 4.43s\tremaining: 24.5s\n",
            "154:\tlearn: 722061.4235130\ttest: 776892.1396746\tbest: 776859.9771800 (153)\ttotal: 4.47s\tremaining: 24.4s\n",
            "156:\tlearn: 721053.3217458\ttest: 776372.5531122\tbest: 776372.5531122 (156)\ttotal: 4.52s\tremaining: 24.3s\n",
            "158:\tlearn: 720080.5696772\ttest: 776207.4756020\tbest: 776207.4756020 (158)\ttotal: 4.61s\tremaining: 24.4s\n",
            "160:\tlearn: 718883.8572109\ttest: 775587.7875785\tbest: 775587.7875785 (160)\ttotal: 4.66s\tremaining: 24.3s\n",
            "162:\tlearn: 717637.5132063\ttest: 774731.3192050\tbest: 774731.3192050 (162)\ttotal: 4.7s\tremaining: 24.1s\n",
            "164:\tlearn: 716100.2024230\ttest: 774519.8209082\tbest: 774519.8209082 (164)\ttotal: 4.74s\tremaining: 24s\n",
            "166:\tlearn: 715472.1467617\ttest: 774493.5652208\tbest: 774396.6940285 (165)\ttotal: 4.79s\tremaining: 23.9s\n",
            "168:\tlearn: 714257.6771092\ttest: 774478.9395271\tbest: 774396.6940285 (165)\ttotal: 4.86s\tremaining: 23.9s\n",
            "170:\tlearn: 713307.3768337\ttest: 774009.0394599\tbest: 774009.0394599 (170)\ttotal: 4.9s\tremaining: 23.7s\n",
            "172:\tlearn: 711866.1833801\ttest: 773812.7933386\tbest: 773812.7933386 (172)\ttotal: 4.95s\tremaining: 23.7s\n",
            "174:\tlearn: 710735.9926961\ttest: 772888.8512897\tbest: 772888.8512897 (174)\ttotal: 5.02s\tremaining: 23.7s\n",
            "176:\tlearn: 709175.4544983\ttest: 772469.0493877\tbest: 772469.0493877 (176)\ttotal: 5.07s\tremaining: 23.6s\n",
            "178:\tlearn: 708097.1214326\ttest: 771731.2722270\tbest: 771731.2722270 (178)\ttotal: 5.09s\tremaining: 23.4s\n",
            "180:\tlearn: 707216.8822426\ttest: 771279.2691201\tbest: 771279.2691201 (180)\ttotal: 5.12s\tremaining: 23.2s\n",
            "182:\tlearn: 706521.1421624\ttest: 770918.6133747\tbest: 770904.4110506 (181)\ttotal: 5.14s\tremaining: 23s\n",
            "184:\tlearn: 705413.8625644\ttest: 770671.2673584\tbest: 770671.2673584 (184)\ttotal: 5.17s\tremaining: 22.8s\n",
            "186:\tlearn: 704358.4519771\ttest: 770244.7331490\tbest: 770244.7331490 (186)\ttotal: 5.25s\tremaining: 22.8s\n",
            "188:\tlearn: 702838.8536671\ttest: 769479.8021567\tbest: 769479.8021567 (188)\ttotal: 5.29s\tremaining: 22.7s\n",
            "190:\tlearn: 701260.7523759\ttest: 768869.4758077\tbest: 768869.4758077 (190)\ttotal: 5.35s\tremaining: 22.7s\n",
            "192:\tlearn: 700719.6774066\ttest: 768996.0511055\tbest: 768869.4758077 (190)\ttotal: 5.4s\tremaining: 22.6s\n",
            "194:\tlearn: 699461.6030869\ttest: 768162.2152204\tbest: 768162.2152204 (194)\ttotal: 5.45s\tremaining: 22.5s\n",
            "196:\tlearn: 698773.5667081\ttest: 767908.4492913\tbest: 767908.4492913 (196)\ttotal: 5.52s\tremaining: 22.5s\n",
            "198:\tlearn: 697942.6107357\ttest: 767728.0684527\tbest: 767728.0684527 (198)\ttotal: 5.59s\tremaining: 22.5s\n",
            "200:\tlearn: 697531.2703258\ttest: 767695.2348951\tbest: 767657.5937094 (199)\ttotal: 5.64s\tremaining: 22.4s\n",
            "202:\tlearn: 696859.4760417\ttest: 767248.9455252\tbest: 767248.9455252 (202)\ttotal: 5.67s\tremaining: 22.3s\n",
            "204:\tlearn: 695744.8505845\ttest: 767285.4770797\tbest: 767248.9455252 (202)\ttotal: 5.7s\tremaining: 22.1s\n",
            "206:\tlearn: 695155.0444204\ttest: 767023.5223670\tbest: 767023.5223670 (206)\ttotal: 5.76s\tremaining: 22.1s\n",
            "208:\tlearn: 694164.7850874\ttest: 766583.8494889\tbest: 766583.8494889 (208)\ttotal: 5.84s\tremaining: 22.1s\n",
            "210:\tlearn: 693397.1596479\ttest: 766100.7301699\tbest: 766100.7301699 (210)\ttotal: 5.9s\tremaining: 22s\n",
            "212:\tlearn: 692750.3627503\ttest: 765787.5658186\tbest: 765787.5658186 (212)\ttotal: 5.92s\tremaining: 21.9s\n",
            "214:\tlearn: 691522.2396880\ttest: 765061.2358224\tbest: 765061.2358224 (214)\ttotal: 5.95s\tremaining: 21.7s\n",
            "216:\tlearn: 690699.3754465\ttest: 764936.9299863\tbest: 764900.6752415 (215)\ttotal: 6.02s\tremaining: 21.7s\n",
            "218:\tlearn: 690000.3368414\ttest: 764781.9794738\tbest: 764781.9794738 (218)\ttotal: 6.08s\tremaining: 21.7s\n",
            "220:\tlearn: 689064.7664487\ttest: 764469.8554068\tbest: 764469.8554068 (220)\ttotal: 6.13s\tremaining: 21.6s\n",
            "222:\tlearn: 688349.3139914\ttest: 764485.6231205\tbest: 764375.0709534 (221)\ttotal: 6.19s\tremaining: 21.6s\n",
            "224:\tlearn: 687606.1717366\ttest: 764048.8961680\tbest: 764048.8961680 (224)\ttotal: 6.25s\tremaining: 21.5s\n",
            "226:\tlearn: 686152.3438230\ttest: 764377.6046441\tbest: 764048.8961680 (224)\ttotal: 6.31s\tremaining: 21.5s\n",
            "228:\tlearn: 685409.2189102\ttest: 763945.7058355\tbest: 763945.7058355 (228)\ttotal: 6.37s\tremaining: 21.4s\n",
            "230:\tlearn: 684584.0609769\ttest: 763304.7897817\tbest: 763304.7897817 (230)\ttotal: 6.46s\tremaining: 21.5s\n",
            "232:\tlearn: 683628.3530955\ttest: 763176.4205775\tbest: 763176.4205775 (232)\ttotal: 6.51s\tremaining: 21.4s\n",
            "234:\tlearn: 682569.2931007\ttest: 763170.6139862\tbest: 763090.8799447 (233)\ttotal: 6.58s\tremaining: 21.4s\n",
            "236:\tlearn: 681504.3508651\ttest: 763101.4365130\tbest: 762982.5775070 (235)\ttotal: 6.63s\tremaining: 21.4s\n",
            "238:\tlearn: 680995.0341840\ttest: 763060.9086079\tbest: 762982.5775070 (235)\ttotal: 6.74s\tremaining: 21.4s\n",
            "240:\tlearn: 680410.0432371\ttest: 762998.0695010\tbest: 762982.5775070 (235)\ttotal: 6.81s\tremaining: 21.5s\n",
            "242:\tlearn: 679281.8330971\ttest: 762573.8563679\tbest: 762573.8563679 (242)\ttotal: 6.88s\tremaining: 21.4s\n",
            "244:\tlearn: 677913.5173708\ttest: 761978.7076711\tbest: 761978.7076711 (244)\ttotal: 6.97s\tremaining: 21.5s\n",
            "246:\tlearn: 676934.7183752\ttest: 761428.2710048\tbest: 761428.2710048 (246)\ttotal: 7.01s\tremaining: 21.4s\n",
            "248:\tlearn: 676386.0236782\ttest: 761406.8363565\tbest: 761335.6461088 (247)\ttotal: 7.04s\tremaining: 21.2s\n",
            "250:\tlearn: 675399.3159450\ttest: 760753.8772019\tbest: 760753.8772019 (250)\ttotal: 7.09s\tremaining: 21.2s\n",
            "252:\tlearn: 674662.3639654\ttest: 760741.2456049\tbest: 760565.0693907 (251)\ttotal: 7.15s\tremaining: 21.1s\n",
            "254:\tlearn: 673988.4905420\ttest: 760477.0129939\tbest: 760477.0129939 (254)\ttotal: 7.2s\tremaining: 21s\n",
            "256:\tlearn: 673124.5374031\ttest: 759944.5704433\tbest: 759944.5704433 (256)\ttotal: 7.25s\tremaining: 21s\n",
            "258:\tlearn: 672544.2599566\ttest: 759576.2263898\tbest: 759576.2263898 (258)\ttotal: 7.3s\tremaining: 20.9s\n",
            "260:\tlearn: 672076.1306888\ttest: 759457.9778451\tbest: 759416.5048453 (259)\ttotal: 7.34s\tremaining: 20.8s\n",
            "262:\tlearn: 671330.9734499\ttest: 759281.2450762\tbest: 759281.2450762 (262)\ttotal: 7.38s\tremaining: 20.7s\n",
            "264:\tlearn: 670659.9573478\ttest: 758994.5493544\tbest: 758994.5493544 (264)\ttotal: 7.44s\tremaining: 20.6s\n",
            "266:\tlearn: 670305.5200551\ttest: 758830.6131704\tbest: 758830.6131704 (266)\ttotal: 7.49s\tremaining: 20.6s\n",
            "268:\tlearn: 669454.7635971\ttest: 758873.0308483\tbest: 758721.4624315 (267)\ttotal: 7.54s\tremaining: 20.5s\n",
            "270:\tlearn: 668458.9352128\ttest: 758343.9972732\tbest: 758343.9972732 (270)\ttotal: 7.6s\tremaining: 20.4s\n",
            "272:\tlearn: 667741.7876621\ttest: 758325.6392606\tbest: 758301.3453650 (271)\ttotal: 7.66s\tremaining: 20.4s\n",
            "274:\tlearn: 667035.4743659\ttest: 758215.6613967\tbest: 758215.6613967 (274)\ttotal: 7.71s\tremaining: 20.3s\n",
            "276:\tlearn: 666361.3414103\ttest: 757909.3785127\tbest: 757909.3785127 (276)\ttotal: 7.75s\tremaining: 20.2s\n",
            "278:\tlearn: 665645.6632508\ttest: 757672.1523360\tbest: 757672.1523360 (278)\ttotal: 7.85s\tremaining: 20.3s\n",
            "280:\tlearn: 664713.3970939\ttest: 757293.2162400\tbest: 757293.2162400 (280)\ttotal: 7.89s\tremaining: 20.2s\n",
            "282:\tlearn: 663776.1879991\ttest: 757167.4764107\tbest: 757096.6954558 (281)\ttotal: 7.92s\tremaining: 20.1s\n",
            "284:\tlearn: 662770.4338159\ttest: 756965.2661586\tbest: 756965.2661586 (284)\ttotal: 8s\tremaining: 20.1s\n",
            "286:\tlearn: 662130.6757698\ttest: 757025.4972074\tbest: 756877.3250481 (285)\ttotal: 8.09s\tremaining: 20.1s\n",
            "288:\tlearn: 661661.5015708\ttest: 756809.0963894\tbest: 756809.0963894 (288)\ttotal: 8.15s\tremaining: 20.1s\n",
            "290:\tlearn: 660994.7092223\ttest: 756618.3689481\tbest: 756618.3689481 (290)\ttotal: 8.21s\tremaining: 20s\n",
            "292:\tlearn: 660430.1851665\ttest: 756382.0663643\tbest: 756382.0663643 (292)\ttotal: 8.28s\tremaining: 20s\n",
            "294:\tlearn: 660064.6725686\ttest: 756330.2180291\tbest: 756330.2180291 (294)\ttotal: 8.33s\tremaining: 19.9s\n",
            "296:\tlearn: 659360.9890982\ttest: 756450.8099751\tbest: 756330.2180291 (294)\ttotal: 8.39s\tremaining: 19.9s\n",
            "298:\tlearn: 658181.4768004\ttest: 755848.6720680\tbest: 755848.6720680 (298)\ttotal: 8.45s\tremaining: 19.8s\n",
            "300:\tlearn: 657461.1207362\ttest: 755502.1095118\tbest: 755495.4142370 (299)\ttotal: 8.5s\tremaining: 19.7s\n",
            "302:\tlearn: 657066.5404049\ttest: 755367.6866246\tbest: 755367.6866246 (302)\ttotal: 8.54s\tremaining: 19.7s\n",
            "304:\tlearn: 656185.7489476\ttest: 754805.6690637\tbest: 754805.6690637 (304)\ttotal: 8.58s\tremaining: 19.6s\n",
            "306:\tlearn: 655868.3731158\ttest: 754695.2967056\tbest: 754672.6922295 (305)\ttotal: 8.62s\tremaining: 19.5s\n",
            "308:\tlearn: 655060.4103330\ttest: 754505.9434220\tbest: 754428.6941821 (307)\ttotal: 8.68s\tremaining: 19.4s\n",
            "310:\tlearn: 654722.4737059\ttest: 754397.7861293\tbest: 754397.7861293 (310)\ttotal: 8.71s\tremaining: 19.3s\n",
            "312:\tlearn: 654401.8458544\ttest: 754406.6824672\tbest: 754397.7861293 (310)\ttotal: 8.78s\tremaining: 19.3s\n",
            "314:\tlearn: 653606.9301357\ttest: 753973.2712133\tbest: 753973.2712133 (314)\ttotal: 8.85s\tremaining: 19.2s\n",
            "316:\tlearn: 652928.4597985\ttest: 753596.0116487\tbest: 753596.0116487 (316)\ttotal: 8.91s\tremaining: 19.2s\n",
            "318:\tlearn: 652297.3169229\ttest: 753571.4478578\tbest: 753571.4478578 (318)\ttotal: 8.96s\tremaining: 19.1s\n",
            "320:\tlearn: 651856.3626280\ttest: 753484.0599450\tbest: 753484.0599450 (320)\ttotal: 9.04s\tremaining: 19.1s\n",
            "322:\tlearn: 650834.9191152\ttest: 753118.2930713\tbest: 753118.2930713 (322)\ttotal: 9.08s\tremaining: 19s\n",
            "324:\tlearn: 650426.7762890\ttest: 753044.2716797\tbest: 753044.2716797 (324)\ttotal: 9.13s\tremaining: 19s\n",
            "326:\tlearn: 649421.5474413\ttest: 752985.4264196\tbest: 752985.4264196 (326)\ttotal: 9.18s\tremaining: 18.9s\n",
            "328:\tlearn: 648511.1309389\ttest: 752607.1495857\tbest: 752581.9667270 (327)\ttotal: 9.23s\tremaining: 18.8s\n",
            "330:\tlearn: 647705.9234053\ttest: 752611.6910620\tbest: 752581.9667270 (327)\ttotal: 9.29s\tremaining: 18.8s\n",
            "332:\tlearn: 647140.7577999\ttest: 752431.3210837\tbest: 752424.0292979 (331)\ttotal: 9.34s\tremaining: 18.7s\n",
            "334:\tlearn: 646368.2483142\ttest: 751731.3429042\tbest: 751731.3429042 (334)\ttotal: 9.38s\tremaining: 18.6s\n",
            "336:\tlearn: 645801.5118944\ttest: 752031.9885616\tbest: 751731.3429042 (334)\ttotal: 9.45s\tremaining: 18.6s\n",
            "338:\tlearn: 645288.4271283\ttest: 751824.3063492\tbest: 751731.3429042 (334)\ttotal: 9.51s\tremaining: 18.5s\n",
            "340:\tlearn: 644505.7109952\ttest: 751402.5727515\tbest: 751402.5727515 (340)\ttotal: 9.59s\tremaining: 18.5s\n",
            "342:\tlearn: 644083.7358191\ttest: 751150.3512645\tbest: 751150.3512645 (342)\ttotal: 9.66s\tremaining: 18.5s\n",
            "344:\tlearn: 643677.7101412\ttest: 751201.5777748\tbest: 751150.3512645 (342)\ttotal: 9.71s\tremaining: 18.4s\n",
            "346:\tlearn: 643224.7315729\ttest: 751217.0880210\tbest: 751150.3512645 (342)\ttotal: 9.76s\tremaining: 18.4s\n",
            "348:\tlearn: 642337.3282393\ttest: 750858.3788693\tbest: 750858.3788693 (348)\ttotal: 9.79s\tremaining: 18.3s\n",
            "350:\tlearn: 641648.9245338\ttest: 750557.4344138\tbest: 750557.4344138 (350)\ttotal: 9.83s\tremaining: 18.2s\n",
            "352:\tlearn: 640836.0584151\ttest: 750280.1376517\tbest: 750279.0876756 (351)\ttotal: 9.88s\tremaining: 18.1s\n",
            "354:\tlearn: 640049.2370181\ttest: 750021.9581022\tbest: 750021.9581022 (354)\ttotal: 9.94s\tremaining: 18.1s\n",
            "356:\tlearn: 639628.3469785\ttest: 749953.0984903\tbest: 749832.0816913 (355)\ttotal: 9.98s\tremaining: 18s\n",
            "358:\tlearn: 638954.6778882\ttest: 749548.5623515\tbest: 749548.5623515 (358)\ttotal: 10.1s\tremaining: 18s\n",
            "360:\tlearn: 638325.9789065\ttest: 749645.1031920\tbest: 749548.5623515 (358)\ttotal: 10.1s\tremaining: 17.9s\n",
            "362:\tlearn: 637384.5025531\ttest: 749776.4055448\tbest: 749548.5623515 (358)\ttotal: 10.2s\tremaining: 17.9s\n",
            "364:\tlearn: 636475.5225879\ttest: 749785.8947331\tbest: 749548.5623515 (358)\ttotal: 10.3s\tremaining: 17.9s\n",
            "366:\tlearn: 635989.8245335\ttest: 749995.8633210\tbest: 749548.5623515 (358)\ttotal: 10.3s\tremaining: 17.8s\n",
            "368:\tlearn: 635584.6196329\ttest: 750136.1533769\tbest: 749548.5623515 (358)\ttotal: 10.4s\tremaining: 17.7s\n",
            "370:\tlearn: 634899.5116972\ttest: 749788.9401184\tbest: 749548.5623515 (358)\ttotal: 10.5s\tremaining: 17.7s\n",
            "372:\tlearn: 634306.0214947\ttest: 749597.2398448\tbest: 749548.5623515 (358)\ttotal: 10.5s\tremaining: 17.6s\n",
            "374:\tlearn: 633913.8525644\ttest: 749864.2949711\tbest: 749548.5623515 (358)\ttotal: 10.6s\tremaining: 17.6s\n",
            "376:\tlearn: 633357.9607360\ttest: 749735.2715681\tbest: 749548.5623515 (358)\ttotal: 10.7s\tremaining: 17.6s\n",
            "378:\tlearn: 632773.9529527\ttest: 749891.2543488\tbest: 749548.5623515 (358)\ttotal: 10.7s\tremaining: 17.6s\n",
            "380:\tlearn: 632352.7379170\ttest: 749635.9045327\tbest: 749548.5623515 (358)\ttotal: 10.8s\tremaining: 17.6s\n",
            "382:\tlearn: 631875.2180839\ttest: 749477.1521949\tbest: 749477.1521949 (382)\ttotal: 10.9s\tremaining: 17.5s\n",
            "384:\tlearn: 631153.2261135\ttest: 749648.3891290\tbest: 749448.0700260 (383)\ttotal: 11s\tremaining: 17.5s\n",
            "386:\tlearn: 630537.3025512\ttest: 749529.9831509\tbest: 749448.0700260 (383)\ttotal: 11s\tremaining: 17.5s\n",
            "388:\tlearn: 630003.0145119\ttest: 749677.1289155\tbest: 749448.0700260 (383)\ttotal: 11.1s\tremaining: 17.4s\n",
            "390:\tlearn: 629534.7426831\ttest: 749521.3868920\tbest: 749448.0700260 (383)\ttotal: 11.2s\tremaining: 17.5s\n",
            "392:\tlearn: 629008.0108710\ttest: 749512.9664279\tbest: 749448.0700260 (383)\ttotal: 11.3s\tremaining: 17.4s\n",
            "394:\tlearn: 628075.5215367\ttest: 749200.2150656\tbest: 749200.2150656 (394)\ttotal: 11.3s\tremaining: 17.4s\n",
            "396:\tlearn: 627406.9997673\ttest: 748965.2718702\tbest: 748965.2718702 (396)\ttotal: 11.4s\tremaining: 17.3s\n",
            "398:\tlearn: 626964.2499667\ttest: 749017.8211820\tbest: 748950.1064104 (397)\ttotal: 11.4s\tremaining: 17.2s\n",
            "400:\tlearn: 626349.4819169\ttest: 748740.6133803\tbest: 748740.6133803 (400)\ttotal: 11.5s\tremaining: 17.1s\n",
            "402:\tlearn: 625797.8569016\ttest: 748795.6961663\tbest: 748735.6687547 (401)\ttotal: 11.5s\tremaining: 17.1s\n",
            "404:\tlearn: 625423.2461840\ttest: 748824.8966414\tbest: 748735.6687547 (401)\ttotal: 11.6s\tremaining: 17s\n",
            "406:\tlearn: 624910.8581005\ttest: 748570.5087024\tbest: 748570.5087024 (406)\ttotal: 11.6s\tremaining: 16.9s\n",
            "408:\tlearn: 624406.6998062\ttest: 748331.9579276\tbest: 748331.9579276 (408)\ttotal: 11.6s\tremaining: 16.8s\n",
            "410:\tlearn: 623960.2881094\ttest: 748000.4276570\tbest: 748000.4276570 (410)\ttotal: 11.7s\tremaining: 16.7s\n",
            "412:\tlearn: 623228.1743777\ttest: 747661.3925785\tbest: 747661.3925785 (412)\ttotal: 11.7s\tremaining: 16.7s\n",
            "414:\tlearn: 622777.8909548\ttest: 747829.3418136\tbest: 747643.9867620 (413)\ttotal: 11.8s\tremaining: 16.6s\n",
            "416:\tlearn: 622099.7188567\ttest: 747986.7973792\tbest: 747643.9867620 (413)\ttotal: 11.8s\tremaining: 16.5s\n",
            "418:\tlearn: 621729.3235220\ttest: 747893.3989382\tbest: 747643.9867620 (413)\ttotal: 11.9s\tremaining: 16.4s\n",
            "420:\tlearn: 621142.0103591\ttest: 747681.8625702\tbest: 747643.9867620 (413)\ttotal: 11.9s\tremaining: 16.4s\n",
            "422:\tlearn: 620574.7779645\ttest: 747680.6520159\tbest: 747643.9867620 (413)\ttotal: 11.9s\tremaining: 16.3s\n",
            "424:\tlearn: 619850.5019124\ttest: 747650.7356612\tbest: 747643.9867620 (413)\ttotal: 12s\tremaining: 16.3s\n",
            "426:\tlearn: 619346.2962032\ttest: 747363.0379703\tbest: 747363.0379703 (426)\ttotal: 12.1s\tremaining: 16.2s\n",
            "428:\tlearn: 618643.4653749\ttest: 746989.6096789\tbest: 746989.6096789 (428)\ttotal: 12.1s\tremaining: 16.2s\n",
            "430:\tlearn: 618061.5581234\ttest: 746981.2023936\tbest: 746962.4972897 (429)\ttotal: 12.2s\tremaining: 16.1s\n",
            "432:\tlearn: 617519.4750897\ttest: 746927.4737243\tbest: 746927.4737243 (432)\ttotal: 12.3s\tremaining: 16s\n",
            "434:\tlearn: 616932.7683413\ttest: 746840.7988417\tbest: 746792.0846523 (433)\ttotal: 12.3s\tremaining: 15.9s\n",
            "436:\tlearn: 616450.2583023\ttest: 746989.9845662\tbest: 746792.0846523 (433)\ttotal: 12.4s\tremaining: 15.9s\n",
            "438:\tlearn: 615672.5554863\ttest: 746588.9355763\tbest: 746588.9355763 (438)\ttotal: 12.4s\tremaining: 15.9s\n",
            "440:\tlearn: 615004.3744990\ttest: 746285.4855042\tbest: 746285.4855042 (440)\ttotal: 12.5s\tremaining: 15.8s\n",
            "442:\tlearn: 614377.3846850\ttest: 746200.6647100\tbest: 746129.1286777 (441)\ttotal: 12.5s\tremaining: 15.7s\n",
            "444:\tlearn: 614060.6959646\ttest: 745866.7185616\tbest: 745866.7185616 (444)\ttotal: 12.6s\tremaining: 15.7s\n",
            "446:\tlearn: 613542.4669857\ttest: 745937.3256188\tbest: 745866.7185616 (444)\ttotal: 12.6s\tremaining: 15.6s\n",
            "448:\tlearn: 612865.5301303\ttest: 745930.8825036\tbest: 745830.1369971 (447)\ttotal: 12.7s\tremaining: 15.5s\n",
            "450:\tlearn: 612242.1525513\ttest: 746048.8501487\tbest: 745830.1369971 (447)\ttotal: 12.7s\tremaining: 15.5s\n",
            "452:\tlearn: 611556.0569613\ttest: 745941.1684269\tbest: 745830.1369971 (447)\ttotal: 12.8s\tremaining: 15.5s\n",
            "454:\tlearn: 611290.6160279\ttest: 745989.6264615\tbest: 745830.1369971 (447)\ttotal: 12.8s\tremaining: 15.4s\n",
            "456:\tlearn: 610896.2808146\ttest: 745828.2260129\tbest: 745820.1405842 (455)\ttotal: 12.9s\tremaining: 15.3s\n",
            "458:\tlearn: 610352.4195345\ttest: 745628.4694631\tbest: 745628.4694631 (458)\ttotal: 13s\tremaining: 15.3s\n",
            "460:\tlearn: 609814.8050916\ttest: 745608.0144893\tbest: 745608.0144893 (460)\ttotal: 13s\tremaining: 15.2s\n",
            "462:\tlearn: 609380.0050275\ttest: 745339.5505923\tbest: 745303.4536957 (461)\ttotal: 13.1s\tremaining: 15.2s\n",
            "464:\tlearn: 608900.2242805\ttest: 745046.6141811\tbest: 745046.6141811 (464)\ttotal: 13.2s\tremaining: 15.1s\n",
            "466:\tlearn: 608252.8334939\ttest: 744789.5496468\tbest: 744789.5496468 (466)\ttotal: 13.2s\tremaining: 15.1s\n",
            "468:\tlearn: 607874.8715325\ttest: 744779.9724083\tbest: 744779.9724083 (468)\ttotal: 13.3s\tremaining: 15.1s\n",
            "470:\tlearn: 607265.9674446\ttest: 744786.7825177\tbest: 744757.2247194 (469)\ttotal: 13.3s\tremaining: 15s\n",
            "472:\tlearn: 606829.8129031\ttest: 744556.8938051\tbest: 744556.8938051 (472)\ttotal: 13.4s\tremaining: 14.9s\n",
            "474:\tlearn: 606352.6536827\ttest: 744083.8152427\tbest: 744083.8152427 (474)\ttotal: 13.5s\tremaining: 14.9s\n",
            "476:\tlearn: 605663.8591832\ttest: 744010.5206437\tbest: 743991.1343153 (475)\ttotal: 13.5s\tremaining: 14.8s\n",
            "478:\tlearn: 605188.1890959\ttest: 744049.4755983\tbest: 743991.1343153 (475)\ttotal: 13.6s\tremaining: 14.8s\n",
            "480:\tlearn: 604836.4099796\ttest: 744021.3480967\tbest: 743991.1343153 (475)\ttotal: 13.7s\tremaining: 14.8s\n",
            "482:\tlearn: 604378.5561342\ttest: 743911.2403812\tbest: 743911.2403812 (482)\ttotal: 13.7s\tremaining: 14.7s\n",
            "484:\tlearn: 604012.8813516\ttest: 743724.2316877\tbest: 743724.2316877 (484)\ttotal: 13.8s\tremaining: 14.6s\n",
            "486:\tlearn: 603270.8301588\ttest: 743710.9433035\tbest: 743553.9351264 (485)\ttotal: 13.8s\tremaining: 14.6s\n",
            "488:\tlearn: 602545.7799783\ttest: 743533.4257475\tbest: 743526.1426887 (487)\ttotal: 13.9s\tremaining: 14.5s\n",
            "490:\tlearn: 602140.6819305\ttest: 743355.5555402\tbest: 743355.5555402 (490)\ttotal: 14s\tremaining: 14.5s\n",
            "492:\tlearn: 601559.8464772\ttest: 743351.8354189\tbest: 743287.0742249 (491)\ttotal: 14s\tremaining: 14.4s\n",
            "494:\tlearn: 601284.1452700\ttest: 743437.8992651\tbest: 743287.0742249 (491)\ttotal: 14.1s\tremaining: 14.3s\n",
            "496:\tlearn: 600904.5220673\ttest: 743433.5059866\tbest: 743287.0742249 (491)\ttotal: 14.1s\tremaining: 14.3s\n",
            "498:\tlearn: 600445.2091296\ttest: 743530.2849685\tbest: 743287.0742249 (491)\ttotal: 14.2s\tremaining: 14.2s\n",
            "500:\tlearn: 599999.0182749\ttest: 743460.6292791\tbest: 743287.0742249 (491)\ttotal: 14.2s\tremaining: 14.2s\n",
            "502:\tlearn: 599528.4064187\ttest: 743277.0219286\tbest: 743277.0219286 (502)\ttotal: 14.3s\tremaining: 14.1s\n",
            "504:\tlearn: 598888.9593829\ttest: 743046.8240411\tbest: 743046.8240411 (504)\ttotal: 14.3s\tremaining: 14.1s\n",
            "506:\tlearn: 598492.1063682\ttest: 742984.8431520\tbest: 742954.5914324 (505)\ttotal: 14.4s\tremaining: 14s\n",
            "508:\tlearn: 597843.3673481\ttest: 742832.9006766\tbest: 742832.9006766 (508)\ttotal: 14.4s\tremaining: 13.9s\n",
            "510:\tlearn: 597412.7345952\ttest: 742715.4092955\tbest: 742715.4092955 (510)\ttotal: 14.5s\tremaining: 13.8s\n",
            "512:\tlearn: 596727.6067840\ttest: 742932.6472861\tbest: 742715.4092955 (510)\ttotal: 14.5s\tremaining: 13.8s\n",
            "514:\tlearn: 596317.4901027\ttest: 742735.8047898\tbest: 742679.7134842 (513)\ttotal: 14.6s\tremaining: 13.7s\n",
            "516:\tlearn: 595890.6749497\ttest: 742796.2514732\tbest: 742679.7134842 (513)\ttotal: 14.6s\tremaining: 13.6s\n",
            "518:\tlearn: 595410.0219102\ttest: 742909.2717964\tbest: 742679.7134842 (513)\ttotal: 14.7s\tremaining: 13.6s\n",
            "520:\tlearn: 594835.3741412\ttest: 742884.9827551\tbest: 742679.7134842 (513)\ttotal: 14.7s\tremaining: 13.5s\n",
            "522:\tlearn: 594467.3415681\ttest: 742778.8130071\tbest: 742679.7134842 (513)\ttotal: 14.8s\tremaining: 13.5s\n",
            "524:\tlearn: 593898.9832781\ttest: 742430.5652251\tbest: 742430.5652251 (524)\ttotal: 14.8s\tremaining: 13.4s\n",
            "526:\tlearn: 593330.4876547\ttest: 742212.1200804\tbest: 742212.1200804 (526)\ttotal: 14.9s\tremaining: 13.4s\n",
            "528:\tlearn: 592798.3898454\ttest: 741858.4714699\tbest: 741858.4714699 (528)\ttotal: 14.9s\tremaining: 13.3s\n",
            "530:\tlearn: 592383.3473472\ttest: 741781.1831199\tbest: 741707.1887264 (529)\ttotal: 15s\tremaining: 13.2s\n",
            "532:\tlearn: 591980.2925863\ttest: 741695.7965390\tbest: 741691.8118777 (531)\ttotal: 15s\tremaining: 13.2s\n",
            "534:\tlearn: 591701.7115458\ttest: 741657.6950732\tbest: 741657.6950732 (534)\ttotal: 15.1s\tremaining: 13.1s\n",
            "536:\tlearn: 591415.3332937\ttest: 741654.5996379\tbest: 741654.5996379 (536)\ttotal: 15.1s\tremaining: 13s\n",
            "538:\tlearn: 590778.9086711\ttest: 741328.8995726\tbest: 741328.8995726 (538)\ttotal: 15.2s\tremaining: 13s\n",
            "540:\tlearn: 590295.0612863\ttest: 741326.6658812\tbest: 741326.6658812 (540)\ttotal: 15.2s\tremaining: 12.9s\n",
            "542:\tlearn: 590152.9005777\ttest: 741284.4730342\tbest: 741284.4730342 (542)\ttotal: 15.3s\tremaining: 12.8s\n",
            "544:\tlearn: 589650.6099143\ttest: 741265.2049154\tbest: 741265.2049154 (544)\ttotal: 15.3s\tremaining: 12.8s\n",
            "546:\tlearn: 589210.9264231\ttest: 741174.2389656\tbest: 741174.2389656 (546)\ttotal: 15.4s\tremaining: 12.7s\n",
            "548:\tlearn: 588707.0122287\ttest: 740877.5298081\tbest: 740877.5298081 (548)\ttotal: 15.4s\tremaining: 12.6s\n",
            "550:\tlearn: 587988.4093654\ttest: 740639.9615069\tbest: 740639.9615069 (550)\ttotal: 15.4s\tremaining: 12.6s\n",
            "552:\tlearn: 587576.5951965\ttest: 740596.0332824\tbest: 740596.0332824 (552)\ttotal: 15.5s\tremaining: 12.5s\n",
            "554:\tlearn: 587300.6451558\ttest: 740423.0655158\tbest: 740423.0655158 (554)\ttotal: 15.6s\tremaining: 12.5s\n",
            "556:\tlearn: 586903.0628447\ttest: 740325.4352740\tbest: 740325.4352740 (556)\ttotal: 15.6s\tremaining: 12.4s\n",
            "558:\tlearn: 586425.3756540\ttest: 740192.5050227\tbest: 740192.5050227 (558)\ttotal: 15.7s\tremaining: 12.4s\n",
            "560:\tlearn: 585993.0415931\ttest: 740076.1706619\tbest: 740076.1706619 (560)\ttotal: 15.7s\tremaining: 12.3s\n",
            "562:\tlearn: 585306.6762431\ttest: 739669.2131209\tbest: 739669.2131209 (562)\ttotal: 15.8s\tremaining: 12.3s\n",
            "564:\tlearn: 584852.5928427\ttest: 739612.3117304\tbest: 739612.3117304 (564)\ttotal: 15.9s\tremaining: 12.2s\n",
            "566:\tlearn: 584199.5994124\ttest: 739443.3830840\tbest: 739443.3830840 (566)\ttotal: 15.9s\tremaining: 12.1s\n",
            "568:\tlearn: 583739.6315769\ttest: 739359.3740775\tbest: 739359.3740775 (568)\ttotal: 15.9s\tremaining: 12.1s\n",
            "570:\tlearn: 583299.0534635\ttest: 739049.4327063\tbest: 739049.4327063 (570)\ttotal: 16s\tremaining: 12s\n",
            "572:\tlearn: 582872.4833805\ttest: 739062.0792662\tbest: 739029.5181206 (571)\ttotal: 16s\tremaining: 11.9s\n",
            "574:\tlearn: 582625.2958926\ttest: 739062.4198551\tbest: 739029.5181206 (571)\ttotal: 16.1s\tremaining: 11.9s\n",
            "576:\tlearn: 582044.4264261\ttest: 739116.9965539\tbest: 739029.5181206 (571)\ttotal: 16.2s\tremaining: 11.8s\n",
            "578:\tlearn: 581636.1968383\ttest: 739168.5181832\tbest: 739029.5181206 (571)\ttotal: 16.2s\tremaining: 11.8s\n",
            "580:\tlearn: 581324.3392153\ttest: 739138.5675352\tbest: 739029.5181206 (571)\ttotal: 16.3s\tremaining: 11.7s\n",
            "582:\tlearn: 580982.3431018\ttest: 739129.3268730\tbest: 739029.5181206 (571)\ttotal: 16.3s\tremaining: 11.7s\n",
            "584:\tlearn: 580453.3965572\ttest: 738968.6545192\tbest: 738968.6545192 (584)\ttotal: 16.3s\tremaining: 11.6s\n",
            "586:\tlearn: 579983.3643579\ttest: 738740.9272161\tbest: 738740.9272161 (586)\ttotal: 16.4s\tremaining: 11.5s\n",
            "588:\tlearn: 579526.2598880\ttest: 738353.8329949\tbest: 738353.8329949 (588)\ttotal: 16.5s\tremaining: 11.5s\n",
            "590:\tlearn: 579038.4722867\ttest: 738037.5451241\tbest: 738037.5451241 (590)\ttotal: 16.5s\tremaining: 11.4s\n",
            "592:\tlearn: 578496.0736879\ttest: 737938.7007076\tbest: 737938.7007076 (592)\ttotal: 16.6s\tremaining: 11.4s\n",
            "594:\tlearn: 577961.9158804\ttest: 737880.5383955\tbest: 737832.0634346 (593)\ttotal: 16.6s\tremaining: 11.3s\n",
            "596:\tlearn: 577509.4323973\ttest: 737518.1697827\tbest: 737518.1697827 (596)\ttotal: 16.7s\tremaining: 11.3s\n",
            "598:\tlearn: 576974.3573941\ttest: 737426.1942206\tbest: 737426.1942206 (598)\ttotal: 16.7s\tremaining: 11.2s\n",
            "600:\tlearn: 576747.6500693\ttest: 737363.7488339\tbest: 737363.7488339 (600)\ttotal: 16.8s\tremaining: 11.1s\n",
            "602:\tlearn: 576646.8218563\ttest: 737303.0783079\tbest: 737303.0783079 (602)\ttotal: 16.8s\tremaining: 11.1s\n",
            "604:\tlearn: 576217.7918160\ttest: 737300.2036996\tbest: 737300.2036996 (604)\ttotal: 16.9s\tremaining: 11s\n",
            "606:\tlearn: 575829.5184270\ttest: 737101.8486984\tbest: 737101.8486984 (606)\ttotal: 17s\tremaining: 11s\n",
            "608:\tlearn: 575338.3416552\ttest: 737281.1213427\tbest: 737024.1078375 (607)\ttotal: 17s\tremaining: 10.9s\n",
            "610:\tlearn: 575094.2327981\ttest: 737215.7518914\tbest: 737024.1078375 (607)\ttotal: 17.1s\tremaining: 10.9s\n",
            "612:\tlearn: 574640.7154769\ttest: 737154.4879106\tbest: 737024.1078375 (607)\ttotal: 17.1s\tremaining: 10.8s\n",
            "614:\tlearn: 574110.9111974\ttest: 737252.6902656\tbest: 737024.1078375 (607)\ttotal: 17.2s\tremaining: 10.7s\n",
            "616:\tlearn: 573914.7548888\ttest: 737207.7644818\tbest: 737024.1078375 (607)\ttotal: 17.2s\tremaining: 10.7s\n",
            "618:\tlearn: 573773.2045863\ttest: 737304.3270767\tbest: 737024.1078375 (607)\ttotal: 17.3s\tremaining: 10.6s\n",
            "620:\tlearn: 573208.1680135\ttest: 737099.6476485\tbest: 737024.1078375 (607)\ttotal: 17.3s\tremaining: 10.6s\n",
            "622:\tlearn: 572547.0993908\ttest: 736958.6525818\tbest: 736905.5590312 (621)\ttotal: 17.4s\tremaining: 10.5s\n",
            "624:\tlearn: 572161.7315475\ttest: 736873.1955764\tbest: 736873.1955764 (624)\ttotal: 17.4s\tremaining: 10.4s\n",
            "626:\tlearn: 571876.0128888\ttest: 737021.2786275\tbest: 736873.1955764 (624)\ttotal: 17.5s\tremaining: 10.4s\n",
            "628:\tlearn: 571488.9517777\ttest: 737037.1932001\tbest: 736873.1955764 (624)\ttotal: 17.5s\tremaining: 10.3s\n",
            "630:\tlearn: 571035.5193702\ttest: 737065.4770375\tbest: 736873.1955764 (624)\ttotal: 17.6s\tremaining: 10.3s\n",
            "632:\tlearn: 570593.5623549\ttest: 736979.5054813\tbest: 736873.1955764 (624)\ttotal: 17.6s\tremaining: 10.2s\n",
            "634:\tlearn: 570126.0175836\ttest: 736999.2908499\tbest: 736873.1955764 (624)\ttotal: 17.7s\tremaining: 10.2s\n",
            "636:\tlearn: 569609.2590501\ttest: 736967.2623489\tbest: 736873.1955764 (624)\ttotal: 17.8s\tremaining: 10.1s\n",
            "638:\tlearn: 569407.4343929\ttest: 736978.6212046\tbest: 736873.1955764 (624)\ttotal: 17.8s\tremaining: 10.1s\n",
            "640:\tlearn: 569017.7731132\ttest: 736968.7155264\tbest: 736873.1955764 (624)\ttotal: 17.9s\tremaining: 10s\n",
            "642:\tlearn: 568690.9508454\ttest: 737028.5370090\tbest: 736873.1955764 (624)\ttotal: 17.9s\tremaining: 9.95s\n",
            "644:\tlearn: 568187.6955842\ttest: 736884.5487612\tbest: 736871.6055163 (643)\ttotal: 18s\tremaining: 9.9s\n",
            "646:\tlearn: 567756.4067362\ttest: 736791.5213651\tbest: 736791.5213651 (646)\ttotal: 18s\tremaining: 9.85s\n",
            "648:\tlearn: 567518.3618779\ttest: 736677.9143216\tbest: 736677.9143216 (648)\ttotal: 18.1s\tremaining: 9.79s\n",
            "650:\tlearn: 567013.1951909\ttest: 736850.8797642\tbest: 736677.9143216 (648)\ttotal: 18.2s\tremaining: 9.75s\n",
            "652:\tlearn: 566766.5400216\ttest: 736815.8942491\tbest: 736677.9143216 (648)\ttotal: 18.2s\tremaining: 9.7s\n",
            "654:\tlearn: 566413.9898961\ttest: 736819.9445158\tbest: 736677.9143216 (648)\ttotal: 18.3s\tremaining: 9.62s\n",
            "656:\tlearn: 566041.7879922\ttest: 736802.9106189\tbest: 736677.9143216 (648)\ttotal: 18.3s\tremaining: 9.55s\n",
            "658:\tlearn: 565519.2582695\ttest: 736686.7581842\tbest: 736677.9143216 (648)\ttotal: 18.3s\tremaining: 9.48s\n",
            "660:\tlearn: 565154.6846379\ttest: 736732.4993577\tbest: 736677.9143216 (648)\ttotal: 18.3s\tremaining: 9.4s\n",
            "662:\tlearn: 564649.3610371\ttest: 736722.2706899\tbest: 736677.9143216 (648)\ttotal: 18.4s\tremaining: 9.33s\n",
            "664:\tlearn: 564381.0233319\ttest: 736663.8502269\tbest: 736642.7268959 (663)\ttotal: 18.4s\tremaining: 9.26s\n",
            "666:\tlearn: 564024.2564990\ttest: 736632.8428349\tbest: 736632.8428349 (666)\ttotal: 18.4s\tremaining: 9.2s\n",
            "668:\tlearn: 563628.1815547\ttest: 736588.5724695\tbest: 736588.5724695 (668)\ttotal: 18.4s\tremaining: 9.12s\n",
            "670:\tlearn: 563113.9364750\ttest: 736650.8312162\tbest: 736588.5724695 (668)\ttotal: 18.5s\tremaining: 9.05s\n",
            "672:\tlearn: 562674.9165577\ttest: 736405.5954327\tbest: 736405.5954327 (672)\ttotal: 18.5s\tremaining: 8.98s\n",
            "674:\tlearn: 562146.4927037\ttest: 736235.4493150\tbest: 736235.4493150 (674)\ttotal: 18.5s\tremaining: 8.91s\n",
            "676:\tlearn: 561716.0114486\ttest: 736270.1593810\tbest: 736235.4493150 (674)\ttotal: 18.5s\tremaining: 8.84s\n",
            "678:\tlearn: 561377.0928684\ttest: 736217.7189296\tbest: 736217.7189296 (678)\ttotal: 18.5s\tremaining: 8.77s\n",
            "680:\tlearn: 561188.6902547\ttest: 736229.4206599\tbest: 736217.7189296 (678)\ttotal: 18.6s\tremaining: 8.7s\n",
            "682:\tlearn: 560604.4741612\ttest: 736077.1164044\tbest: 736077.1164044 (682)\ttotal: 18.6s\tremaining: 8.63s\n",
            "684:\tlearn: 560075.2798747\ttest: 735984.6346929\tbest: 735975.7458293 (683)\ttotal: 18.6s\tremaining: 8.57s\n",
            "686:\tlearn: 559751.8368169\ttest: 735977.9365191\tbest: 735975.7458293 (683)\ttotal: 18.7s\tremaining: 8.5s\n",
            "688:\tlearn: 559229.3428172\ttest: 735860.5759009\tbest: 735860.5759009 (688)\ttotal: 18.7s\tremaining: 8.43s\n",
            "690:\tlearn: 558824.3798031\ttest: 735682.9251294\tbest: 735682.9251294 (690)\ttotal: 18.7s\tremaining: 8.36s\n",
            "692:\tlearn: 558543.4395384\ttest: 735561.4571497\tbest: 735561.4571497 (692)\ttotal: 18.7s\tremaining: 8.29s\n",
            "694:\tlearn: 558079.4938469\ttest: 735736.9328545\tbest: 735561.4571497 (692)\ttotal: 18.7s\tremaining: 8.22s\n",
            "696:\tlearn: 557558.5628662\ttest: 735338.3123920\tbest: 735338.3123920 (696)\ttotal: 18.8s\tremaining: 8.15s\n",
            "698:\tlearn: 557086.1678337\ttest: 735233.8365693\tbest: 735233.8365693 (698)\ttotal: 18.8s\tremaining: 8.09s\n",
            "700:\tlearn: 556721.7620225\ttest: 735035.0016047\tbest: 735035.0016047 (700)\ttotal: 18.8s\tremaining: 8.02s\n",
            "702:\tlearn: 556296.9736365\ttest: 735129.1505968\tbest: 735035.0016047 (700)\ttotal: 18.8s\tremaining: 7.95s\n",
            "704:\tlearn: 556036.4362559\ttest: 735186.1216887\tbest: 735035.0016047 (700)\ttotal: 18.9s\tremaining: 7.89s\n",
            "706:\tlearn: 555776.8361501\ttest: 735087.5077110\tbest: 735035.0016047 (700)\ttotal: 18.9s\tremaining: 7.82s\n",
            "708:\tlearn: 555651.4098834\ttest: 735073.1042752\tbest: 735035.0016047 (700)\ttotal: 18.9s\tremaining: 7.75s\n",
            "710:\tlearn: 555388.2342310\ttest: 734970.5886318\tbest: 734970.5886318 (710)\ttotal: 18.9s\tremaining: 7.69s\n",
            "712:\tlearn: 555018.1327499\ttest: 734821.9351094\tbest: 734815.2107620 (711)\ttotal: 18.9s\tremaining: 7.62s\n",
            "714:\tlearn: 554782.3443308\ttest: 734833.9428611\tbest: 734815.2107620 (711)\ttotal: 19s\tremaining: 7.56s\n",
            "716:\tlearn: 554487.9375563\ttest: 734941.0604845\tbest: 734815.2107620 (711)\ttotal: 19s\tremaining: 7.5s\n",
            "718:\tlearn: 554267.9919735\ttest: 734890.0309314\tbest: 734815.2107620 (711)\ttotal: 19s\tremaining: 7.43s\n",
            "720:\tlearn: 553821.9479344\ttest: 734879.7148761\tbest: 734815.2107620 (711)\ttotal: 19s\tremaining: 7.36s\n",
            "722:\tlearn: 553341.1423924\ttest: 734910.7119368\tbest: 734815.2107620 (711)\ttotal: 19.1s\tremaining: 7.3s\n",
            "724:\tlearn: 553128.0902940\ttest: 734821.4551567\tbest: 734815.2107620 (711)\ttotal: 19.1s\tremaining: 7.24s\n",
            "726:\tlearn: 552825.5645047\ttest: 734758.7618159\tbest: 734758.7618159 (726)\ttotal: 19.1s\tremaining: 7.17s\n",
            "728:\tlearn: 552480.0682269\ttest: 734451.2023659\tbest: 734451.2023659 (728)\ttotal: 19.1s\tremaining: 7.11s\n",
            "730:\tlearn: 551997.2791222\ttest: 734312.6147043\tbest: 734312.6147043 (730)\ttotal: 19.1s\tremaining: 7.04s\n",
            "732:\tlearn: 551832.9770509\ttest: 734234.0156921\tbest: 734234.0156921 (732)\ttotal: 19.2s\tremaining: 6.98s\n",
            "734:\tlearn: 551374.7351261\ttest: 734157.2981234\tbest: 734157.2981234 (734)\ttotal: 19.2s\tremaining: 6.91s\n",
            "736:\tlearn: 551122.7848188\ttest: 734156.4436802\tbest: 734156.4436802 (736)\ttotal: 19.2s\tremaining: 6.85s\n",
            "738:\tlearn: 551040.7175389\ttest: 734053.3659774\tbest: 734053.3659774 (738)\ttotal: 19.2s\tremaining: 6.79s\n",
            "740:\tlearn: 550744.7933574\ttest: 733975.0201046\tbest: 733975.0201046 (740)\ttotal: 19.2s\tremaining: 6.72s\n",
            "742:\tlearn: 550364.4506186\ttest: 733816.1531405\tbest: 733816.1531405 (742)\ttotal: 19.3s\tremaining: 6.66s\n",
            "744:\tlearn: 550071.4964211\ttest: 733830.7698976\tbest: 733771.5676060 (743)\ttotal: 19.3s\tremaining: 6.6s\n",
            "746:\tlearn: 549767.7653938\ttest: 733906.2431591\tbest: 733771.5676060 (743)\ttotal: 19.3s\tremaining: 6.54s\n",
            "748:\tlearn: 549283.1417254\ttest: 733811.2342776\tbest: 733771.5676060 (743)\ttotal: 19.3s\tremaining: 6.48s\n",
            "750:\tlearn: 548783.0028405\ttest: 733804.5732224\tbest: 733771.5676060 (743)\ttotal: 19.4s\tremaining: 6.42s\n",
            "752:\tlearn: 548297.6907579\ttest: 734215.4230741\tbest: 733771.5676060 (743)\ttotal: 19.4s\tremaining: 6.36s\n",
            "754:\tlearn: 547927.1827856\ttest: 733951.5112720\tbest: 733771.5676060 (743)\ttotal: 19.4s\tremaining: 6.29s\n",
            "756:\tlearn: 547337.1436703\ttest: 733737.1024939\tbest: 733737.1024939 (756)\ttotal: 19.4s\tremaining: 6.23s\n",
            "758:\tlearn: 547046.8005656\ttest: 733834.5543720\tbest: 733737.1024939 (756)\ttotal: 19.4s\tremaining: 6.17s\n",
            "760:\tlearn: 546748.2307671\ttest: 733890.1362376\tbest: 733737.1024939 (756)\ttotal: 19.5s\tremaining: 6.11s\n",
            "762:\tlearn: 546382.7179156\ttest: 733914.4303823\tbest: 733737.1024939 (756)\ttotal: 19.5s\tremaining: 6.05s\n",
            "764:\tlearn: 546099.1698809\ttest: 733924.0666337\tbest: 733737.1024939 (756)\ttotal: 19.5s\tremaining: 5.99s\n",
            "766:\tlearn: 545812.9552892\ttest: 733869.4177932\tbest: 733737.1024939 (756)\ttotal: 19.5s\tremaining: 5.93s\n",
            "768:\tlearn: 545591.7472836\ttest: 733840.0757605\tbest: 733737.1024939 (756)\ttotal: 19.5s\tremaining: 5.87s\n",
            "770:\tlearn: 545268.2903405\ttest: 733773.2711269\tbest: 733737.1024939 (756)\ttotal: 19.6s\tremaining: 5.81s\n",
            "772:\tlearn: 544938.5830410\ttest: 733609.5602842\tbest: 733609.5602842 (772)\ttotal: 19.6s\tremaining: 5.75s\n",
            "774:\tlearn: 544697.6427910\ttest: 733713.2817750\tbest: 733609.5602842 (772)\ttotal: 19.6s\tremaining: 5.7s\n",
            "776:\tlearn: 544155.4191408\ttest: 733685.8593433\tbest: 733577.3509089 (775)\ttotal: 19.6s\tremaining: 5.64s\n",
            "778:\tlearn: 543686.2190231\ttest: 733753.8691480\tbest: 733577.3509089 (775)\ttotal: 19.7s\tremaining: 5.58s\n",
            "780:\tlearn: 543330.4635208\ttest: 733591.9048647\tbest: 733577.3509089 (775)\ttotal: 19.7s\tremaining: 5.52s\n",
            "782:\tlearn: 542983.7481869\ttest: 733498.9541954\tbest: 733498.9541954 (782)\ttotal: 19.7s\tremaining: 5.46s\n",
            "784:\tlearn: 542458.4390307\ttest: 733444.7386505\tbest: 733444.7386505 (784)\ttotal: 19.7s\tremaining: 5.4s\n",
            "786:\tlearn: 542231.4002288\ttest: 733413.0630008\tbest: 733387.0167434 (785)\ttotal: 19.8s\tremaining: 5.34s\n",
            "788:\tlearn: 542049.0194545\ttest: 733397.5558960\tbest: 733387.0167434 (785)\ttotal: 19.8s\tremaining: 5.29s\n",
            "790:\tlearn: 541713.7913042\ttest: 733331.0774338\tbest: 733331.0774338 (790)\ttotal: 19.8s\tremaining: 5.23s\n",
            "792:\tlearn: 541435.1155067\ttest: 733433.0996668\tbest: 733331.0774338 (790)\ttotal: 19.8s\tremaining: 5.17s\n",
            "794:\tlearn: 540976.3500107\ttest: 733225.8060038\tbest: 733225.8060038 (794)\ttotal: 19.8s\tremaining: 5.11s\n",
            "796:\tlearn: 540777.9418962\ttest: 733323.9346596\tbest: 733225.8060038 (794)\ttotal: 19.9s\tremaining: 5.06s\n",
            "798:\tlearn: 540544.0208786\ttest: 733395.8646890\tbest: 733225.8060038 (794)\ttotal: 19.9s\tremaining: 5s\n",
            "800:\tlearn: 540104.3467364\ttest: 733391.3846279\tbest: 733225.8060038 (794)\ttotal: 19.9s\tremaining: 4.94s\n",
            "802:\tlearn: 539732.7667824\ttest: 733231.5409508\tbest: 733225.8060038 (794)\ttotal: 19.9s\tremaining: 4.89s\n",
            "804:\tlearn: 539620.7301250\ttest: 733263.2099982\tbest: 733225.8060038 (794)\ttotal: 19.9s\tremaining: 4.83s\n",
            "806:\tlearn: 539388.1364330\ttest: 733159.8640818\tbest: 733159.8640818 (806)\ttotal: 20s\tremaining: 4.77s\n",
            "808:\tlearn: 538894.7458285\ttest: 732935.8639244\tbest: 732935.8639244 (808)\ttotal: 20s\tremaining: 4.72s\n",
            "810:\tlearn: 538506.5488627\ttest: 732940.4024904\tbest: 732935.8639244 (808)\ttotal: 20s\tremaining: 4.66s\n",
            "812:\tlearn: 538060.0071443\ttest: 732828.8805964\tbest: 732828.8805964 (812)\ttotal: 20s\tremaining: 4.61s\n",
            "814:\tlearn: 537817.8866829\ttest: 732833.2301170\tbest: 732828.8805964 (812)\ttotal: 20.1s\tremaining: 4.55s\n",
            "816:\tlearn: 537587.5899930\ttest: 732754.1478636\tbest: 732754.1478636 (816)\ttotal: 20.1s\tremaining: 4.5s\n",
            "818:\tlearn: 537232.4296122\ttest: 732728.2003457\tbest: 732728.2003457 (818)\ttotal: 20.1s\tremaining: 4.44s\n",
            "820:\tlearn: 536910.0476453\ttest: 732510.7854128\tbest: 732510.7854128 (820)\ttotal: 20.1s\tremaining: 4.38s\n",
            "822:\tlearn: 536504.7401923\ttest: 732444.7447768\tbest: 732444.7447768 (822)\ttotal: 20.1s\tremaining: 4.33s\n",
            "824:\tlearn: 536128.9856825\ttest: 732249.2085493\tbest: 732249.2085493 (824)\ttotal: 20.2s\tremaining: 4.28s\n",
            "826:\tlearn: 535705.3601745\ttest: 732052.6128203\tbest: 732052.6128203 (826)\ttotal: 20.2s\tremaining: 4.22s\n",
            "828:\tlearn: 535400.8104638\ttest: 732098.8888307\tbest: 732052.6128203 (826)\ttotal: 20.2s\tremaining: 4.17s\n",
            "830:\tlearn: 534921.8941311\ttest: 732152.2646615\tbest: 732052.6128203 (826)\ttotal: 20.2s\tremaining: 4.11s\n",
            "832:\tlearn: 534508.9740897\ttest: 732221.7927198\tbest: 732052.6128203 (826)\ttotal: 20.2s\tremaining: 4.06s\n",
            "834:\tlearn: 534289.0583851\ttest: 732198.4688194\tbest: 732052.6128203 (826)\ttotal: 20.3s\tremaining: 4s\n",
            "836:\tlearn: 534022.1415116\ttest: 732124.9202997\tbest: 732052.6128203 (826)\ttotal: 20.3s\tremaining: 3.95s\n",
            "838:\tlearn: 533781.1618996\ttest: 731963.5364458\tbest: 731963.5364458 (838)\ttotal: 20.3s\tremaining: 3.89s\n",
            "840:\tlearn: 533477.2853451\ttest: 732035.4849935\tbest: 731963.5364458 (838)\ttotal: 20.3s\tremaining: 3.84s\n",
            "842:\tlearn: 533277.4080726\ttest: 731983.6172522\tbest: 731960.4251821 (841)\ttotal: 20.3s\tremaining: 3.79s\n",
            "844:\tlearn: 532750.4316982\ttest: 731572.9411421\tbest: 731572.9411421 (844)\ttotal: 20.4s\tremaining: 3.73s\n",
            "846:\tlearn: 532416.0768893\ttest: 731499.7088352\tbest: 731496.3833577 (845)\ttotal: 20.4s\tremaining: 3.68s\n",
            "848:\tlearn: 532073.8176609\ttest: 731271.4272985\tbest: 731271.4272985 (848)\ttotal: 20.4s\tremaining: 3.63s\n",
            "850:\tlearn: 531876.3200825\ttest: 731287.7349339\tbest: 731271.4272985 (848)\ttotal: 20.4s\tremaining: 3.58s\n",
            "852:\tlearn: 531681.8670411\ttest: 731309.6936705\tbest: 731271.4272985 (848)\ttotal: 20.4s\tremaining: 3.52s\n",
            "854:\tlearn: 531420.0429011\ttest: 731521.9029515\tbest: 731271.4272985 (848)\ttotal: 20.5s\tremaining: 3.47s\n",
            "856:\tlearn: 531073.1757876\ttest: 731320.6476643\tbest: 731271.4272985 (848)\ttotal: 20.5s\tremaining: 3.42s\n",
            "858:\tlearn: 530961.3007697\ttest: 731345.4973891\tbest: 731271.4272985 (848)\ttotal: 20.5s\tremaining: 3.37s\n",
            "860:\tlearn: 530739.4417127\ttest: 731327.4327951\tbest: 731271.4272985 (848)\ttotal: 20.5s\tremaining: 3.31s\n",
            "862:\tlearn: 530095.1192965\ttest: 730964.2680349\tbest: 730964.2680349 (862)\ttotal: 20.6s\tremaining: 3.26s\n",
            "864:\tlearn: 529759.7001335\ttest: 730993.3778604\tbest: 730928.5156967 (863)\ttotal: 20.6s\tremaining: 3.21s\n",
            "866:\tlearn: 529684.0303066\ttest: 730901.1811726\tbest: 730901.1811726 (866)\ttotal: 20.6s\tremaining: 3.16s\n",
            "868:\tlearn: 529288.7630284\ttest: 730854.1780220\tbest: 730854.1780220 (868)\ttotal: 20.6s\tremaining: 3.11s\n",
            "870:\tlearn: 528956.3119005\ttest: 730970.8786726\tbest: 730854.1780220 (868)\ttotal: 20.7s\tremaining: 3.06s\n",
            "872:\tlearn: 528767.5575348\ttest: 730931.4039028\tbest: 730854.1780220 (868)\ttotal: 20.7s\tremaining: 3.01s\n",
            "874:\tlearn: 528510.5553749\ttest: 730869.6448220\tbest: 730854.1780220 (868)\ttotal: 20.7s\tremaining: 2.96s\n",
            "876:\tlearn: 528069.4964190\ttest: 730634.8677834\tbest: 730634.8677834 (876)\ttotal: 20.7s\tremaining: 2.9s\n",
            "878:\tlearn: 527660.9807387\ttest: 730657.4831911\tbest: 730634.8677834 (876)\ttotal: 20.7s\tremaining: 2.85s\n",
            "880:\tlearn: 527246.4107602\ttest: 730516.2531354\tbest: 730516.2531354 (880)\ttotal: 20.8s\tremaining: 2.81s\n",
            "882:\tlearn: 526807.4008322\ttest: 730469.9631321\tbest: 730469.9631321 (882)\ttotal: 20.8s\tremaining: 2.75s\n",
            "884:\tlearn: 526366.1698555\ttest: 730357.7855831\tbest: 730357.7855831 (884)\ttotal: 20.8s\tremaining: 2.7s\n",
            "886:\tlearn: 525864.6934149\ttest: 730262.9140213\tbest: 730262.9140213 (886)\ttotal: 20.8s\tremaining: 2.65s\n",
            "888:\tlearn: 525471.6271576\ttest: 730234.1145888\tbest: 730234.1145888 (888)\ttotal: 20.9s\tremaining: 2.6s\n",
            "890:\tlearn: 525266.6264852\ttest: 730226.2062639\tbest: 730226.2062639 (890)\ttotal: 20.9s\tremaining: 2.55s\n",
            "892:\tlearn: 525063.0589958\ttest: 730252.2738684\tbest: 730226.2062639 (890)\ttotal: 20.9s\tremaining: 2.5s\n",
            "894:\tlearn: 524760.9795285\ttest: 730425.1261877\tbest: 730226.2062639 (890)\ttotal: 20.9s\tremaining: 2.45s\n",
            "896:\tlearn: 524379.7821364\ttest: 730394.8458232\tbest: 730226.2062639 (890)\ttotal: 20.9s\tremaining: 2.4s\n",
            "898:\tlearn: 524132.9254460\ttest: 730310.3498095\tbest: 730226.2062639 (890)\ttotal: 21s\tremaining: 2.35s\n",
            "900:\tlearn: 523748.5814053\ttest: 730249.0027436\tbest: 730212.8316772 (899)\ttotal: 21s\tremaining: 2.31s\n",
            "902:\tlearn: 523601.7494532\ttest: 730203.6966573\tbest: 730203.6966573 (902)\ttotal: 21s\tremaining: 2.26s\n",
            "904:\tlearn: 523297.0922998\ttest: 730133.1551965\tbest: 730133.1551965 (904)\ttotal: 21s\tremaining: 2.21s\n",
            "906:\tlearn: 523031.5566466\ttest: 730074.4373227\tbest: 730064.6353801 (905)\ttotal: 21s\tremaining: 2.16s\n",
            "908:\tlearn: 522612.4317224\ttest: 729909.7969150\tbest: 729880.3613463 (907)\ttotal: 21.1s\tremaining: 2.11s\n",
            "910:\tlearn: 522390.9752414\ttest: 729966.7458532\tbest: 729880.3613463 (907)\ttotal: 21.1s\tremaining: 2.06s\n",
            "912:\tlearn: 521978.1657825\ttest: 729753.8019748\tbest: 729753.8019748 (912)\ttotal: 21.1s\tremaining: 2.01s\n",
            "914:\tlearn: 521415.2320963\ttest: 729840.7496361\tbest: 729753.8019748 (912)\ttotal: 21.1s\tremaining: 1.96s\n",
            "916:\tlearn: 521008.1755034\ttest: 729815.6496843\tbest: 729753.8019748 (912)\ttotal: 21.2s\tremaining: 1.91s\n",
            "918:\tlearn: 520604.6040756\ttest: 729834.8445770\tbest: 729748.2178059 (917)\ttotal: 21.2s\tremaining: 1.87s\n",
            "920:\tlearn: 520234.2111057\ttest: 729884.1006194\tbest: 729748.2178059 (917)\ttotal: 21.2s\tremaining: 1.82s\n",
            "922:\tlearn: 519651.0425815\ttest: 729956.5805627\tbest: 729748.2178059 (917)\ttotal: 21.2s\tremaining: 1.77s\n",
            "924:\tlearn: 519253.0160958\ttest: 729958.6313996\tbest: 729748.2178059 (917)\ttotal: 21.2s\tremaining: 1.72s\n",
            "926:\tlearn: 518904.0289663\ttest: 730222.2527952\tbest: 729748.2178059 (917)\ttotal: 21.3s\tremaining: 1.67s\n",
            "928:\tlearn: 518495.9244116\ttest: 730286.9577713\tbest: 729748.2178059 (917)\ttotal: 21.3s\tremaining: 1.63s\n",
            "930:\tlearn: 518345.1515079\ttest: 730237.7371727\tbest: 729748.2178059 (917)\ttotal: 21.3s\tremaining: 1.58s\n",
            "932:\tlearn: 518000.5060290\ttest: 730221.0571727\tbest: 729748.2178059 (917)\ttotal: 21.3s\tremaining: 1.53s\n",
            "934:\tlearn: 517755.4800179\ttest: 730173.7290461\tbest: 729748.2178059 (917)\ttotal: 21.4s\tremaining: 1.48s\n",
            "936:\tlearn: 517631.4968096\ttest: 730205.4333797\tbest: 729748.2178059 (917)\ttotal: 21.4s\tremaining: 1.44s\n",
            "938:\tlearn: 517471.0117605\ttest: 730230.8250979\tbest: 729748.2178059 (917)\ttotal: 21.4s\tremaining: 1.39s\n",
            "940:\tlearn: 517177.7184425\ttest: 730356.1855349\tbest: 729748.2178059 (917)\ttotal: 21.4s\tremaining: 1.34s\n",
            "942:\tlearn: 516735.2387706\ttest: 730512.5793413\tbest: 729748.2178059 (917)\ttotal: 21.4s\tremaining: 1.29s\n",
            "944:\tlearn: 516458.9678392\ttest: 730578.7070482\tbest: 729748.2178059 (917)\ttotal: 21.5s\tremaining: 1.25s\n",
            "946:\tlearn: 516330.5217662\ttest: 730598.0005020\tbest: 729748.2178059 (917)\ttotal: 21.5s\tremaining: 1.2s\n",
            "948:\tlearn: 516118.8765410\ttest: 730706.6579517\tbest: 729748.2178059 (917)\ttotal: 21.5s\tremaining: 1.16s\n",
            "950:\tlearn: 515887.1283892\ttest: 730789.9749969\tbest: 729748.2178059 (917)\ttotal: 21.5s\tremaining: 1.11s\n",
            "952:\tlearn: 515688.0147050\ttest: 730798.0612153\tbest: 729748.2178059 (917)\ttotal: 21.5s\tremaining: 1.06s\n",
            "954:\tlearn: 515407.3068317\ttest: 730847.5509439\tbest: 729748.2178059 (917)\ttotal: 21.6s\tremaining: 1.02s\n",
            "956:\tlearn: 514960.8429349\ttest: 730809.3709543\tbest: 729748.2178059 (917)\ttotal: 21.6s\tremaining: 970ms\n",
            "958:\tlearn: 514696.6516435\ttest: 730853.4144361\tbest: 729748.2178059 (917)\ttotal: 21.6s\tremaining: 924ms\n",
            "960:\tlearn: 514324.9104449\ttest: 730921.4945600\tbest: 729748.2178059 (917)\ttotal: 21.6s\tremaining: 879ms\n",
            "962:\tlearn: 514150.6819999\ttest: 730869.5396428\tbest: 729748.2178059 (917)\ttotal: 21.7s\tremaining: 833ms\n",
            "964:\tlearn: 513804.1691705\ttest: 730893.2687624\tbest: 729748.2178059 (917)\ttotal: 21.7s\tremaining: 787ms\n",
            "966:\tlearn: 513544.4429733\ttest: 730980.6782461\tbest: 729748.2178059 (917)\ttotal: 21.7s\tremaining: 741ms\n",
            "Stopped by overfitting detector  (50 iterations wait)\n",
            "\n",
            "bestTest = 729748.2178\n",
            "bestIteration = 917\n",
            "\n",
            "Shrink model to first 918 iterations.\n"
          ]
        },
        {
          "output_type": "execute_result",
          "data": {
            "text/plain": [
              "<catboost.core.CatBoostRegressor at 0x7f2260e1eed0>"
            ]
          },
          "metadata": {},
          "execution_count": 124
        }
      ]
    },
    {
      "cell_type": "markdown",
      "source": [
        "Получим предсказания и выведем метрики"
      ],
      "metadata": {
        "id": "l4a4Eeh-4ds7"
      }
    },
    {
      "cell_type": "code",
      "source": [
        "y_pred = clf.predict(X_test)\n",
        "metrics = get_metrics(list(y_test), y_pred, X_test, name='Catboost', delta=1)\n",
        "\n",
        "y_pred_train = clf.predict(X_train_)\n",
        "metrics = metrics.append(\n",
        "    get_metrics(list(y_train_), y_pred_train, X_train, name='Catboost_train', delta=1))\n",
        "\n",
        "metrics"
      ],
      "metadata": {
        "colab": {
          "base_uri": "https://localhost:8080/",
          "height": 112
        },
        "id": "4WttyYaU4j9T",
        "outputId": "974bb62e-50b8-41a8-d2a6-010e17ea35f1"
      },
      "execution_count": null,
      "outputs": [
        {
          "output_type": "execute_result",
          "data": {
            "text/plain": [
              "            model            MAE           MSE           RMSE     RMSLE  \\\n",
              "0        Catboost  531449.920629  5.978945e+11  773236.392511  0.184472   \n",
              "0  Catboost_train  387609.750246  2.717323e+11  521279.456277  0.157545   \n",
              "\n",
              "   R2 adjusted     Huber_loss     MPE_%     MAPE_%     WAPE_%  \n",
              "0     0.854777  265724.460315 -3.822544  13.600262  11.736387  \n",
              "0     0.930522  193804.375123 -2.947380  10.979388   8.606164  "
            ],
            "text/html": [
              "\n",
              "  <div id=\"df-19774eef-652b-4b23-81f2-fe5cf6aa0421\">\n",
              "    <div class=\"colab-df-container\">\n",
              "      <div>\n",
              "<style scoped>\n",
              "    .dataframe tbody tr th:only-of-type {\n",
              "        vertical-align: middle;\n",
              "    }\n",
              "\n",
              "    .dataframe tbody tr th {\n",
              "        vertical-align: top;\n",
              "    }\n",
              "\n",
              "    .dataframe thead th {\n",
              "        text-align: right;\n",
              "    }\n",
              "</style>\n",
              "<table border=\"1\" class=\"dataframe\">\n",
              "  <thead>\n",
              "    <tr style=\"text-align: right;\">\n",
              "      <th></th>\n",
              "      <th>model</th>\n",
              "      <th>MAE</th>\n",
              "      <th>MSE</th>\n",
              "      <th>RMSE</th>\n",
              "      <th>RMSLE</th>\n",
              "      <th>R2 adjusted</th>\n",
              "      <th>Huber_loss</th>\n",
              "      <th>MPE_%</th>\n",
              "      <th>MAPE_%</th>\n",
              "      <th>WAPE_%</th>\n",
              "    </tr>\n",
              "  </thead>\n",
              "  <tbody>\n",
              "    <tr>\n",
              "      <th>0</th>\n",
              "      <td>Catboost</td>\n",
              "      <td>531449.920629</td>\n",
              "      <td>5.978945e+11</td>\n",
              "      <td>773236.392511</td>\n",
              "      <td>0.184472</td>\n",
              "      <td>0.854777</td>\n",
              "      <td>265724.460315</td>\n",
              "      <td>-3.822544</td>\n",
              "      <td>13.600262</td>\n",
              "      <td>11.736387</td>\n",
              "    </tr>\n",
              "    <tr>\n",
              "      <th>0</th>\n",
              "      <td>Catboost_train</td>\n",
              "      <td>387609.750246</td>\n",
              "      <td>2.717323e+11</td>\n",
              "      <td>521279.456277</td>\n",
              "      <td>0.157545</td>\n",
              "      <td>0.930522</td>\n",
              "      <td>193804.375123</td>\n",
              "      <td>-2.947380</td>\n",
              "      <td>10.979388</td>\n",
              "      <td>8.606164</td>\n",
              "    </tr>\n",
              "  </tbody>\n",
              "</table>\n",
              "</div>\n",
              "      <button class=\"colab-df-convert\" onclick=\"convertToInteractive('df-19774eef-652b-4b23-81f2-fe5cf6aa0421')\"\n",
              "              title=\"Convert this dataframe to an interactive table.\"\n",
              "              style=\"display:none;\">\n",
              "        \n",
              "  <svg xmlns=\"http://www.w3.org/2000/svg\" height=\"24px\"viewBox=\"0 0 24 24\"\n",
              "       width=\"24px\">\n",
              "    <path d=\"M0 0h24v24H0V0z\" fill=\"none\"/>\n",
              "    <path d=\"M18.56 5.44l.94 2.06.94-2.06 2.06-.94-2.06-.94-.94-2.06-.94 2.06-2.06.94zm-11 1L8.5 8.5l.94-2.06 2.06-.94-2.06-.94L8.5 2.5l-.94 2.06-2.06.94zm10 10l.94 2.06.94-2.06 2.06-.94-2.06-.94-.94-2.06-.94 2.06-2.06.94z\"/><path d=\"M17.41 7.96l-1.37-1.37c-.4-.4-.92-.59-1.43-.59-.52 0-1.04.2-1.43.59L10.3 9.45l-7.72 7.72c-.78.78-.78 2.05 0 2.83L4 21.41c.39.39.9.59 1.41.59.51 0 1.02-.2 1.41-.59l7.78-7.78 2.81-2.81c.8-.78.8-2.07 0-2.86zM5.41 20L4 18.59l7.72-7.72 1.47 1.35L5.41 20z\"/>\n",
              "  </svg>\n",
              "      </button>\n",
              "      \n",
              "  <style>\n",
              "    .colab-df-container {\n",
              "      display:flex;\n",
              "      flex-wrap:wrap;\n",
              "      gap: 12px;\n",
              "    }\n",
              "\n",
              "    .colab-df-convert {\n",
              "      background-color: #E8F0FE;\n",
              "      border: none;\n",
              "      border-radius: 50%;\n",
              "      cursor: pointer;\n",
              "      display: none;\n",
              "      fill: #1967D2;\n",
              "      height: 32px;\n",
              "      padding: 0 0 0 0;\n",
              "      width: 32px;\n",
              "    }\n",
              "\n",
              "    .colab-df-convert:hover {\n",
              "      background-color: #E2EBFA;\n",
              "      box-shadow: 0px 1px 2px rgba(60, 64, 67, 0.3), 0px 1px 3px 1px rgba(60, 64, 67, 0.15);\n",
              "      fill: #174EA6;\n",
              "    }\n",
              "\n",
              "    [theme=dark] .colab-df-convert {\n",
              "      background-color: #3B4455;\n",
              "      fill: #D2E3FC;\n",
              "    }\n",
              "\n",
              "    [theme=dark] .colab-df-convert:hover {\n",
              "      background-color: #434B5C;\n",
              "      box-shadow: 0px 1px 3px 1px rgba(0, 0, 0, 0.15);\n",
              "      filter: drop-shadow(0px 1px 2px rgba(0, 0, 0, 0.3));\n",
              "      fill: #FFFFFF;\n",
              "    }\n",
              "  </style>\n",
              "\n",
              "      <script>\n",
              "        const buttonEl =\n",
              "          document.querySelector('#df-19774eef-652b-4b23-81f2-fe5cf6aa0421 button.colab-df-convert');\n",
              "        buttonEl.style.display =\n",
              "          google.colab.kernel.accessAllowed ? 'block' : 'none';\n",
              "\n",
              "        async function convertToInteractive(key) {\n",
              "          const element = document.querySelector('#df-19774eef-652b-4b23-81f2-fe5cf6aa0421');\n",
              "          const dataTable =\n",
              "            await google.colab.kernel.invokeFunction('convertToInteractive',\n",
              "                                                     [key], {});\n",
              "          if (!dataTable) return;\n",
              "\n",
              "          const docLinkHtml = 'Like what you see? Visit the ' +\n",
              "            '<a target=\"_blank\" href=https://colab.research.google.com/notebooks/data_table.ipynb>data table notebook</a>'\n",
              "            + ' to learn more about interactive tables.';\n",
              "          element.innerHTML = '';\n",
              "          dataTable['output_type'] = 'display_data';\n",
              "          await google.colab.output.renderOutput(dataTable, element);\n",
              "          const docLink = document.createElement('div');\n",
              "          docLink.innerHTML = docLinkHtml;\n",
              "          element.appendChild(docLink);\n",
              "        }\n",
              "      </script>\n",
              "    </div>\n",
              "  </div>\n",
              "  "
            ]
          },
          "metadata": {},
          "execution_count": 126
        }
      ]
    },
    {
      "cell_type": "markdown",
      "source": [
        "Видим, что по абсолютным метрикам мы достигли хорошего качества (R2=0.85, WAPE=12%, MAPE=14%, RMSLE=18%)"
      ],
      "metadata": {
        "id": "LgCFIa2D8eux"
      }
    },
    {
      "cell_type": "markdown",
      "source": [
        "Теперь проинтерпретируем модель и посмотрим, какие признаки она использовала для предсказания. Это будет нашей оценкой важности факторов"
      ],
      "metadata": {
        "id": "sh8UO4RU-HVR"
      }
    },
    {
      "cell_type": "code",
      "source": [
        "imp = clf.get_feature_importance(Pool(data=data, cat_features=cat_features))\n",
        "imp"
      ],
      "metadata": {
        "colab": {
          "base_uri": "https://localhost:8080/"
        },
        "id": "z4E3juG8-Nrd",
        "outputId": "3e94e68f-09c3-48c6-9308-0180d05423ab"
      },
      "execution_count": null,
      "outputs": [
        {
          "output_type": "execute_result",
          "data": {
            "text/plain": [
              "array([1.76762053e+00, 2.49174844e+01, 1.02325619e+00, 1.54263103e+00,\n",
              "       7.22149048e+00, 1.46021097e+00, 7.85367342e-01, 3.00239462e-03,\n",
              "       0.00000000e+00, 5.39379749e+00, 2.02245194e-01, 6.73450712e+00,\n",
              "       3.67934465e+00, 3.70964279e+01, 1.68022559e-01, 5.06482102e-01,\n",
              "       2.92054758e-01, 5.42724379e-01, 1.24296147e+00, 6.90933884e-01,\n",
              "       1.73973266e+00, 2.89421070e-01, 6.13083974e-01, 1.06995691e+00,\n",
              "       1.01724055e+00])"
            ]
          },
          "metadata": {},
          "execution_count": 129
        }
      ]
    },
    {
      "cell_type": "code",
      "source": [
        "plt.scatter(feature_cols.columns, imp)\n",
        "plt.xticks(rotation=90)\n",
        "plt.title('График зависимости важности признака от признака')\n",
        "plt.grid(True)\n",
        "plt.xlabel('Признак')\n",
        "plt.ylabel('Важность признака');"
      ],
      "metadata": {
        "colab": {
          "base_uri": "https://localhost:8080/",
          "height": 605
        },
        "id": "roqhyo_IC2fb",
        "outputId": "f4eeb5fa-20a5-4a9c-cb5a-96d520fcff5e"
      },
      "execution_count": null,
      "outputs": [
        {
          "output_type": "display_data",
          "data": {
            "text/plain": [
              "<Figure size 720x576 with 1 Axes>"
            ],
            "image/png": "[encoded data removed]"
          },
          "metadata": {
            "needs_background": "light"
          }
        }
      ]
    },
    {
      "cell_type": "markdown",
      "source": [
        "Видим, что самыми важными признаками оказались площадь и расстояние до центра"
      ],
      "metadata": {
        "id": "rtbIxxOSDyRi"
      }
    },
    {
      "cell_type": "markdown",
      "source": [
        "Выведем топ-5 для большей наглядности"
      ],
      "metadata": {
        "id": "qS8JOCuIGXIR"
      }
    },
    {
      "cell_type": "code",
      "source": [
        "(pd.Series(clf.feature_importances_, index=feature_cols.columns)\n",
        "   .nlargest(5)\n",
        "   .plot(kind='barh')) ;"
      ],
      "metadata": {
        "colab": {
          "base_uri": "https://localhost:8080/",
          "height": 483
        },
        "id": "6j4U7X9xGdMt",
        "outputId": "c9e3a64a-0d82-4e26-9a74-4420bf223802"
      },
      "execution_count": null,
      "outputs": [
        {
          "output_type": "display_data",
          "data": {
            "text/plain": [
              "<Figure size 720x576 with 1 Axes>"
            ],
            "image/png": "[encoded data removed]"
          },
          "metadata": {
            "needs_background": "light"
          }
        }
      ]
    },
    {
      "cell_type": "markdown",
      "source": [
        "Сравним результаты с другим методом из библиотеки shap. Он также позволит понять, в какую собственно сторону влияют те или иные признаки на стоимость "
      ],
      "metadata": {
        "id": "yWUGYuNlGyen"
      }
    },
    {
      "cell_type": "code",
      "source": [
        "explainer = shap.TreeExplainer(clf)\n",
        "shap_values = explainer(X_test)\n",
        "shap.summary_plot(shap_values, X_test, max_display=200)"
      ],
      "metadata": {
        "colab": {
          "base_uri": "https://localhost:8080/",
          "height": 837
        },
        "id": "NWrcL1d8EAKF",
        "outputId": "e9feafd6-7d95-4209-d86c-51ef01a85b62"
      },
      "execution_count": null,
      "outputs": [
        {
          "output_type": "display_data",
          "data": {
            "text/plain": [
              "<Figure size 576x828 with 2 Axes>"
            ],
            "image/png": "[encoded data removed]"
          },
          "metadata": {
            "needs_background": "light"
          }
        }
      ]
    },
    {
      "cell_type": "markdown",
      "source": [
        "Видим, что, например, положительно влияет на стоимость увеличение таких признаков как площадь, количество этажей, площадь кухни, а отрицательно - расстояние до центра, до аэропорта и число комнат, как ни странно. В целом, этот график даёт отличное представление о том, из каких факторов складывался прогноз, и т.к. мы(я) удовлетворены качеством прогноза, то естественно предположить, что и реальная стоимость складывается из этих факторов. Будет также интересно решить эту задачу методами статистики и сравнить результаты (это реализую позже). Также видим, что топ-5 совпали для двух методов\n",
        "\n",
        "Вывод по заданию - на стоимость влияют площадь, число комнат, удалённость от центра; не влияют - этаж, время размещения"
      ],
      "metadata": {
        "id": "FqzN1XRtHJ_F"
      }
    },
    {
      "cell_type": "markdown",
      "source": [
        "## Анализ влияния различных параметров на стоимость в Санкт-Петербурге"
      ],
      "metadata": {
        "id": "QHnSZw7_oRyJ"
      }
    },
    {
      "cell_type": "markdown",
      "source": [
        "Просто повторим те же самые шаги для второго датасета"
      ],
      "metadata": {
        "id": "Ou0O3qkIob3y"
      }
    },
    {
      "cell_type": "code",
      "source": [
        "data = df_SP.dropna()\n",
        "feature_cols = data.drop(columns = ['last_price'])\n",
        "\n",
        "X_train, X_test, y_train, y_test = train_test_split(feature_cols,\n",
        "                                                    df_SP['last_price'],\n",
        "                                                    test_size=0.16,\n",
        "                                                    random_state=10)\n",
        "\n",
        "# Выборки для проверки после каждой итерации обучения\n",
        "X_train_, X_val, y_train_, y_val = train_test_split(X_train,\n",
        "                                                    y_train,\n",
        "                                                    test_size=0.16,\n",
        "                                                    shuffle=True,\n",
        "                                                    random_state=10)\n",
        "eval_set = [(X_val, y_val)]\n",
        "\n",
        "# Категориальные столбцы\n",
        "cat_features = ['locality_name', 'floor_cat']\n",
        "\n",
        "clf = CatBoostRegressor(random_state=10,\\\n",
        "                         cat_features = cat_features)\n",
        "\n",
        "eval_set = [(X_val, y_val)]\n",
        "\n",
        "clf.fit(X_train_,\n",
        "        y_train_,\n",
        "        eval_set=eval_set,\n",
        "        early_stopping_rounds=50,\n",
        "        verbose=2)"
      ],
      "metadata": {
        "colab": {
          "base_uri": "https://localhost:8080/"
        },
        "outputId": "7a9e7b91-3fad-4071-8e55-8f421731c93c",
        "id": "O2_S1GwuorT4"
      },
      "execution_count": null,
      "outputs": [
        {
          "output_type": "stream",
          "name": "stdout",
          "text": [
            "Learning rate set to 0.069259\n",
            "0:\tlearn: 1727069.8989217\ttest: 1712407.5785196\tbest: 1712407.5785196 (0)\ttotal: 10.5ms\tremaining: 10.5s\n",
            "2:\tlearn: 1591673.4520461\ttest: 1578806.2461457\tbest: 1578806.2461457 (2)\ttotal: 26ms\tremaining: 8.63s\n",
            "4:\tlearn: 1475109.8798077\ttest: 1466193.4578590\tbest: 1466193.4578590 (4)\ttotal: 39.9ms\tremaining: 7.93s\n",
            "6:\tlearn: 1377482.5396647\ttest: 1367608.6648658\tbest: 1367608.6648658 (6)\ttotal: 53ms\tremaining: 7.52s\n",
            "8:\tlearn: 1297515.6118611\ttest: 1287709.9499459\tbest: 1287709.9499459 (8)\ttotal: 66.9ms\tremaining: 7.37s\n",
            "10:\tlearn: 1231374.9870019\ttest: 1224140.7270365\tbest: 1224140.7270365 (10)\ttotal: 80.4ms\tremaining: 7.22s\n",
            "12:\tlearn: 1175101.4380119\ttest: 1168305.4139081\tbest: 1168305.4139081 (12)\ttotal: 95.1ms\tremaining: 7.22s\n",
            "14:\tlearn: 1130053.3723998\ttest: 1125218.1969079\tbest: 1125218.1969079 (14)\ttotal: 110ms\tremaining: 7.2s\n",
            "16:\tlearn: 1089184.3215609\ttest: 1088569.6898695\tbest: 1088569.6898695 (16)\ttotal: 123ms\tremaining: 7.14s\n",
            "18:\tlearn: 1054854.4691799\ttest: 1053911.2024892\tbest: 1053911.2024892 (18)\ttotal: 140ms\tremaining: 7.21s\n",
            "20:\tlearn: 1024931.2303064\ttest: 1026446.9180663\tbest: 1026446.9180663 (20)\ttotal: 154ms\tremaining: 7.16s\n",
            "22:\tlearn: 999435.5955358\ttest: 1003015.5033194\tbest: 1003015.5033194 (22)\ttotal: 168ms\tremaining: 7.12s\n",
            "24:\tlearn: 978365.6167571\ttest: 985794.7203142\tbest: 985794.7203142 (24)\ttotal: 181ms\tremaining: 7.07s\n",
            "26:\tlearn: 960158.4117659\ttest: 968706.8613381\tbest: 968706.8613381 (26)\ttotal: 200ms\tremaining: 7.2s\n",
            "28:\tlearn: 944273.5189279\ttest: 953777.4864919\tbest: 953777.4864919 (28)\ttotal: 213ms\tremaining: 7.13s\n",
            "30:\tlearn: 930537.3960321\ttest: 940495.3136012\tbest: 940495.3136012 (30)\ttotal: 227ms\tremaining: 7.1s\n",
            "32:\tlearn: 918279.1726000\ttest: 930024.0542846\tbest: 930024.0542846 (32)\ttotal: 241ms\tremaining: 7.05s\n",
            "34:\tlearn: 907687.9685345\ttest: 920644.2262799\tbest: 920644.2262799 (34)\ttotal: 254ms\tremaining: 7s\n",
            "36:\tlearn: 897961.8474984\ttest: 912054.0202304\tbest: 912054.0202304 (36)\ttotal: 271ms\tremaining: 7.05s\n",
            "38:\tlearn: 888539.3207007\ttest: 903220.2088175\tbest: 903220.2088175 (38)\ttotal: 285ms\tremaining: 7.03s\n",
            "40:\tlearn: 881829.1573789\ttest: 897558.5011972\tbest: 897558.5011972 (40)\ttotal: 299ms\tremaining: 6.99s\n",
            "42:\tlearn: 875238.4006470\ttest: 892753.3419932\tbest: 892753.3419932 (42)\ttotal: 312ms\tremaining: 6.95s\n",
            "44:\tlearn: 868191.5079360\ttest: 885708.9644466\tbest: 885708.9644466 (44)\ttotal: 326ms\tremaining: 6.92s\n",
            "46:\tlearn: 861626.0154418\ttest: 881592.1537079\tbest: 881592.1537079 (46)\ttotal: 341ms\tremaining: 6.92s\n",
            "48:\tlearn: 856160.2817696\ttest: 877646.9840388\tbest: 877646.9840388 (48)\ttotal: 355ms\tremaining: 6.89s\n",
            "50:\tlearn: 851083.1323122\ttest: 874686.7443969\tbest: 874686.7443969 (50)\ttotal: 369ms\tremaining: 6.86s\n",
            "52:\tlearn: 847118.7544741\ttest: 871025.1435521\tbest: 871025.1435521 (52)\ttotal: 383ms\tremaining: 6.84s\n",
            "54:\tlearn: 842743.9009546\ttest: 867904.8347698\tbest: 867904.8347698 (54)\ttotal: 398ms\tremaining: 6.84s\n",
            "56:\tlearn: 837808.9911926\ttest: 864164.8572202\tbest: 864164.8572202 (56)\ttotal: 414ms\tremaining: 6.85s\n",
            "58:\tlearn: 833234.9585306\ttest: 860515.1209900\tbest: 860515.1209900 (58)\ttotal: 428ms\tremaining: 6.83s\n",
            "60:\tlearn: 829586.3569417\ttest: 857490.1829713\tbest: 857490.1829713 (60)\ttotal: 441ms\tremaining: 6.79s\n",
            "62:\tlearn: 826059.8177477\ttest: 855033.6893363\tbest: 855033.6893363 (62)\ttotal: 456ms\tremaining: 6.78s\n",
            "64:\tlearn: 821647.2466389\ttest: 850905.7920864\tbest: 850905.7920864 (64)\ttotal: 469ms\tremaining: 6.75s\n",
            "66:\tlearn: 818463.2442264\ttest: 849031.4731430\tbest: 849031.4731430 (66)\ttotal: 483ms\tremaining: 6.72s\n",
            "68:\tlearn: 815321.7426383\ttest: 846281.4354911\tbest: 846281.4354911 (68)\ttotal: 497ms\tremaining: 6.7s\n",
            "70:\tlearn: 812600.1839116\ttest: 844401.3816196\tbest: 844401.3816196 (70)\ttotal: 510ms\tremaining: 6.67s\n",
            "72:\tlearn: 809624.0312479\ttest: 842185.7953296\tbest: 842185.7953296 (72)\ttotal: 523ms\tremaining: 6.64s\n",
            "74:\tlearn: 806938.2296118\ttest: 841433.4338899\tbest: 841433.4338899 (74)\ttotal: 539ms\tremaining: 6.65s\n",
            "76:\tlearn: 803735.6780645\ttest: 839322.5292856\tbest: 839322.5292856 (76)\ttotal: 557ms\tremaining: 6.67s\n",
            "78:\tlearn: 801499.0805433\ttest: 838212.7478962\tbest: 838212.7478962 (78)\ttotal: 574ms\tremaining: 6.7s\n",
            "80:\tlearn: 799145.3781518\ttest: 836319.3285545\tbest: 836319.3285545 (80)\ttotal: 589ms\tremaining: 6.68s\n",
            "82:\tlearn: 796824.1431068\ttest: 834710.4990021\tbest: 834710.4990021 (82)\ttotal: 605ms\tremaining: 6.68s\n",
            "84:\tlearn: 793534.7063658\ttest: 832469.7551818\tbest: 832469.7551818 (84)\ttotal: 621ms\tremaining: 6.69s\n",
            "86:\tlearn: 791677.0959271\ttest: 831506.6656754\tbest: 831476.8132771 (85)\ttotal: 634ms\tremaining: 6.66s\n",
            "88:\tlearn: 789910.3100255\ttest: 830506.2468879\tbest: 830506.2468879 (88)\ttotal: 647ms\tremaining: 6.62s\n",
            "90:\tlearn: 786966.7981541\ttest: 828709.3286993\tbest: 828709.3286993 (90)\ttotal: 663ms\tremaining: 6.62s\n",
            "92:\tlearn: 785013.1431614\ttest: 828058.7672328\tbest: 828058.7672328 (92)\ttotal: 676ms\tremaining: 6.6s\n",
            "94:\tlearn: 782272.3028773\ttest: 825026.0650130\tbest: 825026.0650130 (94)\ttotal: 690ms\tremaining: 6.57s\n",
            "96:\tlearn: 781283.1377031\ttest: 824642.4896091\tbest: 824642.4896091 (96)\ttotal: 700ms\tremaining: 6.51s\n",
            "98:\tlearn: 779562.4733528\ttest: 823475.0533804\tbest: 823475.0533804 (98)\ttotal: 714ms\tremaining: 6.5s\n",
            "100:\tlearn: 777529.4913733\ttest: 822394.7647256\tbest: 822394.7647256 (100)\ttotal: 729ms\tremaining: 6.48s\n",
            "102:\tlearn: 776242.8563758\ttest: 821934.2319225\tbest: 821934.2319225 (102)\ttotal: 738ms\tremaining: 6.43s\n",
            "104:\tlearn: 774815.5556564\ttest: 820904.8277708\tbest: 820904.8277708 (104)\ttotal: 756ms\tremaining: 6.44s\n",
            "106:\tlearn: 773046.6537956\ttest: 820337.9135483\tbest: 820337.9135483 (106)\ttotal: 770ms\tremaining: 6.42s\n",
            "108:\tlearn: 771624.8497837\ttest: 819192.3546452\tbest: 819192.3546452 (108)\ttotal: 783ms\tremaining: 6.4s\n",
            "110:\tlearn: 769417.9836369\ttest: 817037.6483825\tbest: 817037.6483825 (110)\ttotal: 796ms\tremaining: 6.38s\n",
            "112:\tlearn: 767269.9641849\ttest: 815343.3259036\tbest: 815343.3259036 (112)\ttotal: 814ms\tremaining: 6.39s\n",
            "114:\tlearn: 765156.6130420\ttest: 814511.8424396\tbest: 814511.8424396 (114)\ttotal: 828ms\tremaining: 6.37s\n",
            "116:\tlearn: 763763.6497276\ttest: 814103.8704982\tbest: 814103.8704982 (116)\ttotal: 841ms\tremaining: 6.35s\n",
            "118:\tlearn: 762411.8863795\ttest: 812667.9284678\tbest: 812667.9284678 (118)\ttotal: 854ms\tremaining: 6.32s\n",
            "120:\tlearn: 760819.3516869\ttest: 812270.3446703\tbest: 812270.3446703 (120)\ttotal: 868ms\tremaining: 6.3s\n",
            "122:\tlearn: 758875.4652412\ttest: 811982.7864420\tbest: 811857.0312517 (121)\ttotal: 882ms\tremaining: 6.29s\n",
            "124:\tlearn: 756889.7730816\ttest: 810822.3944364\tbest: 810822.3944364 (124)\ttotal: 895ms\tremaining: 6.26s\n",
            "126:\tlearn: 754568.3818444\ttest: 809472.0090251\tbest: 809472.0090251 (126)\ttotal: 909ms\tremaining: 6.25s\n",
            "128:\tlearn: 752132.1067615\ttest: 808414.9961125\tbest: 808414.9961125 (128)\ttotal: 922ms\tremaining: 6.23s\n",
            "130:\tlearn: 751106.4005134\ttest: 808080.2532167\tbest: 808061.4802665 (129)\ttotal: 936ms\tremaining: 6.21s\n",
            "132:\tlearn: 748720.8339992\ttest: 806599.3128355\tbest: 806599.3128355 (132)\ttotal: 952ms\tremaining: 6.2s\n",
            "134:\tlearn: 747434.4911502\ttest: 806470.9688412\tbest: 806470.9688412 (134)\ttotal: 965ms\tremaining: 6.18s\n",
            "136:\tlearn: 745868.0637897\ttest: 805127.2301115\tbest: 805127.2301115 (136)\ttotal: 980ms\tremaining: 6.18s\n",
            "138:\tlearn: 744456.8287413\ttest: 804767.3130331\tbest: 804767.3130331 (138)\ttotal: 994ms\tremaining: 6.15s\n",
            "140:\tlearn: 743025.6866621\ttest: 804351.6547523\tbest: 804351.6547523 (140)\ttotal: 1.01s\tremaining: 6.13s\n",
            "142:\tlearn: 741531.7508944\ttest: 803413.1621629\tbest: 803413.1621629 (142)\ttotal: 1.02s\tremaining: 6.14s\n",
            "144:\tlearn: 740023.4192630\ttest: 802949.0119116\tbest: 802873.6897335 (143)\ttotal: 1.04s\tremaining: 6.12s\n",
            "146:\tlearn: 739099.8856960\ttest: 802377.0797732\tbest: 802377.0797732 (146)\ttotal: 1.05s\tremaining: 6.1s\n",
            "148:\tlearn: 737494.1619110\ttest: 801437.0605954\tbest: 801437.0605954 (148)\ttotal: 1.06s\tremaining: 6.08s\n",
            "150:\tlearn: 736443.3368204\ttest: 800790.5003440\tbest: 800671.9386059 (149)\ttotal: 1.08s\tremaining: 6.05s\n",
            "152:\tlearn: 734777.1114121\ttest: 799481.7649353\tbest: 799481.7649353 (152)\ttotal: 1.09s\tremaining: 6.03s\n",
            "154:\tlearn: 734034.7115980\ttest: 798951.6234231\tbest: 798951.6234231 (154)\ttotal: 1.1s\tremaining: 6s\n",
            "156:\tlearn: 732491.0835698\ttest: 798138.1474076\tbest: 798138.1474076 (156)\ttotal: 1.11s\tremaining: 5.98s\n",
            "158:\tlearn: 731151.9680139\ttest: 796851.0359405\tbest: 796851.0359405 (158)\ttotal: 1.13s\tremaining: 6s\n",
            "160:\tlearn: 730124.5648556\ttest: 795971.2760160\tbest: 795971.2760160 (160)\ttotal: 1.15s\tremaining: 5.98s\n",
            "162:\tlearn: 728354.8463703\ttest: 795259.0359908\tbest: 795259.0359908 (162)\ttotal: 1.16s\tremaining: 5.96s\n",
            "164:\tlearn: 726988.0803264\ttest: 794565.0632762\tbest: 794565.0632762 (164)\ttotal: 1.17s\tremaining: 5.94s\n",
            "166:\tlearn: 725690.1623713\ttest: 795066.1310002\tbest: 794565.0632762 (164)\ttotal: 1.19s\tremaining: 5.92s\n",
            "168:\tlearn: 724581.1819358\ttest: 794638.8055837\tbest: 794565.0632762 (164)\ttotal: 1.2s\tremaining: 5.9s\n",
            "170:\tlearn: 723924.8925027\ttest: 794749.6496859\tbest: 794565.0632762 (164)\ttotal: 1.21s\tremaining: 5.88s\n",
            "172:\tlearn: 722231.4203671\ttest: 794280.7749663\tbest: 794280.7749663 (172)\ttotal: 1.23s\tremaining: 5.88s\n",
            "174:\tlearn: 720407.4982161\ttest: 792661.0165574\tbest: 792661.0165574 (174)\ttotal: 1.24s\tremaining: 5.86s\n",
            "176:\tlearn: 718379.3964693\ttest: 790709.8318359\tbest: 790709.8318359 (176)\ttotal: 1.26s\tremaining: 5.85s\n",
            "178:\tlearn: 716210.6283202\ttest: 790256.7152810\tbest: 790256.7152810 (178)\ttotal: 1.27s\tremaining: 5.83s\n",
            "180:\tlearn: 715581.4517955\ttest: 789841.1498497\tbest: 789841.1498497 (180)\ttotal: 1.28s\tremaining: 5.81s\n",
            "182:\tlearn: 714950.7689027\ttest: 789797.4764340\tbest: 789759.0982374 (181)\ttotal: 1.3s\tremaining: 5.79s\n",
            "184:\tlearn: 714689.0108460\ttest: 789705.3324716\tbest: 789705.3324716 (184)\ttotal: 1.31s\tremaining: 5.76s\n",
            "186:\tlearn: 714137.9740042\ttest: 789535.6236204\tbest: 789535.6236204 (186)\ttotal: 1.32s\tremaining: 5.74s\n",
            "188:\tlearn: 712420.4534748\ttest: 788971.8873075\tbest: 788971.8873075 (188)\ttotal: 1.33s\tremaining: 5.72s\n",
            "190:\tlearn: 711735.0223877\ttest: 788788.0648564\tbest: 788788.0648564 (190)\ttotal: 1.35s\tremaining: 5.7s\n",
            "192:\tlearn: 710889.5837560\ttest: 788334.3085846\tbest: 788334.3085846 (192)\ttotal: 1.36s\tremaining: 5.68s\n",
            "194:\tlearn: 710143.0887683\ttest: 787449.9396178\tbest: 787449.9396178 (194)\ttotal: 1.37s\tremaining: 5.66s\n",
            "196:\tlearn: 708681.5500279\ttest: 786999.9980462\tbest: 786999.9980462 (196)\ttotal: 1.38s\tremaining: 5.64s\n",
            "198:\tlearn: 706488.4188327\ttest: 785741.1335067\tbest: 785741.1335067 (198)\ttotal: 1.4s\tremaining: 5.63s\n",
            "200:\tlearn: 705485.3260492\ttest: 785245.5866773\tbest: 785245.5866773 (200)\ttotal: 1.41s\tremaining: 5.61s\n",
            "202:\tlearn: 703568.4982811\ttest: 784333.7162869\tbest: 784333.7162869 (202)\ttotal: 1.43s\tremaining: 5.61s\n",
            "204:\tlearn: 702412.4748750\ttest: 784322.9206229\tbest: 784322.9206229 (204)\ttotal: 1.44s\tremaining: 5.6s\n",
            "206:\tlearn: 701905.0979230\ttest: 784180.0130092\tbest: 784180.0130092 (206)\ttotal: 1.45s\tremaining: 5.57s\n",
            "208:\tlearn: 700417.3865828\ttest: 783433.4990196\tbest: 783433.4990196 (208)\ttotal: 1.47s\tremaining: 5.56s\n",
            "210:\tlearn: 698645.8437637\ttest: 783226.7927516\tbest: 783036.0641224 (209)\ttotal: 1.48s\tremaining: 5.54s\n",
            "212:\tlearn: 696702.0851147\ttest: 783023.3737498\tbest: 782843.5226244 (211)\ttotal: 1.5s\tremaining: 5.53s\n",
            "214:\tlearn: 696425.2507999\ttest: 782953.7524772\tbest: 782843.5226244 (211)\ttotal: 1.51s\tremaining: 5.5s\n",
            "216:\tlearn: 695717.5951326\ttest: 782849.3620002\tbest: 782843.5226244 (211)\ttotal: 1.53s\tremaining: 5.51s\n",
            "218:\tlearn: 694630.5558079\ttest: 782778.3868218\tbest: 782778.3868218 (218)\ttotal: 1.55s\tremaining: 5.53s\n",
            "220:\tlearn: 693805.9520886\ttest: 782397.7537437\tbest: 782397.7537437 (220)\ttotal: 1.57s\tremaining: 5.54s\n",
            "222:\tlearn: 693089.7303314\ttest: 782212.5040630\tbest: 782212.5040630 (222)\ttotal: 1.58s\tremaining: 5.52s\n",
            "224:\tlearn: 692288.7547341\ttest: 781925.5742355\tbest: 781879.7584273 (223)\ttotal: 1.59s\tremaining: 5.5s\n",
            "226:\tlearn: 691421.3289043\ttest: 781111.2569956\tbest: 781111.2569956 (226)\ttotal: 1.61s\tremaining: 5.47s\n",
            "228:\tlearn: 689754.8354732\ttest: 779983.8441363\tbest: 779983.8441363 (228)\ttotal: 1.62s\tremaining: 5.46s\n",
            "230:\tlearn: 689445.2139640\ttest: 779953.0416546\tbest: 779901.5497694 (229)\ttotal: 1.64s\tremaining: 5.45s\n",
            "232:\tlearn: 688728.0898109\ttest: 779815.3369822\tbest: 779815.3369822 (232)\ttotal: 1.65s\tremaining: 5.43s\n",
            "234:\tlearn: 687600.4000716\ttest: 779361.7539913\tbest: 779361.7539913 (234)\ttotal: 1.66s\tremaining: 5.41s\n",
            "236:\tlearn: 686462.5851556\ttest: 778909.1372821\tbest: 778909.1372821 (236)\ttotal: 1.68s\tremaining: 5.39s\n",
            "238:\tlearn: 685394.4250526\ttest: 778397.4382363\tbest: 778397.4382363 (238)\ttotal: 1.69s\tremaining: 5.38s\n",
            "240:\tlearn: 684738.4765856\ttest: 778347.6055551\tbest: 778347.6055551 (240)\ttotal: 1.71s\tremaining: 5.37s\n",
            "242:\tlearn: 683280.5088145\ttest: 777491.1499574\tbest: 777491.1499574 (242)\ttotal: 1.72s\tremaining: 5.36s\n",
            "244:\tlearn: 682174.5116507\ttest: 776384.3673187\tbest: 776384.3673187 (244)\ttotal: 1.73s\tremaining: 5.34s\n",
            "246:\tlearn: 681285.4245293\ttest: 775881.2053282\tbest: 775881.2053282 (246)\ttotal: 1.75s\tremaining: 5.32s\n",
            "248:\tlearn: 680368.4036492\ttest: 775242.3805327\tbest: 775242.3805327 (248)\ttotal: 1.76s\tremaining: 5.3s\n",
            "250:\tlearn: 679088.0461682\ttest: 774688.7953680\tbest: 774688.7953680 (250)\ttotal: 1.77s\tremaining: 5.29s\n",
            "252:\tlearn: 677686.2744961\ttest: 774199.8729349\tbest: 774192.5986509 (251)\ttotal: 1.78s\tremaining: 5.27s\n",
            "254:\tlearn: 676575.7915383\ttest: 773997.6964658\tbest: 773997.6964658 (254)\ttotal: 1.8s\tremaining: 5.25s\n",
            "256:\tlearn: 675101.1373367\ttest: 773738.9060148\tbest: 773738.9060148 (256)\ttotal: 1.81s\tremaining: 5.24s\n",
            "258:\tlearn: 674189.7443543\ttest: 773404.9985208\tbest: 773404.9985208 (258)\ttotal: 1.83s\tremaining: 5.24s\n",
            "260:\tlearn: 673661.2828292\ttest: 773112.6135619\tbest: 773112.6135619 (260)\ttotal: 1.87s\tremaining: 5.3s\n",
            "262:\tlearn: 672425.5358412\ttest: 773057.3075361\tbest: 773057.3075361 (262)\ttotal: 1.89s\tremaining: 5.29s\n",
            "264:\tlearn: 671553.0824452\ttest: 772919.3263806\tbest: 772919.3263806 (264)\ttotal: 1.9s\tremaining: 5.27s\n",
            "266:\tlearn: 670507.8917007\ttest: 772665.7594799\tbest: 772665.7594799 (266)\ttotal: 1.91s\tremaining: 5.25s\n",
            "268:\tlearn: 669828.1886167\ttest: 772655.4283592\tbest: 772648.7099217 (267)\ttotal: 1.93s\tremaining: 5.23s\n",
            "270:\tlearn: 668792.1911448\ttest: 772777.4995719\tbest: 772648.7099217 (267)\ttotal: 1.94s\tremaining: 5.22s\n",
            "272:\tlearn: 667936.0678083\ttest: 772746.1807105\tbest: 772648.7099217 (267)\ttotal: 1.95s\tremaining: 5.2s\n",
            "274:\tlearn: 666912.0937300\ttest: 772131.3609819\tbest: 772131.3609819 (274)\ttotal: 1.97s\tremaining: 5.18s\n",
            "276:\tlearn: 665836.0909033\ttest: 771749.4934113\tbest: 771749.4934113 (276)\ttotal: 1.98s\tremaining: 5.17s\n",
            "278:\tlearn: 665049.9386044\ttest: 771516.7278435\tbest: 771516.7278435 (278)\ttotal: 2s\tremaining: 5.16s\n",
            "280:\tlearn: 664430.1136835\ttest: 771255.3331302\tbest: 771255.3331302 (280)\ttotal: 2.01s\tremaining: 5.15s\n",
            "282:\tlearn: 663848.5339741\ttest: 771375.8335971\tbest: 771255.3331302 (280)\ttotal: 2.02s\tremaining: 5.13s\n",
            "284:\tlearn: 662944.8519650\ttest: 771528.8244581\tbest: 771255.3331302 (280)\ttotal: 2.04s\tremaining: 5.11s\n",
            "286:\tlearn: 662006.3359079\ttest: 771316.5902938\tbest: 771255.3331302 (280)\ttotal: 2.05s\tremaining: 5.09s\n",
            "288:\tlearn: 660795.5740402\ttest: 770575.6434463\tbest: 770575.6434463 (288)\ttotal: 2.06s\tremaining: 5.07s\n",
            "290:\tlearn: 660115.5717593\ttest: 770507.2006102\tbest: 770507.2006102 (290)\ttotal: 2.08s\tremaining: 5.07s\n",
            "292:\tlearn: 659224.9422718\ttest: 770408.0972424\tbest: 770387.8995589 (291)\ttotal: 2.09s\tremaining: 5.05s\n",
            "294:\tlearn: 658329.8801072\ttest: 770596.5821797\tbest: 770387.8995589 (291)\ttotal: 2.11s\tremaining: 5.04s\n",
            "296:\tlearn: 657413.1374475\ttest: 770489.3188981\tbest: 770387.8995589 (291)\ttotal: 2.12s\tremaining: 5.02s\n",
            "298:\tlearn: 656430.7059467\ttest: 770385.5747247\tbest: 770385.5747247 (298)\ttotal: 2.13s\tremaining: 5s\n",
            "300:\tlearn: 654949.9389756\ttest: 769714.9451103\tbest: 769714.9451103 (300)\ttotal: 2.15s\tremaining: 4.99s\n",
            "302:\tlearn: 654124.8426279\ttest: 769379.3624868\tbest: 769379.3624868 (302)\ttotal: 2.16s\tremaining: 4.97s\n",
            "304:\tlearn: 652877.9057404\ttest: 768627.9668406\tbest: 768627.9668406 (304)\ttotal: 2.17s\tremaining: 4.96s\n",
            "306:\tlearn: 651931.4411106\ttest: 768251.9263705\tbest: 768251.9263705 (306)\ttotal: 2.19s\tremaining: 4.94s\n",
            "308:\tlearn: 650809.6148924\ttest: 767990.7683326\tbest: 767990.7683326 (308)\ttotal: 2.2s\tremaining: 4.92s\n",
            "310:\tlearn: 649911.1434214\ttest: 767434.8670018\tbest: 767434.8670018 (310)\ttotal: 2.21s\tremaining: 4.91s\n",
            "312:\tlearn: 649000.6403854\ttest: 767321.0876942\tbest: 767179.8063924 (311)\ttotal: 2.23s\tremaining: 4.89s\n",
            "314:\tlearn: 648060.2916949\ttest: 766952.9616887\tbest: 766952.9616887 (314)\ttotal: 2.24s\tremaining: 4.88s\n",
            "316:\tlearn: 647147.9038669\ttest: 766504.2851304\tbest: 766504.2851304 (316)\ttotal: 2.25s\tremaining: 4.86s\n",
            "318:\tlearn: 646244.8824275\ttest: 765899.0158256\tbest: 765899.0158256 (318)\ttotal: 2.27s\tremaining: 4.84s\n",
            "320:\tlearn: 645805.9387539\ttest: 765910.3067632\tbest: 765787.5754323 (319)\ttotal: 2.29s\tremaining: 4.84s\n",
            "322:\tlearn: 645182.9387955\ttest: 765701.2072577\tbest: 765701.2072577 (322)\ttotal: 2.3s\tremaining: 4.82s\n",
            "324:\tlearn: 644183.5605867\ttest: 765143.6892756\tbest: 765143.6892756 (324)\ttotal: 2.31s\tremaining: 4.81s\n",
            "326:\tlearn: 643285.6351804\ttest: 764710.6907866\tbest: 764710.6907866 (326)\ttotal: 2.33s\tremaining: 4.79s\n",
            "328:\tlearn: 642774.2201298\ttest: 764564.5939207\tbest: 764564.5939207 (328)\ttotal: 2.34s\tremaining: 4.77s\n",
            "330:\tlearn: 642129.8620689\ttest: 764595.0355006\tbest: 764564.5939207 (328)\ttotal: 2.35s\tremaining: 4.76s\n",
            "332:\tlearn: 641177.8656706\ttest: 764275.6010332\tbest: 764275.6010332 (332)\ttotal: 2.37s\tremaining: 4.74s\n",
            "334:\tlearn: 640139.1265797\ttest: 763731.2565993\tbest: 763731.2565993 (334)\ttotal: 2.38s\tremaining: 4.72s\n",
            "336:\tlearn: 638601.4614412\ttest: 763601.2158889\tbest: 763562.9423109 (335)\ttotal: 2.39s\tremaining: 4.71s\n",
            "338:\tlearn: 637793.7443528\ttest: 763507.0096267\tbest: 763507.0096267 (338)\ttotal: 2.41s\tremaining: 4.7s\n",
            "340:\tlearn: 636691.2014209\ttest: 763177.2101803\tbest: 763177.2101803 (340)\ttotal: 2.42s\tremaining: 4.68s\n",
            "342:\tlearn: 635995.2060783\ttest: 762837.0155803\tbest: 762837.0155803 (342)\ttotal: 2.44s\tremaining: 4.67s\n",
            "344:\tlearn: 635247.3228118\ttest: 762563.3937457\tbest: 762563.3937457 (344)\ttotal: 2.45s\tremaining: 4.65s\n",
            "346:\tlearn: 634194.9146613\ttest: 762163.3428787\tbest: 762098.7268370 (345)\ttotal: 2.46s\tremaining: 4.64s\n",
            "348:\tlearn: 633553.8456779\ttest: 762158.6437724\tbest: 762098.7268370 (345)\ttotal: 2.48s\tremaining: 4.62s\n",
            "350:\tlearn: 633154.8386472\ttest: 762047.0111649\tbest: 762047.0111649 (350)\ttotal: 2.5s\tremaining: 4.61s\n",
            "352:\tlearn: 632687.2769546\ttest: 762109.4771355\tbest: 762047.0111649 (350)\ttotal: 2.51s\tremaining: 4.6s\n",
            "354:\tlearn: 631889.1200642\ttest: 761837.3338694\tbest: 761837.3338694 (354)\ttotal: 2.52s\tremaining: 4.58s\n",
            "356:\tlearn: 631244.2627523\ttest: 762118.2029868\tbest: 761836.6221000 (355)\ttotal: 2.53s\tremaining: 4.57s\n",
            "358:\tlearn: 630192.4566469\ttest: 761557.0131656\tbest: 761557.0131656 (358)\ttotal: 2.56s\tremaining: 4.57s\n",
            "360:\tlearn: 629453.9569666\ttest: 761077.3920304\tbest: 761077.3920304 (360)\ttotal: 2.57s\tremaining: 4.56s\n",
            "362:\tlearn: 628562.8286865\ttest: 760853.1543851\tbest: 760853.1543851 (362)\ttotal: 2.59s\tremaining: 4.54s\n",
            "364:\tlearn: 627945.8854831\ttest: 760548.3598093\tbest: 760548.3598093 (364)\ttotal: 2.6s\tremaining: 4.52s\n",
            "366:\tlearn: 627156.4417647\ttest: 760422.1253447\tbest: 760422.1253447 (366)\ttotal: 2.62s\tremaining: 4.51s\n",
            "368:\tlearn: 626499.6371867\ttest: 760273.7135099\tbest: 760273.7135099 (368)\ttotal: 2.63s\tremaining: 4.5s\n",
            "370:\tlearn: 625378.8752550\ttest: 759888.6555891\tbest: 759888.6555891 (370)\ttotal: 2.64s\tremaining: 4.48s\n",
            "372:\tlearn: 624441.7674812\ttest: 758763.5342111\tbest: 758763.5342111 (372)\ttotal: 2.65s\tremaining: 4.46s\n",
            "374:\tlearn: 623495.4294352\ttest: 758567.4486006\tbest: 758567.4486006 (374)\ttotal: 2.67s\tremaining: 4.45s\n",
            "376:\tlearn: 622515.6383066\ttest: 758492.1957197\tbest: 758415.4471805 (375)\ttotal: 2.68s\tremaining: 4.43s\n",
            "378:\tlearn: 621761.2536545\ttest: 758646.5035729\tbest: 758415.4471805 (375)\ttotal: 2.7s\tremaining: 4.42s\n",
            "380:\tlearn: 620844.8984023\ttest: 758655.2407147\tbest: 758415.4471805 (375)\ttotal: 2.71s\tremaining: 4.41s\n",
            "382:\tlearn: 619789.3864387\ttest: 758393.8901480\tbest: 758393.8901480 (382)\ttotal: 2.73s\tremaining: 4.39s\n",
            "384:\tlearn: 618944.3506970\ttest: 758333.1500297\tbest: 758333.1500297 (384)\ttotal: 2.75s\tremaining: 4.39s\n",
            "386:\tlearn: 618337.2018221\ttest: 758256.9144867\tbest: 758256.9144867 (386)\ttotal: 2.76s\tremaining: 4.37s\n",
            "388:\tlearn: 617511.1516128\ttest: 757991.8483878\tbest: 757991.8483878 (388)\ttotal: 2.77s\tremaining: 4.35s\n",
            "390:\tlearn: 616724.9394644\ttest: 757525.4793213\tbest: 757525.4793213 (390)\ttotal: 2.79s\tremaining: 4.34s\n",
            "392:\tlearn: 615628.0184210\ttest: 757200.5015119\tbest: 757200.5015119 (392)\ttotal: 2.8s\tremaining: 4.32s\n",
            "394:\tlearn: 614977.8147094\ttest: 757126.9695256\tbest: 757087.2938120 (393)\ttotal: 2.81s\tremaining: 4.31s\n",
            "396:\tlearn: 614257.3122491\ttest: 756978.6856276\tbest: 756978.6856276 (396)\ttotal: 2.83s\tremaining: 4.29s\n",
            "398:\tlearn: 613578.8500679\ttest: 756861.5777724\tbest: 756861.5777724 (398)\ttotal: 2.84s\tremaining: 4.28s\n",
            "400:\tlearn: 612995.7149545\ttest: 756697.8208376\tbest: 756603.1851233 (399)\ttotal: 2.85s\tremaining: 4.26s\n",
            "402:\tlearn: 611995.7774282\ttest: 756700.6300541\tbest: 756603.1851233 (399)\ttotal: 2.87s\tremaining: 4.25s\n",
            "404:\tlearn: 611478.7458237\ttest: 756598.0849807\tbest: 756577.0087422 (403)\ttotal: 2.88s\tremaining: 4.23s\n",
            "406:\tlearn: 610496.6053248\ttest: 756635.0893951\tbest: 756577.0087422 (403)\ttotal: 2.89s\tremaining: 4.22s\n",
            "408:\tlearn: 609896.1896249\ttest: 756798.7878471\tbest: 756577.0087422 (403)\ttotal: 2.91s\tremaining: 4.21s\n",
            "410:\tlearn: 608889.6050182\ttest: 757025.7409900\tbest: 756577.0087422 (403)\ttotal: 2.93s\tremaining: 4.19s\n",
            "412:\tlearn: 608273.9582750\ttest: 757186.0691415\tbest: 756577.0087422 (403)\ttotal: 2.94s\tremaining: 4.18s\n",
            "414:\tlearn: 607493.2773986\ttest: 756985.5689364\tbest: 756577.0087422 (403)\ttotal: 2.95s\tremaining: 4.16s\n",
            "416:\tlearn: 606702.0888859\ttest: 756952.5349692\tbest: 756577.0087422 (403)\ttotal: 2.97s\tremaining: 4.15s\n",
            "418:\tlearn: 606024.5696355\ttest: 757062.3962007\tbest: 756577.0087422 (403)\ttotal: 2.98s\tremaining: 4.13s\n",
            "420:\tlearn: 605354.2079409\ttest: 757020.8461592\tbest: 756577.0087422 (403)\ttotal: 3s\tremaining: 4.12s\n",
            "422:\tlearn: 604883.6915845\ttest: 756927.5784900\tbest: 756577.0087422 (403)\ttotal: 3.01s\tremaining: 4.1s\n",
            "424:\tlearn: 604218.0877417\ttest: 757060.4968511\tbest: 756577.0087422 (403)\ttotal: 3.02s\tremaining: 4.09s\n",
            "426:\tlearn: 603440.7536956\ttest: 756707.5743166\tbest: 756577.0087422 (403)\ttotal: 3.03s\tremaining: 4.07s\n",
            "428:\tlearn: 602549.0464031\ttest: 756462.1517853\tbest: 756462.1517853 (428)\ttotal: 3.05s\tremaining: 4.06s\n",
            "430:\tlearn: 601812.7544185\ttest: 756287.1796273\tbest: 756287.1796273 (430)\ttotal: 3.06s\tremaining: 4.04s\n",
            "432:\tlearn: 601493.2018993\ttest: 756252.1476678\tbest: 756252.1476678 (432)\ttotal: 3.07s\tremaining: 4.02s\n",
            "434:\tlearn: 600923.0142914\ttest: 756267.0129967\tbest: 756252.1476678 (432)\ttotal: 3.1s\tremaining: 4.03s\n",
            "436:\tlearn: 600429.7258459\ttest: 756195.8672256\tbest: 756195.8672256 (436)\ttotal: 3.13s\tremaining: 4.03s\n",
            "438:\tlearn: 599869.5606578\ttest: 756107.4054417\tbest: 756072.0127792 (437)\ttotal: 3.14s\tremaining: 4.01s\n",
            "440:\tlearn: 599073.1612071\ttest: 755797.4952766\tbest: 755797.4952766 (440)\ttotal: 3.15s\tremaining: 4s\n",
            "442:\tlearn: 598132.4735544\ttest: 755719.7768224\tbest: 755642.6183320 (441)\ttotal: 3.17s\tremaining: 3.98s\n",
            "444:\tlearn: 597250.4052998\ttest: 755427.5589520\tbest: 755427.5589520 (444)\ttotal: 3.18s\tremaining: 3.97s\n",
            "446:\tlearn: 596424.6512659\ttest: 755100.8039014\tbest: 755100.8039014 (446)\ttotal: 3.2s\tremaining: 3.95s\n",
            "448:\tlearn: 595544.4583093\ttest: 755083.3070757\tbest: 755083.3070757 (448)\ttotal: 3.21s\tremaining: 3.94s\n",
            "450:\tlearn: 594710.6331577\ttest: 755017.5531040\tbest: 755017.5531040 (450)\ttotal: 3.23s\tremaining: 3.93s\n",
            "452:\tlearn: 594034.4325968\ttest: 754859.0290882\tbest: 754859.0290882 (452)\ttotal: 3.24s\tremaining: 3.91s\n",
            "454:\tlearn: 593255.4272955\ttest: 754932.6695737\tbest: 754782.9481062 (453)\ttotal: 3.25s\tremaining: 3.9s\n",
            "456:\tlearn: 592666.9497554\ttest: 754810.1646694\tbest: 754707.3791445 (455)\ttotal: 3.27s\tremaining: 3.88s\n",
            "458:\tlearn: 591737.7847162\ttest: 754272.9441209\tbest: 754272.9441209 (458)\ttotal: 3.28s\tremaining: 3.87s\n",
            "460:\tlearn: 591111.0579406\ttest: 754127.4874619\tbest: 754102.8557872 (459)\ttotal: 3.29s\tremaining: 3.85s\n",
            "462:\tlearn: 590435.1087856\ttest: 754215.5546270\tbest: 754102.8557872 (459)\ttotal: 3.31s\tremaining: 3.84s\n",
            "464:\tlearn: 589986.3175226\ttest: 754113.2661017\tbest: 754102.8557872 (459)\ttotal: 3.32s\tremaining: 3.82s\n",
            "466:\tlearn: 589500.8231303\ttest: 754040.4268576\tbest: 753951.4625416 (465)\ttotal: 3.34s\tremaining: 3.81s\n",
            "468:\tlearn: 589306.2899880\ttest: 754040.8977380\tbest: 753951.4625416 (465)\ttotal: 3.35s\tremaining: 3.79s\n",
            "470:\tlearn: 588736.1465389\ttest: 754075.2231641\tbest: 753951.4625416 (465)\ttotal: 3.37s\tremaining: 3.78s\n",
            "472:\tlearn: 588059.6375098\ttest: 754149.4568317\tbest: 753951.4625416 (465)\ttotal: 3.38s\tremaining: 3.77s\n",
            "474:\tlearn: 587233.3264136\ttest: 754278.2143519\tbest: 753951.4625416 (465)\ttotal: 3.39s\tremaining: 3.75s\n",
            "476:\tlearn: 586885.2072035\ttest: 754264.7649660\tbest: 753951.4625416 (465)\ttotal: 3.4s\tremaining: 3.73s\n",
            "478:\tlearn: 585853.1359511\ttest: 754092.5820007\tbest: 753951.4625416 (465)\ttotal: 3.42s\tremaining: 3.72s\n",
            "480:\tlearn: 585205.4728432\ttest: 753878.0684964\tbest: 753878.0684964 (480)\ttotal: 3.43s\tremaining: 3.7s\n",
            "482:\tlearn: 584435.9489303\ttest: 753653.8334659\tbest: 753653.8334659 (482)\ttotal: 3.45s\tremaining: 3.69s\n",
            "484:\tlearn: 583881.8667133\ttest: 753346.4810353\tbest: 753346.4810353 (484)\ttotal: 3.46s\tremaining: 3.67s\n",
            "486:\tlearn: 583366.2773910\ttest: 753054.2854195\tbest: 753054.2854195 (486)\ttotal: 3.47s\tremaining: 3.66s\n",
            "488:\tlearn: 582665.4893680\ttest: 752882.9361567\tbest: 752882.9361567 (488)\ttotal: 3.49s\tremaining: 3.64s\n",
            "490:\tlearn: 582162.4942041\ttest: 752716.7791896\tbest: 752667.0149181 (489)\ttotal: 3.5s\tremaining: 3.63s\n",
            "492:\tlearn: 581707.0549463\ttest: 752732.7140812\tbest: 752667.0149181 (489)\ttotal: 3.51s\tremaining: 3.61s\n",
            "494:\tlearn: 580919.5073949\ttest: 752289.8079806\tbest: 752289.8079806 (494)\ttotal: 3.52s\tremaining: 3.59s\n",
            "496:\tlearn: 580498.4021937\ttest: 752344.3410425\tbest: 752289.8079806 (494)\ttotal: 3.55s\tremaining: 3.6s\n",
            "498:\tlearn: 579716.8633954\ttest: 752164.1070447\tbest: 752152.4601219 (497)\ttotal: 3.57s\tremaining: 3.58s\n",
            "500:\tlearn: 578766.4704241\ttest: 752248.0549309\tbest: 752152.4601219 (497)\ttotal: 3.58s\tremaining: 3.57s\n",
            "502:\tlearn: 578040.2910273\ttest: 752013.8914367\tbest: 751956.4086913 (501)\ttotal: 3.6s\tremaining: 3.55s\n",
            "504:\tlearn: 577439.9577195\ttest: 751614.6255764\tbest: 751614.6255764 (504)\ttotal: 3.61s\tremaining: 3.54s\n",
            "506:\tlearn: 576995.1735822\ttest: 751583.4093914\tbest: 751498.4681414 (505)\ttotal: 3.62s\tremaining: 3.52s\n",
            "508:\tlearn: 576291.6746981\ttest: 751498.7600724\tbest: 751424.8773676 (507)\ttotal: 3.64s\tremaining: 3.51s\n",
            "510:\tlearn: 575797.5845769\ttest: 751617.8227724\tbest: 751424.8773676 (507)\ttotal: 3.65s\tremaining: 3.5s\n",
            "512:\tlearn: 574927.5277267\ttest: 751497.8601876\tbest: 751424.8773676 (507)\ttotal: 3.67s\tremaining: 3.48s\n",
            "514:\tlearn: 574398.7045369\ttest: 751517.5834722\tbest: 751424.8773676 (507)\ttotal: 3.68s\tremaining: 3.46s\n",
            "516:\tlearn: 573697.0770162\ttest: 751417.4614507\tbest: 751417.4614507 (516)\ttotal: 3.69s\tremaining: 3.45s\n",
            "518:\tlearn: 572915.7216328\ttest: 750887.2244125\tbest: 750887.2244125 (518)\ttotal: 3.71s\tremaining: 3.43s\n",
            "520:\tlearn: 571869.8907254\ttest: 750875.9982067\tbest: 750875.9982067 (520)\ttotal: 3.72s\tremaining: 3.42s\n",
            "522:\tlearn: 571307.6866438\ttest: 750850.9056243\tbest: 750850.9056243 (522)\ttotal: 3.73s\tremaining: 3.4s\n",
            "524:\tlearn: 570594.2089855\ttest: 750503.2252691\tbest: 750503.2252691 (524)\ttotal: 3.75s\tremaining: 3.39s\n",
            "526:\tlearn: 569934.1925589\ttest: 750563.5876631\tbest: 750456.7147366 (525)\ttotal: 3.77s\tremaining: 3.38s\n",
            "528:\tlearn: 569440.5916522\ttest: 750620.2271414\tbest: 750456.7147366 (525)\ttotal: 3.78s\tremaining: 3.36s\n",
            "530:\tlearn: 568522.4322275\ttest: 750357.1515690\tbest: 750180.8888291 (529)\ttotal: 3.79s\tremaining: 3.35s\n",
            "532:\tlearn: 567802.4609367\ttest: 750006.2291563\tbest: 750006.2291563 (532)\ttotal: 3.81s\tremaining: 3.33s\n",
            "534:\tlearn: 567116.8042414\ttest: 749813.9245821\tbest: 749813.9245821 (534)\ttotal: 3.82s\tremaining: 3.32s\n",
            "536:\tlearn: 566882.9845986\ttest: 749907.5067011\tbest: 749813.9245821 (534)\ttotal: 3.83s\tremaining: 3.31s\n",
            "538:\tlearn: 566342.0620814\ttest: 749792.9105155\tbest: 749792.9105155 (538)\ttotal: 3.85s\tremaining: 3.29s\n",
            "540:\tlearn: 565613.7214193\ttest: 749569.6925948\tbest: 749569.6925948 (540)\ttotal: 3.86s\tremaining: 3.27s\n",
            "542:\tlearn: 565226.3941433\ttest: 749471.5477952\tbest: 749415.5179137 (541)\ttotal: 3.87s\tremaining: 3.26s\n",
            "544:\tlearn: 564677.8740749\ttest: 749812.5630311\tbest: 749415.5179137 (541)\ttotal: 3.89s\tremaining: 3.25s\n",
            "546:\tlearn: 563875.8293483\ttest: 749488.4686269\tbest: 749415.5179137 (541)\ttotal: 3.9s\tremaining: 3.23s\n",
            "548:\tlearn: 563468.3960950\ttest: 749729.2246676\tbest: 749415.5179137 (541)\ttotal: 3.92s\tremaining: 3.22s\n",
            "550:\tlearn: 562585.2716744\ttest: 749198.3587481\tbest: 749060.0058414 (549)\ttotal: 3.93s\tremaining: 3.2s\n",
            "552:\tlearn: 561754.7987510\ttest: 749098.7023182\tbest: 748888.4731619 (551)\ttotal: 3.94s\tremaining: 3.19s\n",
            "554:\tlearn: 560852.5353840\ttest: 749056.2607482\tbest: 748888.4731619 (551)\ttotal: 3.96s\tremaining: 3.18s\n",
            "556:\tlearn: 560344.8098439\ttest: 748921.1949938\tbest: 748888.4731619 (551)\ttotal: 3.97s\tremaining: 3.16s\n",
            "558:\tlearn: 559679.2434577\ttest: 748939.9601103\tbest: 748888.4731619 (551)\ttotal: 3.99s\tremaining: 3.15s\n",
            "560:\tlearn: 558856.1182790\ttest: 748917.6553327\tbest: 748888.4731619 (551)\ttotal: 4s\tremaining: 3.13s\n",
            "562:\tlearn: 558292.2234087\ttest: 748770.9158135\tbest: 748770.9158135 (562)\ttotal: 4.01s\tremaining: 3.12s\n",
            "564:\tlearn: 557813.2208549\ttest: 748970.7263736\tbest: 748770.9158135 (562)\ttotal: 4.03s\tremaining: 3.1s\n",
            "566:\tlearn: 557083.4134683\ttest: 749450.6284706\tbest: 748770.9158135 (562)\ttotal: 4.04s\tremaining: 3.09s\n",
            "568:\tlearn: 556504.4104726\ttest: 749334.3525281\tbest: 748770.9158135 (562)\ttotal: 4.05s\tremaining: 3.07s\n",
            "570:\tlearn: 555808.5515859\ttest: 749152.8268277\tbest: 748770.9158135 (562)\ttotal: 4.07s\tremaining: 3.06s\n",
            "572:\tlearn: 555097.7383387\ttest: 749115.1665468\tbest: 748770.9158135 (562)\ttotal: 4.08s\tremaining: 3.04s\n",
            "574:\tlearn: 554196.2663650\ttest: 748968.7145941\tbest: 748770.9158135 (562)\ttotal: 4.09s\tremaining: 3.03s\n",
            "576:\tlearn: 553622.1502790\ttest: 749071.0783889\tbest: 748770.9158135 (562)\ttotal: 4.11s\tremaining: 3.01s\n",
            "578:\tlearn: 553021.6996571\ttest: 749019.7221685\tbest: 748770.9158135 (562)\ttotal: 4.12s\tremaining: 3s\n",
            "580:\tlearn: 552360.7349336\ttest: 749174.3017272\tbest: 748770.9158135 (562)\ttotal: 4.14s\tremaining: 2.99s\n",
            "582:\tlearn: 551575.2714251\ttest: 749117.0579918\tbest: 748770.9158135 (562)\ttotal: 4.19s\tremaining: 3s\n",
            "584:\tlearn: 551166.2014030\ttest: 748911.5120386\tbest: 748770.9158135 (562)\ttotal: 4.21s\tremaining: 2.98s\n",
            "586:\tlearn: 550607.3357821\ttest: 748981.1244242\tbest: 748770.9158135 (562)\ttotal: 4.23s\tremaining: 2.98s\n",
            "588:\tlearn: 549974.5967335\ttest: 748901.2082499\tbest: 748770.9158135 (562)\ttotal: 4.27s\tremaining: 2.98s\n",
            "590:\tlearn: 549434.1388117\ttest: 749031.8588764\tbest: 748770.9158135 (562)\ttotal: 4.31s\tremaining: 2.98s\n",
            "592:\tlearn: 548761.5405366\ttest: 749015.6140201\tbest: 748770.9158135 (562)\ttotal: 4.33s\tremaining: 2.97s\n",
            "594:\tlearn: 548475.7673700\ttest: 748961.3856023\tbest: 748770.9158135 (562)\ttotal: 4.37s\tremaining: 2.97s\n",
            "596:\tlearn: 547800.5146875\ttest: 748918.5968460\tbest: 748770.9158135 (562)\ttotal: 4.4s\tremaining: 2.97s\n",
            "598:\tlearn: 547262.3791943\ttest: 748894.9684235\tbest: 748770.9158135 (562)\ttotal: 4.45s\tremaining: 2.98s\n",
            "600:\tlearn: 546586.1562586\ttest: 748705.5776527\tbest: 748705.5776527 (600)\ttotal: 4.5s\tremaining: 2.98s\n",
            "602:\tlearn: 545976.5541886\ttest: 748379.9896409\tbest: 748379.9896409 (602)\ttotal: 4.53s\tremaining: 2.98s\n",
            "604:\tlearn: 545310.4616740\ttest: 748265.2472585\tbest: 748217.6500472 (603)\ttotal: 4.58s\tremaining: 2.99s\n",
            "606:\tlearn: 544626.6286925\ttest: 748116.6056023\tbest: 748116.6056023 (606)\ttotal: 4.61s\tremaining: 2.98s\n",
            "608:\tlearn: 544035.5205044\ttest: 747873.0021608\tbest: 747873.0021608 (608)\ttotal: 4.64s\tremaining: 2.98s\n",
            "610:\tlearn: 543259.9206016\ttest: 747796.5096385\tbest: 747796.5096385 (610)\ttotal: 4.68s\tremaining: 2.98s\n",
            "612:\tlearn: 542713.8746534\ttest: 747756.8116293\tbest: 747755.6918147 (611)\ttotal: 4.72s\tremaining: 2.98s\n",
            "614:\tlearn: 542070.3352946\ttest: 747235.2717122\tbest: 747235.2717122 (614)\ttotal: 4.74s\tremaining: 2.96s\n",
            "616:\tlearn: 541654.7052331\ttest: 747360.8497146\tbest: 747235.2717122 (614)\ttotal: 4.75s\tremaining: 2.95s\n",
            "618:\tlearn: 541030.8499648\ttest: 747276.5863211\tbest: 747235.2717122 (614)\ttotal: 4.78s\tremaining: 2.94s\n",
            "620:\tlearn: 540363.9026921\ttest: 747268.5025713\tbest: 747235.2717122 (614)\ttotal: 4.84s\tremaining: 2.95s\n",
            "622:\tlearn: 539922.9210653\ttest: 747234.9551140\tbest: 747234.9551140 (622)\ttotal: 4.86s\tremaining: 2.94s\n",
            "624:\tlearn: 539136.9792896\ttest: 747567.0213321\tbest: 747234.9551140 (622)\ttotal: 4.9s\tremaining: 2.94s\n",
            "626:\tlearn: 538455.6105852\ttest: 747293.7627307\tbest: 747234.9551140 (622)\ttotal: 4.98s\tremaining: 2.96s\n",
            "628:\tlearn: 537656.2643495\ttest: 747145.7756817\tbest: 747145.7756817 (628)\ttotal: 5.03s\tremaining: 2.97s\n",
            "630:\tlearn: 537220.8330131\ttest: 746988.4736906\tbest: 746988.4736906 (630)\ttotal: 5.07s\tremaining: 2.96s\n",
            "632:\tlearn: 536404.0889637\ttest: 746869.6942605\tbest: 746776.8653191 (631)\ttotal: 5.1s\tremaining: 2.96s\n",
            "634:\tlearn: 535930.4966832\ttest: 746780.5862214\tbest: 746776.8653191 (631)\ttotal: 5.12s\tremaining: 2.94s\n",
            "636:\tlearn: 535638.7364741\ttest: 746867.0006388\tbest: 746776.8653191 (631)\ttotal: 5.18s\tremaining: 2.95s\n",
            "638:\tlearn: 535197.5288484\ttest: 746833.6995974\tbest: 746776.8653191 (631)\ttotal: 5.21s\tremaining: 2.94s\n",
            "640:\tlearn: 534488.9077395\ttest: 746663.1234651\tbest: 746663.1234651 (640)\ttotal: 5.25s\tremaining: 2.94s\n",
            "642:\tlearn: 534089.9708358\ttest: 746537.3833180\tbest: 746537.3833180 (642)\ttotal: 5.29s\tremaining: 2.94s\n",
            "644:\tlearn: 533642.1401782\ttest: 746492.3949043\tbest: 746492.3949043 (644)\ttotal: 5.33s\tremaining: 2.93s\n",
            "646:\tlearn: 533060.2439895\ttest: 746583.0184270\tbest: 746492.3949043 (644)\ttotal: 5.35s\tremaining: 2.92s\n",
            "648:\tlearn: 532528.0127012\ttest: 746641.6924337\tbest: 746492.3949043 (644)\ttotal: 5.37s\tremaining: 2.9s\n",
            "650:\tlearn: 531961.2627869\ttest: 746452.7256699\tbest: 746452.7256699 (650)\ttotal: 5.38s\tremaining: 2.89s\n",
            "652:\tlearn: 531370.6057292\ttest: 746574.0900051\tbest: 746452.7256699 (650)\ttotal: 5.4s\tremaining: 2.87s\n",
            "654:\tlearn: 530831.6878511\ttest: 746500.4069427\tbest: 746452.7256699 (650)\ttotal: 5.43s\tremaining: 2.86s\n",
            "656:\tlearn: 530285.2691422\ttest: 746374.8071732\tbest: 746374.8071732 (656)\ttotal: 5.46s\tremaining: 2.85s\n",
            "658:\tlearn: 529413.5141772\ttest: 746564.2689893\tbest: 746374.8071732 (656)\ttotal: 5.47s\tremaining: 2.83s\n",
            "660:\tlearn: 528910.3853023\ttest: 746433.6018174\tbest: 746374.8071732 (656)\ttotal: 5.49s\tremaining: 2.82s\n",
            "662:\tlearn: 528571.7751229\ttest: 746451.5749300\tbest: 746374.8071732 (656)\ttotal: 5.51s\tremaining: 2.8s\n",
            "664:\tlearn: 528161.0496537\ttest: 746504.4564973\tbest: 746374.8071732 (656)\ttotal: 5.55s\tremaining: 2.79s\n",
            "666:\tlearn: 527910.5978903\ttest: 746508.2112164\tbest: 746374.8071732 (656)\ttotal: 5.58s\tremaining: 2.78s\n",
            "668:\tlearn: 527479.1917462\ttest: 746495.9516748\tbest: 746374.8071732 (656)\ttotal: 5.61s\tremaining: 2.78s\n",
            "670:\tlearn: 526886.4119272\ttest: 746777.5170550\tbest: 746374.8071732 (656)\ttotal: 5.66s\tremaining: 2.77s\n",
            "672:\tlearn: 526368.5962263\ttest: 746641.1834633\tbest: 746374.8071732 (656)\ttotal: 5.69s\tremaining: 2.76s\n",
            "674:\tlearn: 526024.8531000\ttest: 746347.3033913\tbest: 746347.3033913 (674)\ttotal: 5.72s\tremaining: 2.76s\n",
            "676:\tlearn: 525331.9541067\ttest: 746472.7534026\tbest: 746347.3033913 (674)\ttotal: 5.76s\tremaining: 2.75s\n",
            "678:\tlearn: 524758.1075591\ttest: 746515.6903240\tbest: 746347.3033913 (674)\ttotal: 5.8s\tremaining: 2.74s\n",
            "680:\tlearn: 524435.3938818\ttest: 746477.9990415\tbest: 746347.3033913 (674)\ttotal: 5.82s\tremaining: 2.73s\n",
            "682:\tlearn: 523954.0015206\ttest: 746426.7773450\tbest: 746347.3033913 (674)\ttotal: 5.86s\tremaining: 2.72s\n",
            "684:\tlearn: 523481.8730045\ttest: 746232.7285872\tbest: 746232.7285872 (684)\ttotal: 5.88s\tremaining: 2.71s\n",
            "686:\tlearn: 522716.9105749\ttest: 746401.4699401\tbest: 746232.7285872 (684)\ttotal: 5.91s\tremaining: 2.69s\n",
            "688:\tlearn: 522235.2544154\ttest: 746379.4870649\tbest: 746232.7285872 (684)\ttotal: 5.94s\tremaining: 2.68s\n",
            "690:\tlearn: 521713.5811951\ttest: 746360.6018757\tbest: 746232.7285872 (684)\ttotal: 5.97s\tremaining: 2.67s\n",
            "692:\tlearn: 521181.6489354\ttest: 746556.8448879\tbest: 746232.7285872 (684)\ttotal: 6s\tremaining: 2.66s\n",
            "694:\tlearn: 520709.2507958\ttest: 746432.0870058\tbest: 746232.7285872 (684)\ttotal: 6.06s\tremaining: 2.66s\n",
            "696:\tlearn: 519952.3752233\ttest: 746420.2161780\tbest: 746232.7285872 (684)\ttotal: 6.11s\tremaining: 2.65s\n",
            "698:\tlearn: 519647.0905477\ttest: 746175.3602833\tbest: 746175.3602833 (698)\ttotal: 6.16s\tremaining: 2.65s\n",
            "700:\tlearn: 519238.2556564\ttest: 746104.4384455\tbest: 746104.4384455 (700)\ttotal: 6.21s\tremaining: 2.65s\n",
            "702:\tlearn: 518797.0644484\ttest: 745973.1772354\tbest: 745973.1772354 (702)\ttotal: 6.26s\tremaining: 2.64s\n",
            "704:\tlearn: 518483.1061614\ttest: 745941.3151059\tbest: 745925.6241477 (703)\ttotal: 6.29s\tremaining: 2.63s\n",
            "706:\tlearn: 518253.3008852\ttest: 746088.6865611\tbest: 745925.6241477 (703)\ttotal: 6.31s\tremaining: 2.61s\n",
            "708:\tlearn: 517588.3797476\ttest: 746073.1514092\tbest: 745925.6241477 (703)\ttotal: 6.35s\tremaining: 2.6s\n",
            "710:\tlearn: 517239.6249719\ttest: 745876.7976520\tbest: 745876.7976520 (710)\ttotal: 6.39s\tremaining: 2.6s\n",
            "712:\tlearn: 516549.0194566\ttest: 745780.6445977\tbest: 745780.6445977 (712)\ttotal: 6.41s\tremaining: 2.58s\n",
            "714:\tlearn: 516042.0912750\ttest: 745787.9395404\tbest: 745736.2864677 (713)\ttotal: 6.43s\tremaining: 2.56s\n",
            "716:\tlearn: 515640.4010291\ttest: 745848.8077996\tbest: 745736.2864677 (713)\ttotal: 6.45s\tremaining: 2.54s\n",
            "718:\tlearn: 515138.6317432\ttest: 745526.4746494\tbest: 745526.4746494 (718)\ttotal: 6.46s\tremaining: 2.52s\n",
            "720:\tlearn: 514694.4886751\ttest: 745620.3465842\tbest: 745441.8185258 (719)\ttotal: 6.47s\tremaining: 2.5s\n",
            "722:\tlearn: 514126.8721052\ttest: 745574.5426196\tbest: 745441.8185258 (719)\ttotal: 6.49s\tremaining: 2.49s\n",
            "724:\tlearn: 513685.6488741\ttest: 745600.4421703\tbest: 745441.8185258 (719)\ttotal: 6.51s\tremaining: 2.47s\n",
            "726:\tlearn: 513301.1853112\ttest: 745445.1991428\tbest: 745441.8185258 (719)\ttotal: 6.52s\tremaining: 2.45s\n",
            "728:\tlearn: 512794.9066171\ttest: 745492.2855357\tbest: 745409.5570500 (727)\ttotal: 6.55s\tremaining: 2.44s\n",
            "730:\tlearn: 512400.7756830\ttest: 745390.1073336\tbest: 745390.1073336 (730)\ttotal: 6.56s\tremaining: 2.42s\n",
            "732:\tlearn: 511958.7772869\ttest: 745200.5491691\tbest: 745200.5491691 (732)\ttotal: 6.58s\tremaining: 2.4s\n",
            "734:\tlearn: 511430.7736835\ttest: 745206.0805079\tbest: 745138.5064672 (733)\ttotal: 6.59s\tremaining: 2.38s\n",
            "736:\tlearn: 510587.5432762\ttest: 744757.4107426\tbest: 744757.4107426 (736)\ttotal: 6.6s\tremaining: 2.36s\n",
            "738:\tlearn: 510152.9056585\ttest: 744962.5013242\tbest: 744757.4107426 (736)\ttotal: 6.62s\tremaining: 2.34s\n",
            "740:\tlearn: 509711.4432469\ttest: 744774.7948041\tbest: 744757.4107426 (736)\ttotal: 6.63s\tremaining: 2.32s\n",
            "742:\tlearn: 509016.5295236\ttest: 744599.1849996\tbest: 744599.1849996 (742)\ttotal: 6.64s\tremaining: 2.3s\n",
            "744:\tlearn: 508320.7427054\ttest: 744093.3568125\tbest: 744093.3568125 (744)\ttotal: 6.66s\tremaining: 2.28s\n",
            "746:\tlearn: 507784.8036361\ttest: 743963.2002814\tbest: 743940.7955102 (745)\ttotal: 6.67s\tremaining: 2.26s\n",
            "748:\tlearn: 507437.6722946\ttest: 743908.1395082\tbest: 743908.1395082 (748)\ttotal: 6.68s\tremaining: 2.24s\n",
            "750:\tlearn: 506781.1245492\ttest: 743632.2579389\tbest: 743632.2579389 (750)\ttotal: 6.7s\tremaining: 2.22s\n",
            "752:\tlearn: 506192.8275876\ttest: 743540.5175813\tbest: 743540.5175813 (752)\ttotal: 6.72s\tremaining: 2.2s\n",
            "754:\tlearn: 505571.2344173\ttest: 743713.1226121\tbest: 743540.5175813 (752)\ttotal: 6.73s\tremaining: 2.18s\n",
            "756:\tlearn: 504766.9309032\ttest: 743460.2964976\tbest: 743460.2964976 (756)\ttotal: 6.75s\tremaining: 2.17s\n",
            "758:\tlearn: 504160.1365421\ttest: 743267.5794005\tbest: 743267.5794005 (758)\ttotal: 6.76s\tremaining: 2.15s\n",
            "760:\tlearn: 503733.2375497\ttest: 743254.9177615\tbest: 743254.9177615 (760)\ttotal: 6.77s\tremaining: 2.13s\n",
            "762:\tlearn: 503187.6517785\ttest: 743309.5656486\tbest: 743218.9190707 (761)\ttotal: 6.79s\tremaining: 2.11s\n",
            "764:\tlearn: 502387.4703672\ttest: 743376.9445885\tbest: 743218.9190707 (761)\ttotal: 6.8s\tremaining: 2.09s\n",
            "766:\tlearn: 501883.9653756\ttest: 743303.3517849\tbest: 743218.9190707 (761)\ttotal: 6.81s\tremaining: 2.07s\n",
            "768:\tlearn: 501334.8443922\ttest: 743617.3690379\tbest: 743218.9190707 (761)\ttotal: 6.83s\tremaining: 2.05s\n",
            "770:\tlearn: 500810.5902515\ttest: 743690.8965751\tbest: 743218.9190707 (761)\ttotal: 6.84s\tremaining: 2.03s\n",
            "772:\tlearn: 500229.3959041\ttest: 743545.6707474\tbest: 743218.9190707 (761)\ttotal: 6.85s\tremaining: 2.01s\n",
            "774:\tlearn: 499730.8719787\ttest: 743477.0011631\tbest: 743218.9190707 (761)\ttotal: 6.87s\tremaining: 1.99s\n",
            "776:\tlearn: 499131.0959497\ttest: 743660.2985782\tbest: 743218.9190707 (761)\ttotal: 6.88s\tremaining: 1.97s\n",
            "778:\tlearn: 498754.9822463\ttest: 743629.6561327\tbest: 743218.9190707 (761)\ttotal: 6.89s\tremaining: 1.96s\n",
            "780:\tlearn: 498232.1320104\ttest: 743602.5528470\tbest: 743218.9190707 (761)\ttotal: 6.91s\tremaining: 1.94s\n",
            "782:\tlearn: 497691.9673150\ttest: 743539.8709450\tbest: 743218.9190707 (761)\ttotal: 6.92s\tremaining: 1.92s\n",
            "784:\tlearn: 497151.7535240\ttest: 743510.3620521\tbest: 743218.9190707 (761)\ttotal: 6.94s\tremaining: 1.9s\n",
            "786:\tlearn: 496629.8136200\ttest: 743494.4055738\tbest: 743218.9190707 (761)\ttotal: 6.95s\tremaining: 1.88s\n",
            "788:\tlearn: 496096.4869964\ttest: 743602.1296813\tbest: 743218.9190707 (761)\ttotal: 6.97s\tremaining: 1.86s\n",
            "790:\tlearn: 495536.6316000\ttest: 743368.3650426\tbest: 743218.9190707 (761)\ttotal: 6.98s\tremaining: 1.84s\n",
            "792:\tlearn: 495199.6462147\ttest: 743327.9302472\tbest: 743218.9190707 (761)\ttotal: 6.99s\tremaining: 1.82s\n",
            "794:\tlearn: 494892.5356734\ttest: 743156.2161426\tbest: 743156.2161426 (794)\ttotal: 7s\tremaining: 1.81s\n",
            "796:\tlearn: 494336.7392867\ttest: 743128.2283759\tbest: 743128.2283759 (796)\ttotal: 7.02s\tremaining: 1.79s\n",
            "798:\tlearn: 493918.8152896\ttest: 743288.1294287\tbest: 743128.2283759 (796)\ttotal: 7.03s\tremaining: 1.77s\n",
            "800:\tlearn: 493339.5852287\ttest: 743282.4616520\tbest: 743128.2283759 (796)\ttotal: 7.05s\tremaining: 1.75s\n",
            "802:\tlearn: 492805.9298613\ttest: 743020.0915377\tbest: 743020.0915377 (802)\ttotal: 7.06s\tremaining: 1.73s\n",
            "804:\tlearn: 492334.4576403\ttest: 742996.5146920\tbest: 742996.5146920 (804)\ttotal: 7.07s\tremaining: 1.71s\n",
            "806:\tlearn: 491905.5950267\ttest: 743019.4832208\tbest: 742996.5146920 (804)\ttotal: 7.09s\tremaining: 1.7s\n",
            "808:\tlearn: 491543.4035162\ttest: 742739.6261863\tbest: 742739.6261863 (808)\ttotal: 7.1s\tremaining: 1.68s\n",
            "810:\tlearn: 491120.9488401\ttest: 742898.8216722\tbest: 742739.6261863 (808)\ttotal: 7.11s\tremaining: 1.66s\n",
            "812:\tlearn: 490600.2567346\ttest: 742826.2468424\tbest: 742739.6261863 (808)\ttotal: 7.13s\tremaining: 1.64s\n",
            "814:\tlearn: 490300.1195453\ttest: 742922.1135353\tbest: 742739.6261863 (808)\ttotal: 7.14s\tremaining: 1.62s\n",
            "816:\tlearn: 489778.1025661\ttest: 742978.3341445\tbest: 742739.6261863 (808)\ttotal: 7.16s\tremaining: 1.6s\n",
            "818:\tlearn: 489378.0260902\ttest: 742923.0759221\tbest: 742739.6261863 (808)\ttotal: 7.17s\tremaining: 1.58s\n",
            "820:\tlearn: 489061.2964774\ttest: 742869.4672993\tbest: 742739.6261863 (808)\ttotal: 7.19s\tremaining: 1.57s\n",
            "822:\tlearn: 488622.0496974\ttest: 742709.3681476\tbest: 742709.3681476 (822)\ttotal: 7.2s\tremaining: 1.55s\n",
            "824:\tlearn: 488211.1042771\ttest: 742428.3756691\tbest: 742428.3756691 (824)\ttotal: 7.21s\tremaining: 1.53s\n",
            "826:\tlearn: 487614.5351314\ttest: 742399.7220756\tbest: 742399.7220756 (826)\ttotal: 7.23s\tremaining: 1.51s\n",
            "828:\tlearn: 487345.0538239\ttest: 742288.7516899\tbest: 742288.7516899 (828)\ttotal: 7.24s\tremaining: 1.49s\n",
            "830:\tlearn: 486843.1377412\ttest: 742341.6049514\tbest: 742203.2212287 (829)\ttotal: 7.25s\tremaining: 1.48s\n",
            "832:\tlearn: 486475.5198761\ttest: 742216.4975857\tbest: 742203.2212287 (829)\ttotal: 7.27s\tremaining: 1.46s\n",
            "834:\tlearn: 486091.8317525\ttest: 742232.0011236\tbest: 742203.2212287 (829)\ttotal: 7.28s\tremaining: 1.44s\n",
            "836:\tlearn: 485451.7684982\ttest: 742037.2532527\tbest: 742037.2532527 (836)\ttotal: 7.3s\tremaining: 1.42s\n",
            "838:\tlearn: 484867.4854753\ttest: 741821.1434730\tbest: 741821.1434730 (838)\ttotal: 7.31s\tremaining: 1.4s\n",
            "840:\tlearn: 484351.1061087\ttest: 741561.6179256\tbest: 741561.6179256 (840)\ttotal: 7.33s\tremaining: 1.39s\n",
            "842:\tlearn: 483784.8776401\ttest: 741561.6905508\tbest: 741533.7568370 (841)\ttotal: 7.34s\tremaining: 1.37s\n",
            "844:\tlearn: 483365.9190552\ttest: 741583.2996592\tbest: 741533.7568370 (841)\ttotal: 7.36s\tremaining: 1.35s\n",
            "846:\tlearn: 482975.7055664\ttest: 741634.1619331\tbest: 741533.7568370 (841)\ttotal: 7.37s\tremaining: 1.33s\n",
            "848:\tlearn: 482539.2623930\ttest: 741484.3233313\tbest: 741484.3233313 (848)\ttotal: 7.39s\tremaining: 1.31s\n",
            "850:\tlearn: 482159.5609970\ttest: 741521.4661713\tbest: 741484.3233313 (848)\ttotal: 7.4s\tremaining: 1.29s\n",
            "852:\tlearn: 481658.1963891\ttest: 741437.6099177\tbest: 741437.6099177 (852)\ttotal: 7.41s\tremaining: 1.28s\n",
            "854:\tlearn: 481162.2568445\ttest: 741149.5601975\tbest: 741149.5601975 (854)\ttotal: 7.43s\tremaining: 1.26s\n",
            "856:\tlearn: 480522.8735731\ttest: 741092.2317462\tbest: 741092.2317462 (856)\ttotal: 7.44s\tremaining: 1.24s\n",
            "858:\tlearn: 479977.6734815\ttest: 740962.3764186\tbest: 740962.3764186 (858)\ttotal: 7.45s\tremaining: 1.22s\n",
            "860:\tlearn: 479505.6376612\ttest: 740676.6496512\tbest: 740676.6496512 (860)\ttotal: 7.47s\tremaining: 1.21s\n",
            "862:\tlearn: 479078.3464863\ttest: 740675.3795715\tbest: 740675.3795715 (862)\ttotal: 7.48s\tremaining: 1.19s\n",
            "864:\tlearn: 478542.4466470\ttest: 740703.9316821\tbest: 740635.3397469 (863)\ttotal: 7.5s\tremaining: 1.17s\n",
            "866:\tlearn: 478015.3638556\ttest: 740624.5111240\tbest: 740624.5111240 (866)\ttotal: 7.51s\tremaining: 1.15s\n",
            "868:\tlearn: 477681.6910163\ttest: 740624.4915078\tbest: 740624.4915078 (868)\ttotal: 7.53s\tremaining: 1.14s\n",
            "870:\tlearn: 477185.1070236\ttest: 740771.7832885\tbest: 740624.4915078 (868)\ttotal: 7.56s\tremaining: 1.12s\n",
            "872:\tlearn: 476796.5277883\ttest: 740706.4581041\tbest: 740624.0274430 (871)\ttotal: 7.57s\tremaining: 1.1s\n",
            "874:\tlearn: 476392.7193539\ttest: 740746.4877525\tbest: 740624.0274430 (871)\ttotal: 7.58s\tremaining: 1.08s\n",
            "876:\tlearn: 476025.4678991\ttest: 740748.5873901\tbest: 740624.0274430 (871)\ttotal: 7.6s\tremaining: 1.06s\n",
            "878:\tlearn: 475678.1224223\ttest: 740740.1920676\tbest: 740624.0274430 (871)\ttotal: 7.61s\tremaining: 1.05s\n",
            "880:\tlearn: 475191.0815198\ttest: 740806.7163005\tbest: 740624.0274430 (871)\ttotal: 7.62s\tremaining: 1.03s\n",
            "882:\tlearn: 474707.0920429\ttest: 740862.0635913\tbest: 740624.0274430 (871)\ttotal: 7.64s\tremaining: 1.01s\n",
            "884:\tlearn: 474380.6446257\ttest: 740733.7374541\tbest: 740624.0274430 (871)\ttotal: 7.66s\tremaining: 995ms\n",
            "886:\tlearn: 473876.4361723\ttest: 740696.3660037\tbest: 740624.0274430 (871)\ttotal: 7.67s\tremaining: 977ms\n",
            "888:\tlearn: 473503.7918869\ttest: 740587.9915706\tbest: 740587.9915706 (888)\ttotal: 7.68s\tremaining: 960ms\n",
            "890:\tlearn: 473084.6233481\ttest: 740542.1794114\tbest: 740542.1794114 (890)\ttotal: 7.7s\tremaining: 942ms\n",
            "892:\tlearn: 472447.0434108\ttest: 740534.9632284\tbest: 740517.9014027 (891)\ttotal: 7.71s\tremaining: 924ms\n",
            "894:\tlearn: 471950.5389905\ttest: 740480.5342958\tbest: 740462.2452929 (893)\ttotal: 7.73s\tremaining: 906ms\n",
            "896:\tlearn: 471479.5101206\ttest: 740594.1282714\tbest: 740462.2452929 (893)\ttotal: 7.74s\tremaining: 889ms\n",
            "898:\tlearn: 470925.8339175\ttest: 740520.0279138\tbest: 740462.2452929 (893)\ttotal: 7.76s\tremaining: 872ms\n",
            "900:\tlearn: 470472.2008091\ttest: 740371.0607892\tbest: 740360.7735549 (899)\ttotal: 7.78s\tremaining: 855ms\n",
            "902:\tlearn: 470054.1048635\ttest: 740205.5697214\tbest: 740205.5697214 (902)\ttotal: 7.79s\tremaining: 837ms\n",
            "904:\tlearn: 469714.7776307\ttest: 740191.3535828\tbest: 740153.5922860 (903)\ttotal: 7.82s\tremaining: 821ms\n",
            "906:\tlearn: 469241.3051654\ttest: 740068.8296497\tbest: 740068.8296497 (906)\ttotal: 7.83s\tremaining: 803ms\n",
            "908:\tlearn: 468753.6402966\ttest: 740061.7171163\tbest: 740061.7171163 (908)\ttotal: 7.85s\tremaining: 786ms\n",
            "910:\tlearn: 468327.3658832\ttest: 740023.3694831\tbest: 739999.6395459 (909)\ttotal: 7.86s\tremaining: 768ms\n",
            "912:\tlearn: 467870.8290338\ttest: 740000.1994348\tbest: 739999.6395459 (909)\ttotal: 7.88s\tremaining: 751ms\n",
            "914:\tlearn: 467571.2311860\ttest: 739913.1224814\tbest: 739913.1224814 (914)\ttotal: 7.89s\tremaining: 733ms\n",
            "916:\tlearn: 467004.0343374\ttest: 739744.9295537\tbest: 739744.9295537 (916)\ttotal: 7.9s\tremaining: 715ms\n",
            "918:\tlearn: 466518.7225522\ttest: 739850.2973218\tbest: 739744.9295537 (916)\ttotal: 7.92s\tremaining: 698ms\n",
            "920:\tlearn: 465920.9796405\ttest: 739985.9426290\tbest: 739744.9295537 (916)\ttotal: 7.93s\tremaining: 680ms\n",
            "922:\tlearn: 465569.3013377\ttest: 739989.4026007\tbest: 739744.9295537 (916)\ttotal: 7.94s\tremaining: 663ms\n",
            "924:\tlearn: 465180.1124219\ttest: 739847.5941758\tbest: 739744.9295537 (916)\ttotal: 7.96s\tremaining: 645ms\n",
            "926:\tlearn: 464694.2234497\ttest: 739966.1992236\tbest: 739744.9295537 (916)\ttotal: 7.98s\tremaining: 628ms\n",
            "928:\tlearn: 464337.0321333\ttest: 739991.0622166\tbest: 739744.9295537 (916)\ttotal: 7.99s\tremaining: 611ms\n",
            "930:\tlearn: 463936.5230655\ttest: 739962.8495528\tbest: 739744.9295537 (916)\ttotal: 8.01s\tremaining: 593ms\n",
            "932:\tlearn: 463452.9109898\ttest: 739931.4812186\tbest: 739744.9295537 (916)\ttotal: 8.02s\tremaining: 576ms\n",
            "934:\tlearn: 463060.8903617\ttest: 739888.8783727\tbest: 739744.9295537 (916)\ttotal: 8.04s\tremaining: 559ms\n",
            "936:\tlearn: 462766.4360030\ttest: 740060.6847295\tbest: 739744.9295537 (916)\ttotal: 8.05s\tremaining: 541ms\n",
            "938:\tlearn: 462370.4841570\ttest: 740200.3110791\tbest: 739744.9295537 (916)\ttotal: 8.06s\tremaining: 524ms\n",
            "940:\tlearn: 462045.1623903\ttest: 740280.7537423\tbest: 739744.9295537 (916)\ttotal: 8.07s\tremaining: 506ms\n",
            "942:\tlearn: 461678.6272933\ttest: 740383.3656617\tbest: 739744.9295537 (916)\ttotal: 8.09s\tremaining: 489ms\n",
            "944:\tlearn: 461306.5524596\ttest: 740417.8112853\tbest: 739744.9295537 (916)\ttotal: 8.1s\tremaining: 472ms\n",
            "946:\tlearn: 460879.6581908\ttest: 740445.2791463\tbest: 739744.9295537 (916)\ttotal: 8.12s\tremaining: 454ms\n",
            "948:\tlearn: 460555.5893248\ttest: 740297.7405411\tbest: 739744.9295537 (916)\ttotal: 8.13s\tremaining: 437ms\n",
            "950:\tlearn: 460102.3609304\ttest: 740074.1586921\tbest: 739744.9295537 (916)\ttotal: 8.14s\tremaining: 420ms\n",
            "952:\tlearn: 459653.2673589\ttest: 740047.4786192\tbest: 739744.9295537 (916)\ttotal: 8.16s\tremaining: 402ms\n",
            "954:\tlearn: 459312.0786969\ttest: 739970.6195480\tbest: 739744.9295537 (916)\ttotal: 8.17s\tremaining: 385ms\n",
            "956:\tlearn: 458930.0826928\ttest: 740024.1698863\tbest: 739744.9295537 (916)\ttotal: 8.19s\tremaining: 368ms\n",
            "958:\tlearn: 458595.9610773\ttest: 740005.9645227\tbest: 739744.9295537 (916)\ttotal: 8.2s\tremaining: 351ms\n",
            "960:\tlearn: 458250.7920566\ttest: 739884.1807695\tbest: 739744.9295537 (916)\ttotal: 8.21s\tremaining: 333ms\n",
            "962:\tlearn: 457928.0412015\ttest: 739825.6318261\tbest: 739744.9295537 (916)\ttotal: 8.23s\tremaining: 316ms\n",
            "964:\tlearn: 457564.9759526\ttest: 739784.6536807\tbest: 739744.9295537 (916)\ttotal: 8.24s\tremaining: 299ms\n",
            "966:\tlearn: 457187.2629032\ttest: 739731.7962504\tbest: 739720.3229855 (965)\ttotal: 8.26s\tremaining: 282ms\n",
            "968:\tlearn: 456775.2490314\ttest: 739760.9435285\tbest: 739720.3229855 (965)\ttotal: 8.27s\tremaining: 265ms\n",
            "970:\tlearn: 456399.8900351\ttest: 739781.7646463\tbest: 739720.3229855 (965)\ttotal: 8.29s\tremaining: 248ms\n",
            "972:\tlearn: 456007.2776224\ttest: 739825.0541241\tbest: 739720.3229855 (965)\ttotal: 8.3s\tremaining: 230ms\n",
            "974:\tlearn: 455525.8990755\ttest: 739517.0092216\tbest: 739517.0092216 (974)\ttotal: 8.31s\tremaining: 213ms\n",
            "976:\tlearn: 455039.9669035\ttest: 739470.5472376\tbest: 739453.5125992 (975)\ttotal: 8.33s\tremaining: 196ms\n",
            "978:\tlearn: 454550.2373979\ttest: 739121.8080648\tbest: 739121.8080648 (978)\ttotal: 8.34s\tremaining: 179ms\n",
            "980:\tlearn: 454033.3501613\ttest: 739058.1795167\tbest: 739058.1795167 (980)\ttotal: 8.36s\tremaining: 162ms\n",
            "982:\tlearn: 453625.2410357\ttest: 739162.0002334\tbest: 739058.1795167 (980)\ttotal: 8.37s\tremaining: 145ms\n",
            "984:\tlearn: 453270.4264459\ttest: 739055.8018369\tbest: 739055.8018369 (984)\ttotal: 8.38s\tremaining: 128ms\n",
            "986:\tlearn: 452874.4623856\ttest: 739182.1292280\tbest: 738985.1141299 (985)\ttotal: 8.4s\tremaining: 111ms\n",
            "988:\tlearn: 452562.4931913\ttest: 739306.3867645\tbest: 738985.1141299 (985)\ttotal: 8.41s\tremaining: 93.6ms\n",
            "990:\tlearn: 452067.1928620\ttest: 739006.4356259\tbest: 738985.1141299 (985)\ttotal: 8.43s\tremaining: 76.5ms\n",
            "992:\tlearn: 451699.0202082\ttest: 739100.8481514\tbest: 738985.1141299 (985)\ttotal: 8.44s\tremaining: 59.5ms\n",
            "994:\tlearn: 451428.9372571\ttest: 739036.3564717\tbest: 738985.1141299 (985)\ttotal: 8.46s\tremaining: 42.5ms\n",
            "996:\tlearn: 451071.4513297\ttest: 738971.3678833\tbest: 738927.5089872 (995)\ttotal: 8.47s\tremaining: 25.5ms\n",
            "998:\tlearn: 450729.7783370\ttest: 738990.5220499\tbest: 738927.5089872 (995)\ttotal: 8.48s\tremaining: 8.49ms\n",
            "999:\tlearn: 450654.2854404\ttest: 739042.2433864\tbest: 738927.5089872 (995)\ttotal: 8.49s\tremaining: 0us\n",
            "\n",
            "bestTest = 738927.509\n",
            "bestIteration = 995\n",
            "\n",
            "Shrink model to first 996 iterations.\n"
          ]
        },
        {
          "output_type": "execute_result",
          "data": {
            "text/plain": [
              "<catboost.core.CatBoostRegressor at 0x7f226469cd50>"
            ]
          },
          "metadata": {},
          "execution_count": 133
        }
      ]
    },
    {
      "cell_type": "markdown",
      "source": [
        "Получим предсказания и выведем метрики"
      ],
      "metadata": {
        "id": "RY0BXiQcorT4"
      }
    },
    {
      "cell_type": "code",
      "source": [
        "y_pred = clf.predict(X_test)\n",
        "metrics = get_metrics(list(y_test), y_pred, X_test, name='Catboost', delta=1)\n",
        "\n",
        "y_pred_train = clf.predict(X_train_)\n",
        "metrics = metrics.append(\n",
        "    get_metrics(list(y_train_), y_pred_train, X_train, name='Catboost_train', delta=1))\n",
        "\n",
        "metrics"
      ],
      "metadata": {
        "colab": {
          "base_uri": "https://localhost:8080/",
          "height": 112
        },
        "outputId": "f99d1592-0aa1-4ec8-f6dd-8e87b38b871d",
        "id": "pRivst2korT4"
      },
      "execution_count": null,
      "outputs": [
        {
          "output_type": "execute_result",
          "data": {
            "text/plain": [
              "            model            MAE           MSE           RMSE     RMSLE  \\\n",
              "0        Catboost  542949.614212  5.839870e+11  764190.420739  0.130897   \n",
              "0  Catboost_train  334550.639198  2.055827e+11  453412.275597  0.085228   \n",
              "\n",
              "   R2 adjusted     Huber_loss     MPE_%     MAPE_%     WAPE_%  \n",
              "0     0.821311  271474.307106 -1.495851  10.189926  10.346628  \n",
              "0     0.936721  167274.819599 -0.931526   6.544831   6.371893  "
            ],
            "text/html": [
              "\n",
              "  <div id=\"df-921db9a9-2d70-4b88-ae33-3b057e3bd14b\">\n",
              "    <div class=\"colab-df-container\">\n",
              "      <div>\n",
              "<style scoped>\n",
              "    .dataframe tbody tr th:only-of-type {\n",
              "        vertical-align: middle;\n",
              "    }\n",
              "\n",
              "    .dataframe tbody tr th {\n",
              "        vertical-align: top;\n",
              "    }\n",
              "\n",
              "    .dataframe thead th {\n",
              "        text-align: right;\n",
              "    }\n",
              "</style>\n",
              "<table border=\"1\" class=\"dataframe\">\n",
              "  <thead>\n",
              "    <tr style=\"text-align: right;\">\n",
              "      <th></th>\n",
              "      <th>model</th>\n",
              "      <th>MAE</th>\n",
              "      <th>MSE</th>\n",
              "      <th>RMSE</th>\n",
              "      <th>RMSLE</th>\n",
              "      <th>R2 adjusted</th>\n",
              "      <th>Huber_loss</th>\n",
              "      <th>MPE_%</th>\n",
              "      <th>MAPE_%</th>\n",
              "      <th>WAPE_%</th>\n",
              "    </tr>\n",
              "  </thead>\n",
              "  <tbody>\n",
              "    <tr>\n",
              "      <th>0</th>\n",
              "      <td>Catboost</td>\n",
              "      <td>542949.614212</td>\n",
              "      <td>5.839870e+11</td>\n",
              "      <td>764190.420739</td>\n",
              "      <td>0.130897</td>\n",
              "      <td>0.821311</td>\n",
              "      <td>271474.307106</td>\n",
              "      <td>-1.495851</td>\n",
              "      <td>10.189926</td>\n",
              "      <td>10.346628</td>\n",
              "    </tr>\n",
              "    <tr>\n",
              "      <th>0</th>\n",
              "      <td>Catboost_train</td>\n",
              "      <td>334550.639198</td>\n",
              "      <td>2.055827e+11</td>\n",
              "      <td>453412.275597</td>\n",
              "      <td>0.085228</td>\n",
              "      <td>0.936721</td>\n",
              "      <td>167274.819599</td>\n",
              "      <td>-0.931526</td>\n",
              "      <td>6.544831</td>\n",
              "      <td>6.371893</td>\n",
              "    </tr>\n",
              "  </tbody>\n",
              "</table>\n",
              "</div>\n",
              "      <button class=\"colab-df-convert\" onclick=\"convertToInteractive('df-921db9a9-2d70-4b88-ae33-3b057e3bd14b')\"\n",
              "              title=\"Convert this dataframe to an interactive table.\"\n",
              "              style=\"display:none;\">\n",
              "        \n",
              "  <svg xmlns=\"http://www.w3.org/2000/svg\" height=\"24px\"viewBox=\"0 0 24 24\"\n",
              "       width=\"24px\">\n",
              "    <path d=\"M0 0h24v24H0V0z\" fill=\"none\"/>\n",
              "    <path d=\"M18.56 5.44l.94 2.06.94-2.06 2.06-.94-2.06-.94-.94-2.06-.94 2.06-2.06.94zm-11 1L8.5 8.5l.94-2.06 2.06-.94-2.06-.94L8.5 2.5l-.94 2.06-2.06.94zm10 10l.94 2.06.94-2.06 2.06-.94-2.06-.94-.94-2.06-.94 2.06-2.06.94z\"/><path d=\"M17.41 7.96l-1.37-1.37c-.4-.4-.92-.59-1.43-.59-.52 0-1.04.2-1.43.59L10.3 9.45l-7.72 7.72c-.78.78-.78 2.05 0 2.83L4 21.41c.39.39.9.59 1.41.59.51 0 1.02-.2 1.41-.59l7.78-7.78 2.81-2.81c.8-.78.8-2.07 0-2.86zM5.41 20L4 18.59l7.72-7.72 1.47 1.35L5.41 20z\"/>\n",
              "  </svg>\n",
              "      </button>\n",
              "      \n",
              "  <style>\n",
              "    .colab-df-container {\n",
              "      display:flex;\n",
              "      flex-wrap:wrap;\n",
              "      gap: 12px;\n",
              "    }\n",
              "\n",
              "    .colab-df-convert {\n",
              "      background-color: #E8F0FE;\n",
              "      border: none;\n",
              "      border-radius: 50%;\n",
              "      cursor: pointer;\n",
              "      display: none;\n",
              "      fill: #1967D2;\n",
              "      height: 32px;\n",
              "      padding: 0 0 0 0;\n",
              "      width: 32px;\n",
              "    }\n",
              "\n",
              "    .colab-df-convert:hover {\n",
              "      background-color: #E2EBFA;\n",
              "      box-shadow: 0px 1px 2px rgba(60, 64, 67, 0.3), 0px 1px 3px 1px rgba(60, 64, 67, 0.15);\n",
              "      fill: #174EA6;\n",
              "    }\n",
              "\n",
              "    [theme=dark] .colab-df-convert {\n",
              "      background-color: #3B4455;\n",
              "      fill: #D2E3FC;\n",
              "    }\n",
              "\n",
              "    [theme=dark] .colab-df-convert:hover {\n",
              "      background-color: #434B5C;\n",
              "      box-shadow: 0px 1px 3px 1px rgba(0, 0, 0, 0.15);\n",
              "      filter: drop-shadow(0px 1px 2px rgba(0, 0, 0, 0.3));\n",
              "      fill: #FFFFFF;\n",
              "    }\n",
              "  </style>\n",
              "\n",
              "      <script>\n",
              "        const buttonEl =\n",
              "          document.querySelector('#df-921db9a9-2d70-4b88-ae33-3b057e3bd14b button.colab-df-convert');\n",
              "        buttonEl.style.display =\n",
              "          google.colab.kernel.accessAllowed ? 'block' : 'none';\n",
              "\n",
              "        async function convertToInteractive(key) {\n",
              "          const element = document.querySelector('#df-921db9a9-2d70-4b88-ae33-3b057e3bd14b');\n",
              "          const dataTable =\n",
              "            await google.colab.kernel.invokeFunction('convertToInteractive',\n",
              "                                                     [key], {});\n",
              "          if (!dataTable) return;\n",
              "\n",
              "          const docLinkHtml = 'Like what you see? Visit the ' +\n",
              "            '<a target=\"_blank\" href=https://colab.research.google.com/notebooks/data_table.ipynb>data table notebook</a>'\n",
              "            + ' to learn more about interactive tables.';\n",
              "          element.innerHTML = '';\n",
              "          dataTable['output_type'] = 'display_data';\n",
              "          await google.colab.output.renderOutput(dataTable, element);\n",
              "          const docLink = document.createElement('div');\n",
              "          docLink.innerHTML = docLinkHtml;\n",
              "          element.appendChild(docLink);\n",
              "        }\n",
              "      </script>\n",
              "    </div>\n",
              "  </div>\n",
              "  "
            ]
          },
          "metadata": {},
          "execution_count": 134
        }
      ]
    },
    {
      "cell_type": "code",
      "source": [
        "imp = clf.get_feature_importance(Pool(data=data, cat_features=cat_features))\n",
        "imp"
      ],
      "metadata": {
        "colab": {
          "base_uri": "https://localhost:8080/"
        },
        "outputId": "b4503ab9-43e1-4da8-9c9f-d4fa033645a7",
        "id": "bFVuSZ6co82b"
      },
      "execution_count": null,
      "outputs": [
        {
          "output_type": "execute_result",
          "data": {
            "text/plain": [
              "array([ 3.13105966, 35.44990239,  1.96939744,  3.23205036,  5.20888142,\n",
              "        2.54627389,  1.47570459,  0.        ,  0.        ,  8.70652834,\n",
              "        0.44635558,  0.        ,  6.5761512 ,  9.00641259,  0.4222613 ,\n",
              "        1.39863615,  0.58399284,  1.67731545,  3.06433768,  1.32693482,\n",
              "        3.38412657,  0.71360807,  1.45322115,  2.67624662,  1.8362752 ,\n",
              "        3.71432671])"
            ]
          },
          "metadata": {},
          "execution_count": 135
        }
      ]
    },
    {
      "cell_type": "code",
      "source": [
        "plt.scatter(feature_cols.columns, imp)\n",
        "plt.xticks(rotation=90)\n",
        "plt.title('График зависимости важности признака от признака')\n",
        "plt.grid(True)\n",
        "plt.xlabel('Признак')\n",
        "plt.ylabel('Важность признака');"
      ],
      "metadata": {
        "colab": {
          "base_uri": "https://localhost:8080/",
          "height": 623
        },
        "outputId": "f9d5fb0e-caa8-4961-8094-8cb81dd88ae5",
        "id": "mvcJJx59o82b"
      },
      "execution_count": null,
      "outputs": [
        {
          "output_type": "display_data",
          "data": {
            "text/plain": [
              "<Figure size 720x576 with 1 Axes>"
            ],
            "image/png": "[encoded data removed]"
          },
          "metadata": {
            "needs_background": "light"
          }
        }
      ]
    },
    {
      "cell_type": "code",
      "source": [
        "(pd.Series(clf.feature_importances_, index=feature_cols.columns)\n",
        "   .nlargest(5)\n",
        "   .plot(kind='barh')) ;"
      ],
      "metadata": {
        "colab": {
          "base_uri": "https://localhost:8080/",
          "height": 483
        },
        "outputId": "3d047508-51b3-40ba-f7bd-df2b4eb663cb",
        "id": "DpauQp0so82b"
      },
      "execution_count": null,
      "outputs": [
        {
          "output_type": "display_data",
          "data": {
            "text/plain": [
              "<Figure size 720x576 with 1 Axes>"
            ],
            "image/png": "[encoded data removed]"
          },
          "metadata": {
            "needs_background": "light"
          }
        }
      ]
    },
    {
      "cell_type": "code",
      "source": [
        "explainer = shap.TreeExplainer(clf)\n",
        "shap_values = explainer(X_test)\n",
        "shap.summary_plot(shap_values, X_test, max_display=200)"
      ],
      "metadata": {
        "colab": {
          "base_uri": "https://localhost:8080/",
          "height": 837
        },
        "outputId": "e9feafd6-7d95-4209-d86c-51ef01a85b62",
        "id": "PUWYsTzfo82b"
      },
      "execution_count": null,
      "outputs": [
        {
          "output_type": "display_data",
          "data": {
            "text/plain": [
              "<Figure size 576x828 with 2 Axes>"
            ],
            "image/png": "[encoded data removed]"
          },
          "metadata": {
            "needs_background": "light"
          }
        }
      ]
    },
    {
      "cell_type": "markdown",
      "source": [
        "Видим, что для Питера в целом результаты почти идентичны, добавляется также влияние расстояния до ближайшего аэропорта"
      ],
      "metadata": {
        "id": "HXk3Prm4pTKj"
      }
    },
    {
      "cell_type": "markdown",
      "source": [
        "## Анализ влияния различных параметров на стоимость в центре Санкт-Петербурга"
      ],
      "metadata": {
        "id": "pXkCL5kOpjMo"
      }
    },
    {
      "cell_type": "code",
      "source": [],
      "metadata": {
        "id": "YNddWqVVpQHw"
      },
      "execution_count": null,
      "outputs": []
    },
    {
      "cell_type": "markdown",
      "source": [
        "Просто повторим те же самые шаги для третьего датасета"
      ],
      "metadata": {
        "id": "33FEzBWWpqW4"
      }
    },
    {
      "cell_type": "code",
      "source": [
        "data = df_SP_center.dropna()\n",
        "feature_cols = data.drop(columns = ['last_price'])\n",
        "\n",
        "X_train, X_test, y_train, y_test = train_test_split(feature_cols,\n",
        "                                                    df_SP_center['last_price'],\n",
        "                                                    test_size=0.16,\n",
        "                                                    random_state=10)\n",
        "\n",
        "# Выборки для проверки после каждой итерации обучения\n",
        "X_train_, X_val, y_train_, y_val = train_test_split(X_train,\n",
        "                                                    y_train,\n",
        "                                                    test_size=0.16,\n",
        "                                                    shuffle=True,\n",
        "                                                    random_state=10)\n",
        "eval_set = [(X_val, y_val)]\n",
        "\n",
        "# Категориальные столбцы\n",
        "cat_features = ['locality_name', 'floor_cat']\n",
        "\n",
        "clf = CatBoostRegressor(random_state=10,\\\n",
        "                         cat_features = cat_features)\n",
        "\n",
        "eval_set = [(X_val, y_val)]\n",
        "\n",
        "clf.fit(X_train_,\n",
        "        y_train_,\n",
        "        eval_set=eval_set,\n",
        "        early_stopping_rounds=1,\n",
        "        verbose=2)"
      ],
      "metadata": {
        "colab": {
          "base_uri": "https://localhost:8080/"
        },
        "outputId": "3721a1bd-b3d1-4d12-b44d-04bc31df2fad",
        "id": "tqX3DEc9pqW5"
      },
      "execution_count": null,
      "outputs": [
        {
          "output_type": "stream",
          "name": "stdout",
          "text": [
            "Learning rate set to 0.048763\n",
            "0:\tlearn: 1955916.2370931\ttest: 1867588.7302037\tbest: 1867588.7302037 (0)\ttotal: 3.95ms\tremaining: 3.95s\n",
            "2:\tlearn: 1875700.7446971\ttest: 1795091.3250016\tbest: 1795091.3250016 (2)\ttotal: 14.3ms\tremaining: 4.74s\n",
            "4:\tlearn: 1809725.8094313\ttest: 1740401.3566564\tbest: 1740401.3566564 (4)\ttotal: 41.7ms\tremaining: 8.29s\n",
            "6:\tlearn: 1749807.6601528\ttest: 1690475.4633993\tbest: 1690475.4633993 (6)\ttotal: 55.7ms\tremaining: 7.9s\n",
            "8:\tlearn: 1692518.6961513\ttest: 1641842.8742289\tbest: 1641842.8742289 (8)\ttotal: 63.9ms\tremaining: 7.03s\n",
            "10:\tlearn: 1637838.3804401\ttest: 1591531.5611057\tbest: 1591531.5611057 (10)\ttotal: 75.6ms\tremaining: 6.8s\n",
            "12:\tlearn: 1586098.9970602\ttest: 1542117.6550054\tbest: 1542117.6550054 (12)\ttotal: 85ms\tremaining: 6.45s\n",
            "14:\tlearn: 1542121.6197457\ttest: 1502920.0014291\tbest: 1502920.0014291 (14)\ttotal: 108ms\tremaining: 7.08s\n",
            "16:\tlearn: 1503807.2243688\ttest: 1470274.5032332\tbest: 1470274.5032332 (16)\ttotal: 144ms\tremaining: 8.3s\n",
            "18:\tlearn: 1467640.3950718\ttest: 1440881.3215385\tbest: 1440881.3215385 (18)\ttotal: 162ms\tremaining: 8.37s\n",
            "20:\tlearn: 1438762.8801950\ttest: 1416407.4584896\tbest: 1416407.4584896 (20)\ttotal: 189ms\tremaining: 8.83s\n",
            "22:\tlearn: 1412415.6703938\ttest: 1395600.4519895\tbest: 1395600.4519895 (22)\ttotal: 212ms\tremaining: 8.98s\n",
            "24:\tlearn: 1383193.7973107\ttest: 1372622.8554021\tbest: 1372622.8554021 (24)\ttotal: 236ms\tremaining: 9.19s\n",
            "26:\tlearn: 1355404.4979405\ttest: 1350845.8075700\tbest: 1350845.8075700 (26)\ttotal: 257ms\tremaining: 9.27s\n",
            "28:\tlearn: 1331451.7188117\ttest: 1329549.9249319\tbest: 1329549.9249319 (28)\ttotal: 278ms\tremaining: 9.32s\n",
            "30:\tlearn: 1309091.6148644\ttest: 1312851.5118164\tbest: 1312851.5118164 (30)\ttotal: 301ms\tremaining: 9.39s\n",
            "32:\tlearn: 1291900.6079928\ttest: 1297546.5056600\tbest: 1297546.5056600 (32)\ttotal: 314ms\tremaining: 9.19s\n",
            "34:\tlearn: 1274869.5572879\ttest: 1283235.3179895\tbest: 1283235.3179895 (34)\ttotal: 327ms\tremaining: 9.01s\n",
            "36:\tlearn: 1257758.3643101\ttest: 1272085.7916029\tbest: 1272085.7916029 (36)\ttotal: 336ms\tremaining: 8.76s\n",
            "38:\tlearn: 1240512.3114380\ttest: 1263060.8273035\tbest: 1263060.8273035 (38)\ttotal: 345ms\tremaining: 8.51s\n",
            "40:\tlearn: 1227043.0891971\ttest: 1253095.1867096\tbest: 1253095.1867096 (40)\ttotal: 354ms\tremaining: 8.29s\n",
            "42:\tlearn: 1214434.1766180\ttest: 1244269.5040456\tbest: 1244269.5040456 (42)\ttotal: 363ms\tremaining: 8.08s\n",
            "44:\tlearn: 1201127.4030693\ttest: 1235272.7867023\tbest: 1235272.7867023 (44)\ttotal: 373ms\tremaining: 7.92s\n",
            "46:\tlearn: 1192721.2766240\ttest: 1229059.6212811\tbest: 1229059.6212811 (46)\ttotal: 379ms\tremaining: 7.68s\n",
            "48:\tlearn: 1180859.3763039\ttest: 1221549.5709641\tbest: 1221549.5709641 (48)\ttotal: 391ms\tremaining: 7.59s\n",
            "50:\tlearn: 1169629.7914229\ttest: 1217215.4462412\tbest: 1217215.4462412 (50)\ttotal: 424ms\tremaining: 7.88s\n",
            "52:\tlearn: 1159351.9460022\ttest: 1210834.1705006\tbest: 1210834.1705006 (52)\ttotal: 443ms\tremaining: 7.91s\n",
            "54:\tlearn: 1150540.8481720\ttest: 1204843.4383181\tbest: 1204843.4383181 (54)\ttotal: 465ms\tremaining: 8s\n",
            "56:\tlearn: 1143157.5179833\ttest: 1201556.6024542\tbest: 1201556.6024542 (56)\ttotal: 479ms\tremaining: 7.93s\n",
            "58:\tlearn: 1133369.8876344\ttest: 1195499.8611097\tbest: 1195499.8611097 (58)\ttotal: 494ms\tremaining: 7.88s\n",
            "60:\tlearn: 1126066.2029435\ttest: 1192230.2400149\tbest: 1192230.2400149 (60)\ttotal: 503ms\tremaining: 7.74s\n",
            "62:\tlearn: 1115251.2083537\ttest: 1185803.2312596\tbest: 1185803.2312596 (62)\ttotal: 512ms\tremaining: 7.62s\n",
            "64:\tlearn: 1105782.7803946\ttest: 1180736.2865015\tbest: 1180736.2865015 (64)\ttotal: 521ms\tremaining: 7.5s\n",
            "66:\tlearn: 1099187.2044301\ttest: 1177895.8649727\tbest: 1177895.8649727 (66)\ttotal: 545ms\tremaining: 7.59s\n",
            "68:\tlearn: 1090636.4356758\ttest: 1174959.7087848\tbest: 1174959.7087848 (68)\ttotal: 559ms\tremaining: 7.54s\n",
            "70:\tlearn: 1083142.0981893\ttest: 1170300.0452269\tbest: 1170300.0452269 (70)\ttotal: 575ms\tremaining: 7.52s\n",
            "72:\tlearn: 1073885.6717268\ttest: 1165919.1755941\tbest: 1165919.1755941 (72)\ttotal: 584ms\tremaining: 7.42s\n",
            "74:\tlearn: 1065679.9910682\ttest: 1159814.1139382\tbest: 1159814.1139382 (74)\ttotal: 593ms\tremaining: 7.31s\n",
            "76:\tlearn: 1061665.4170048\ttest: 1159030.5872328\tbest: 1158553.0428417 (75)\ttotal: 602ms\tremaining: 7.21s\n",
            "Stopped by overfitting detector  (1 iterations wait)\n",
            "\n",
            "bestTest = 1158553.043\n",
            "bestIteration = 75\n",
            "\n",
            "Shrink model to first 76 iterations.\n"
          ]
        },
        {
          "output_type": "execute_result",
          "data": {
            "text/plain": [
              "<catboost.core.CatBoostRegressor at 0x7f2260f7eb50>"
            ]
          },
          "metadata": {},
          "execution_count": 142
        }
      ]
    },
    {
      "cell_type": "markdown",
      "source": [
        "Получим предсказания и выведем метрики"
      ],
      "metadata": {
        "id": "ElAT6lt5pqW5"
      }
    },
    {
      "cell_type": "code",
      "source": [
        "y_pred = clf.predict(X_test)\n",
        "metrics = get_metrics(list(y_test), y_pred, X_test, name='Catboost', delta=1)\n",
        "\n",
        "y_pred_train = clf.predict(X_train_)\n",
        "metrics = metrics.append(\n",
        "    get_metrics(list(y_train_), y_pred_train, X_train, name='Catboost_train', delta=1))\n",
        "\n",
        "metrics"
      ],
      "metadata": {
        "colab": {
          "base_uri": "https://localhost:8080/",
          "height": 112
        },
        "outputId": "04216203-8ebb-422a-e400-edf7d29f3f74",
        "id": "L2jAyWwUpqW5"
      },
      "execution_count": null,
      "outputs": [
        {
          "output_type": "execute_result",
          "data": {
            "text/plain": [
              "            model           MAE           MSE          RMSE     RMSLE  \\\n",
              "0        Catboost  1.066247e+06  1.886776e+12  1.373600e+06  0.207400   \n",
              "0  Catboost_train  8.286288e+05  1.135789e+12  1.065734e+06  0.165476   \n",
              "\n",
              "   R2 adjusted     Huber_loss     MPE_%     MAPE_%     WAPE_%  \n",
              "0     0.513933  533123.079731 -5.345497  17.034920  15.660175  \n",
              "0     0.704461  414313.909050 -3.767919  13.318271  12.338008  "
            ],
            "text/html": [
              "\n",
              "  <div id=\"df-2511ad42-0329-4ef8-beb8-2c0de31804c4\">\n",
              "    <div class=\"colab-df-container\">\n",
              "      <div>\n",
              "<style scoped>\n",
              "    .dataframe tbody tr th:only-of-type {\n",
              "        vertical-align: middle;\n",
              "    }\n",
              "\n",
              "    .dataframe tbody tr th {\n",
              "        vertical-align: top;\n",
              "    }\n",
              "\n",
              "    .dataframe thead th {\n",
              "        text-align: right;\n",
              "    }\n",
              "</style>\n",
              "<table border=\"1\" class=\"dataframe\">\n",
              "  <thead>\n",
              "    <tr style=\"text-align: right;\">\n",
              "      <th></th>\n",
              "      <th>model</th>\n",
              "      <th>MAE</th>\n",
              "      <th>MSE</th>\n",
              "      <th>RMSE</th>\n",
              "      <th>RMSLE</th>\n",
              "      <th>R2 adjusted</th>\n",
              "      <th>Huber_loss</th>\n",
              "      <th>MPE_%</th>\n",
              "      <th>MAPE_%</th>\n",
              "      <th>WAPE_%</th>\n",
              "    </tr>\n",
              "  </thead>\n",
              "  <tbody>\n",
              "    <tr>\n",
              "      <th>0</th>\n",
              "      <td>Catboost</td>\n",
              "      <td>1.066247e+06</td>\n",
              "      <td>1.886776e+12</td>\n",
              "      <td>1.373600e+06</td>\n",
              "      <td>0.207400</td>\n",
              "      <td>0.513933</td>\n",
              "      <td>533123.079731</td>\n",
              "      <td>-5.345497</td>\n",
              "      <td>17.034920</td>\n",
              "      <td>15.660175</td>\n",
              "    </tr>\n",
              "    <tr>\n",
              "      <th>0</th>\n",
              "      <td>Catboost_train</td>\n",
              "      <td>8.286288e+05</td>\n",
              "      <td>1.135789e+12</td>\n",
              "      <td>1.065734e+06</td>\n",
              "      <td>0.165476</td>\n",
              "      <td>0.704461</td>\n",
              "      <td>414313.909050</td>\n",
              "      <td>-3.767919</td>\n",
              "      <td>13.318271</td>\n",
              "      <td>12.338008</td>\n",
              "    </tr>\n",
              "  </tbody>\n",
              "</table>\n",
              "</div>\n",
              "      <button class=\"colab-df-convert\" onclick=\"convertToInteractive('df-2511ad42-0329-4ef8-beb8-2c0de31804c4')\"\n",
              "              title=\"Convert this dataframe to an interactive table.\"\n",
              "              style=\"display:none;\">\n",
              "        \n",
              "  <svg xmlns=\"http://www.w3.org/2000/svg\" height=\"24px\"viewBox=\"0 0 24 24\"\n",
              "       width=\"24px\">\n",
              "    <path d=\"M0 0h24v24H0V0z\" fill=\"none\"/>\n",
              "    <path d=\"M18.56 5.44l.94 2.06.94-2.06 2.06-.94-2.06-.94-.94-2.06-.94 2.06-2.06.94zm-11 1L8.5 8.5l.94-2.06 2.06-.94-2.06-.94L8.5 2.5l-.94 2.06-2.06.94zm10 10l.94 2.06.94-2.06 2.06-.94-2.06-.94-.94-2.06-.94 2.06-2.06.94z\"/><path d=\"M17.41 7.96l-1.37-1.37c-.4-.4-.92-.59-1.43-.59-.52 0-1.04.2-1.43.59L10.3 9.45l-7.72 7.72c-.78.78-.78 2.05 0 2.83L4 21.41c.39.39.9.59 1.41.59.51 0 1.02-.2 1.41-.59l7.78-7.78 2.81-2.81c.8-.78.8-2.07 0-2.86zM5.41 20L4 18.59l7.72-7.72 1.47 1.35L5.41 20z\"/>\n",
              "  </svg>\n",
              "      </button>\n",
              "      \n",
              "  <style>\n",
              "    .colab-df-container {\n",
              "      display:flex;\n",
              "      flex-wrap:wrap;\n",
              "      gap: 12px;\n",
              "    }\n",
              "\n",
              "    .colab-df-convert {\n",
              "      background-color: #E8F0FE;\n",
              "      border: none;\n",
              "      border-radius: 50%;\n",
              "      cursor: pointer;\n",
              "      display: none;\n",
              "      fill: #1967D2;\n",
              "      height: 32px;\n",
              "      padding: 0 0 0 0;\n",
              "      width: 32px;\n",
              "    }\n",
              "\n",
              "    .colab-df-convert:hover {\n",
              "      background-color: #E2EBFA;\n",
              "      box-shadow: 0px 1px 2px rgba(60, 64, 67, 0.3), 0px 1px 3px 1px rgba(60, 64, 67, 0.15);\n",
              "      fill: #174EA6;\n",
              "    }\n",
              "\n",
              "    [theme=dark] .colab-df-convert {\n",
              "      background-color: #3B4455;\n",
              "      fill: #D2E3FC;\n",
              "    }\n",
              "\n",
              "    [theme=dark] .colab-df-convert:hover {\n",
              "      background-color: #434B5C;\n",
              "      box-shadow: 0px 1px 3px 1px rgba(0, 0, 0, 0.15);\n",
              "      filter: drop-shadow(0px 1px 2px rgba(0, 0, 0, 0.3));\n",
              "      fill: #FFFFFF;\n",
              "    }\n",
              "  </style>\n",
              "\n",
              "      <script>\n",
              "        const buttonEl =\n",
              "          document.querySelector('#df-2511ad42-0329-4ef8-beb8-2c0de31804c4 button.colab-df-convert');\n",
              "        buttonEl.style.display =\n",
              "          google.colab.kernel.accessAllowed ? 'block' : 'none';\n",
              "\n",
              "        async function convertToInteractive(key) {\n",
              "          const element = document.querySelector('#df-2511ad42-0329-4ef8-beb8-2c0de31804c4');\n",
              "          const dataTable =\n",
              "            await google.colab.kernel.invokeFunction('convertToInteractive',\n",
              "                                                     [key], {});\n",
              "          if (!dataTable) return;\n",
              "\n",
              "          const docLinkHtml = 'Like what you see? Visit the ' +\n",
              "            '<a target=\"_blank\" href=https://colab.research.google.com/notebooks/data_table.ipynb>data table notebook</a>'\n",
              "            + ' to learn more about interactive tables.';\n",
              "          element.innerHTML = '';\n",
              "          dataTable['output_type'] = 'display_data';\n",
              "          await google.colab.output.renderOutput(dataTable, element);\n",
              "          const docLink = document.createElement('div');\n",
              "          docLink.innerHTML = docLinkHtml;\n",
              "          element.appendChild(docLink);\n",
              "        }\n",
              "      </script>\n",
              "    </div>\n",
              "  </div>\n",
              "  "
            ]
          },
          "metadata": {},
          "execution_count": 143
        }
      ]
    },
    {
      "cell_type": "code",
      "source": [
        "imp = clf.get_feature_importance(Pool(data=data, cat_features=cat_features))\n",
        "imp"
      ],
      "metadata": {
        "colab": {
          "base_uri": "https://localhost:8080/"
        },
        "outputId": "a62f1fe4-b296-445f-ce91-2faf2f228e10",
        "id": "9NWvqGQ3pqW5"
      },
      "execution_count": null,
      "outputs": [
        {
          "output_type": "execute_result",
          "data": {
            "text/plain": [
              "array([3.71539997e+00, 4.85721235e+01, 2.71973542e-01, 1.07429398e+00,\n",
              "       7.53134391e+00, 7.16377114e+00, 2.62295370e+00, 1.68540634e-02,\n",
              "       1.37421394e-03, 8.38266838e+00, 1.07983426e+00, 0.00000000e+00,\n",
              "       1.72733907e+00, 1.84470417e+00, 1.02831616e+00, 1.04378598e+00,\n",
              "       7.20259176e-01, 6.01502131e-01, 1.07277974e+00, 5.17759959e-01,\n",
              "       2.16644588e+00, 8.74043312e-01, 1.44919773e+00, 4.40115557e+00,\n",
              "       7.19981682e-01, 1.40013874e+00])"
            ]
          },
          "metadata": {},
          "execution_count": 144
        }
      ]
    },
    {
      "cell_type": "code",
      "source": [
        "plt.scatter(feature_cols.columns, imp)\n",
        "plt.xticks(rotation=90)\n",
        "plt.title('График зависимости важности признака от признака')\n",
        "plt.grid(True)\n",
        "plt.xlabel('Признак')\n",
        "plt.ylabel('Важность признака');"
      ],
      "metadata": {
        "colab": {
          "base_uri": "https://localhost:8080/",
          "height": 623
        },
        "outputId": "366bfdf7-d432-4634-956f-3784201b15dd",
        "id": "hKRUtW8qpqW5"
      },
      "execution_count": null,
      "outputs": [
        {
          "output_type": "display_data",
          "data": {
            "text/plain": [
              "<Figure size 720x576 with 1 Axes>"
            ],
            "image/png": "[encoded data removed]"
          },
          "metadata": {
            "needs_background": "light"
          }
        }
      ]
    },
    {
      "cell_type": "code",
      "source": [
        "(pd.Series(clf.feature_importances_, index=feature_cols.columns)\n",
        "   .nlargest(5)\n",
        "   .plot(kind='barh')) ;"
      ],
      "metadata": {
        "colab": {
          "base_uri": "https://localhost:8080/",
          "height": 483
        },
        "outputId": "6417858f-563d-4f41-bcf5-4e0b5b239a6a",
        "id": "ZowyaafrpqW5"
      },
      "execution_count": null,
      "outputs": [
        {
          "output_type": "display_data",
          "data": {
            "text/plain": [
              "<Figure size 720x576 with 1 Axes>"
            ],
            "image/png": "[encoded data removed]"
          },
          "metadata": {
            "needs_background": "light"
          }
        }
      ]
    },
    {
      "cell_type": "code",
      "source": [
        "explainer = shap.TreeExplainer(clf)\n",
        "shap_values = explainer(X_test)\n",
        "shap.summary_plot(shap_values, X_test, max_display=200)"
      ],
      "metadata": {
        "colab": {
          "base_uri": "https://localhost:8080/",
          "height": 866
        },
        "outputId": "9c1d3016-e859-4f3f-b155-ec9e1253b966",
        "id": "OUFHdtrUpqW6"
      },
      "execution_count": null,
      "outputs": [
        {
          "output_type": "display_data",
          "data": {
            "text/plain": [
              "<Figure size 576x856.8 with 2 Axes>"
            ],
            "image/png": "[encoded data removed]"
          },
          "metadata": {
            "needs_background": "light"
          }
        }
      ]
    },
    {
      "cell_type": "markdown",
      "source": [
        "Видим, что результаты немного поменялись. Стали сильнее влиять такие признаки как жилая площадь и число фотографий в объявлении, слабее - расстояние до аэропорта. Расстояние до центра и город перестали влиять, что логично, учитывая что мы не рассматриваем объявления вне центра Питера. Единственный нелогичный момент состоит в том, что когда мы рассматривали Питер, имя города было на третьем месте на snap-графике, хотя значения этого признака одинаковы для всех строк. Причем feature_importance показал в этом смысле максимально ожидаемые результаты, т.е. дал нулевую важность центра и города после обучения на третьем датасете и нулевую важность города, но не центра - на втором. Возможно, snap-график просто не очень хорошо подходит для отображения категориальных признаков"
      ],
      "metadata": {
        "id": "4ePKAMKSqM1b"
      }
    },
    {
      "cell_type": "markdown",
      "source": [
        "## Шаг 5. Общий вывод"
      ],
      "metadata": {
        "id": "n06x9LGwtNar"
      }
    },
    {
      "cell_type": "markdown",
      "source": [
        "Итак, стоимость в большей степени зависит от следующих параметров:\n",
        "\n",
        "1) Расстояние до центра города\n",
        "\n",
        "2) Площадь квартиры\n",
        "\n",
        "3) Число этажей в доме\n",
        "\n",
        "4) Город\n",
        "\n",
        "5) Площадь кухни\n",
        "\n",
        "Для Питера ожидаемо перестаёт влиять город, появляется влияние расстояния до ближайшего аэропорта\n",
        "\n",
        "Для центра Питера ожидаемо перестают влиять город и расстояние до центра, появляется влияние жилой площади и числа фотографий в объявлении\n",
        "\n",
        "Более подробные результаты представлены на графиках. Также мы научились предсказывать стоимость квартиры со средней погрешностью на объекте 14% (MAPE - среднее отношение модуля отклонения к реальному значению)"
      ],
      "metadata": {
        "id": "_VMOjTEztYnG"
      }
    }
  ]
}